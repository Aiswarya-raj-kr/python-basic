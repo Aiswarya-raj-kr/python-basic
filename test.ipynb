{
  "nbformat": 4,
  "nbformat_minor": 0,
  "metadata": {
    "colab": {
      "provenance": []
    },
    "kernelspec": {
      "name": "python3",
      "display_name": "Python 3"
    },
    "language_info": {
      "name": "python"
    }
  },
  "cells": [
    {
      "cell_type": "markdown",
      "source": [
        "Print first 10 natural numbers using while loop"
      ],
      "metadata": {
        "id": "h043CT0WtO37"
      }
    },
    {
      "cell_type": "code",
      "execution_count": null,
      "metadata": {
        "colab": {
          "base_uri": "https://localhost:8080/"
        },
        "id": "cQXZ3-yntNru",
        "outputId": "e1a87e75-1da6-4d5e-c598-6ba52f991838"
      },
      "outputs": [
        {
          "output_type": "stream",
          "name": "stdout",
          "text": [
            "1\n",
            "2\n",
            "3\n",
            "4\n",
            "5\n",
            "6\n",
            "7\n",
            "8\n",
            "9\n",
            "10\n"
          ]
        }
      ],
      "source": [
        "i=0\n",
        "while i<10:\n",
        "  i+=1\n",
        "  print(i)"
      ]
    },
    {
      "cell_type": "markdown",
      "source": [
        " Print the following pattern"
      ],
      "metadata": {
        "id": "VpuvQWUNuPSp"
      }
    },
    {
      "cell_type": "code",
      "source": [
        "rows = 5\n",
        "for i in range(1, rows + 1):\n",
        "    for j in range(1, i + 1):\n",
        "        print(j, end=\" \")\n",
        "    print(\"\")"
      ],
      "metadata": {
        "colab": {
          "base_uri": "https://localhost:8080/"
        },
        "id": "bWUGg7cTuVHB",
        "outputId": "39a0d41b-ba8e-4f57-a619-3c94ea2f5a69"
      },
      "execution_count": null,
      "outputs": [
        {
          "output_type": "stream",
          "name": "stdout",
          "text": [
            "1 \n",
            "1 2 \n",
            "1 2 3 \n",
            "1 2 3 4 \n",
            "1 2 3 4 5 \n"
          ]
        }
      ]
    },
    {
      "cell_type": "markdown",
      "source": [
        "Calculate sum of all numbers from 1 to a given number"
      ],
      "metadata": {
        "id": "RiqYIlOWxGCX"
      }
    },
    {
      "cell_type": "code",
      "source": [
        "s=0\n",
        "for i in range (1,11):\n",
        "  s=s+i\n",
        "print(\"sum of numbers\",s)"
      ],
      "metadata": {
        "colab": {
          "base_uri": "https://localhost:8080/"
        },
        "id": "NMrTDUufxLOH",
        "outputId": "b1b7d1a2-cb4f-4c79-c72c-218aa63427bb"
      },
      "execution_count": null,
      "outputs": [
        {
          "output_type": "stream",
          "name": "stdout",
          "text": [
            "sum of numbers 55\n"
          ]
        }
      ]
    },
    {
      "cell_type": "markdown",
      "source": [
        "Print multiplication table of a given number"
      ],
      "metadata": {
        "id": "ZzWwt-uCxqFn"
      }
    },
    {
      "cell_type": "code",
      "source": [
        "i=0\n",
        "while i<20:\n",
        "  i+=2\n",
        "  print(i)\n"
      ],
      "metadata": {
        "colab": {
          "base_uri": "https://localhost:8080/"
        },
        "id": "tn7eMQC5yVCW",
        "outputId": "a25c97bd-9ee2-4e90-ca46-b1a3f73df78c"
      },
      "execution_count": null,
      "outputs": [
        {
          "output_type": "stream",
          "name": "stdout",
          "text": [
            "2\n",
            "4\n",
            "6\n",
            "8\n",
            "10\n",
            "12\n",
            "14\n",
            "16\n",
            "18\n",
            "20\n"
          ]
        }
      ]
    },
    {
      "cell_type": "markdown",
      "source": [
        "Display numbers from a list using a loop"
      ],
      "metadata": {
        "id": "l9Y6shhKzG6O"
      }
    },
    {
      "cell_type": "code",
      "source": [
        "numbers=[12, 75, 150, 180, 145, 525, 50]\n",
        "for i in numbers:\n",
        "  if i> 500:\n",
        "      break\n",
        "  elif i > 150:\n",
        "      continue\n",
        "  elif i%5 == 0:\n",
        "      print(i)\n",
        "\n",
        "\n",
        "\n"
      ],
      "metadata": {
        "colab": {
          "base_uri": "https://localhost:8080/"
        },
        "id": "yuqQt_0EzHwG",
        "outputId": "84356d34-c2c3-4dab-e7cb-96c7d1e7e6a3"
      },
      "execution_count": null,
      "outputs": [
        {
          "output_type": "stream",
          "name": "stdout",
          "text": [
            "75\n",
            "150\n",
            "145\n"
          ]
        }
      ]
    },
    {
      "cell_type": "markdown",
      "source": [
        " Count the total number of digits in a number"
      ],
      "metadata": {
        "id": "NZlOBQeY2NEE"
      }
    },
    {
      "cell_type": "code",
      "source": [
        "n=75869\n",
        "count=0\n",
        "while n!=0:\n",
        "  count=count+1\n",
        "  n=n//10\n",
        "print(\"total number of digits\",count)"
      ],
      "metadata": {
        "colab": {
          "base_uri": "https://localhost:8080/"
        },
        "id": "lik76rey2aZM",
        "outputId": "f424f852-ddcb-4458-fa5c-e6c49cd93c53"
      },
      "execution_count": null,
      "outputs": [
        {
          "output_type": "stream",
          "name": "stdout",
          "text": [
            "total number of digits 5\n"
          ]
        }
      ]
    },
    {
      "cell_type": "markdown",
      "source": [
        "Print the following pattern"
      ],
      "metadata": {
        "id": "VXW_HHE14NPr"
      }
    },
    {
      "cell_type": "code",
      "source": [
        "rows = 5\n",
        "for i in range(1, rows + 1):\n",
        "    for j in range(1, i + 1):\n",
        "        print(j, end=\" \")\n",
        "    print(\"\")"
      ],
      "metadata": {
        "colab": {
          "base_uri": "https://localhost:8080/"
        },
        "id": "IJ_KMyG54OWr",
        "outputId": "88df9cf6-a359-4c34-9c4a-f1bae75973d4"
      },
      "execution_count": null,
      "outputs": [
        {
          "output_type": "stream",
          "name": "stdout",
          "text": [
            "1 \n",
            "1 2 \n",
            "1 2 3 \n",
            "1 2 3 4 \n",
            "1 2 3 4 5 \n"
          ]
        }
      ]
    },
    {
      "cell_type": "code",
      "source": [
        "n = 5\n",
        "k = 5\n",
        "for i in range(0,n+1):\n",
        "    for j in range(k-i,0,-1):\n",
        "        print(j,end=' ')\n",
        "    print()"
      ],
      "metadata": {
        "colab": {
          "base_uri": "https://localhost:8080/"
        },
        "id": "2vbhXQTZ4o57",
        "outputId": "63927878-1e81-4477-9975-62eb5d10404b"
      },
      "execution_count": null,
      "outputs": [
        {
          "output_type": "stream",
          "name": "stdout",
          "text": [
            "5 4 3 2 1 \n",
            "4 3 2 1 \n",
            "3 2 1 \n",
            "2 1 \n",
            "1 \n",
            "\n"
          ]
        }
      ]
    },
    {
      "cell_type": "markdown",
      "source": [
        "Print list in reverse order using a loop"
      ],
      "metadata": {
        "id": "KoVl-lj15cWz"
      }
    },
    {
      "cell_type": "code",
      "source": [
        "list1=[10,20,30,40,50]\n",
        "list2=reversed(list1)\n",
        "for i in list2:\n",
        "  print(i)"
      ],
      "metadata": {
        "colab": {
          "base_uri": "https://localhost:8080/"
        },
        "id": "I2QRGmaY6k6y",
        "outputId": "188afee0-51cc-400c-9b42-4c7c1ddf602c"
      },
      "execution_count": null,
      "outputs": [
        {
          "output_type": "stream",
          "name": "stdout",
          "text": [
            "50\n",
            "40\n",
            "30\n",
            "20\n",
            "10\n"
          ]
        }
      ]
    },
    {
      "cell_type": "markdown",
      "source": [
        "Display numbers from -10 to -1 using for loop"
      ],
      "metadata": {
        "id": "w1EGjMu-7Nwi"
      }
    },
    {
      "cell_type": "code",
      "source": [
        "\n",
        "for i in range(-11,-1):\n",
        "  i+=1\n",
        "  print(i)"
      ],
      "metadata": {
        "colab": {
          "base_uri": "https://localhost:8080/"
        },
        "id": "__AoUI7v7OgC",
        "outputId": "c3aa696b-a6ff-4eae-bcd2-4fb6ebd5bdf0"
      },
      "execution_count": null,
      "outputs": [
        {
          "output_type": "stream",
          "name": "stdout",
          "text": [
            "-10\n",
            "-9\n",
            "-8\n",
            "-7\n",
            "-6\n",
            "-5\n",
            "-4\n",
            "-3\n",
            "-2\n",
            "-1\n"
          ]
        }
      ]
    },
    {
      "cell_type": "markdown",
      "source": [
        " Display a message “Done” after the successful execution of the for loop"
      ],
      "metadata": {
        "id": "Y6-8b2Ri7xxp"
      }
    },
    {
      "cell_type": "code",
      "source": [
        "for i in range(5):\n",
        "    print(i)\n",
        "print(\"done\")"
      ],
      "metadata": {
        "id": "gA8xRJQt74dy",
        "outputId": "47fd5c1b-8b06-4fa4-fca8-077c1ea12d9a",
        "colab": {
          "base_uri": "https://localhost:8080/"
        }
      },
      "execution_count": null,
      "outputs": [
        {
          "output_type": "stream",
          "name": "stdout",
          "text": [
            "0\n",
            "1\n",
            "2\n",
            "3\n",
            "4\n",
            "done\n"
          ]
        }
      ]
    },
    {
      "cell_type": "markdown",
      "source": [
        "Print all prime numbers within a range"
      ],
      "metadata": {
        "id": "DncjFs-FWcju"
      }
    },
    {
      "cell_type": "code",
      "source": [
        "start = 25\n",
        "end = 50\n",
        "for num in range(start, end + 1):\n",
        "    if num > 1:\n",
        "        for i in range(2, num):\n",
        "            if (num % i) == 0:\n",
        "                break\n",
        "        else:\n",
        "            print(num)\n"
      ],
      "metadata": {
        "colab": {
          "base_uri": "https://localhost:8080/"
        },
        "id": "5Cj--sPMWdwW",
        "outputId": "74cec9c5-8873-4bef-c0cc-b419488d4c60"
      },
      "execution_count": null,
      "outputs": [
        {
          "output_type": "stream",
          "name": "stdout",
          "text": [
            "29\n",
            "31\n",
            "37\n",
            "41\n",
            "43\n",
            "47\n"
          ]
        }
      ]
    },
    {
      "cell_type": "markdown",
      "source": [
        "Display Fibonacci series up to 10 terms"
      ],
      "metadata": {
        "id": "A6HVLF53amnu"
      }
    },
    {
      "cell_type": "code",
      "source": [
        "num1, num2 = 0, 1\n",
        "print(\"Fibonacci sequence:\")\n",
        "for i in range(10):\n",
        "    print(num1, end=\"  \")\n",
        "    res = num1 + num2\n",
        "    num1 = num2\n",
        "    num2 = res"
      ],
      "metadata": {
        "colab": {
          "base_uri": "https://localhost:8080/"
        },
        "id": "1oQVPijnaoRt",
        "outputId": "865f8e02-4bbb-4c8b-98e3-1f1604a539d4"
      },
      "execution_count": null,
      "outputs": [
        {
          "output_type": "stream",
          "name": "stdout",
          "text": [
            "Fibonacci sequence:\n",
            "0  1  1  2  3  5  8  13  21  34  "
          ]
        }
      ]
    },
    {
      "cell_type": "markdown",
      "source": [
        "Find the factorial of a given number"
      ],
      "metadata": {
        "id": "iXjXLUBNcYum"
      }
    },
    {
      "cell_type": "code",
      "source": [
        "num = 5\n",
        "factorial = 1\n",
        "if num < 0:\n",
        "    print(\"Factorial does not exist for negative numbers\")\n",
        "elif num == 0:\n",
        "    print(\"The factorial of 0 is 1\")\n",
        "else:\n",
        "    for i in range(1, num + 1):\n",
        "        factorial = factorial * i\n",
        "    print(\"The factorial of\", num, \"is\", factorial)"
      ],
      "metadata": {
        "colab": {
          "base_uri": "https://localhost:8080/"
        },
        "id": "LWrxAKyZbd9e",
        "outputId": "24ba5e85-0cac-499f-9731-56ab33819540"
      },
      "execution_count": null,
      "outputs": [
        {
          "output_type": "stream",
          "name": "stdout",
          "text": [
            "The factorial of 5 is 120\n"
          ]
        }
      ]
    },
    {
      "cell_type": "code",
      "source": [],
      "metadata": {
        "id": "JK_PXI_VdA--"
      },
      "execution_count": null,
      "outputs": []
    },
    {
      "cell_type": "markdown",
      "source": [
        "Reverse a integer number"
      ],
      "metadata": {
        "id": "Hgswqcn1dEa1"
      }
    },
    {
      "cell_type": "code",
      "source": [
        "num = 76542\n",
        "reverse = 0\n",
        "while num > 0:\n",
        "    reminder = num % 10\n",
        "    reverse= (reverse* 10) + reminder\n",
        "    num = num // 10\n",
        "print(\"Revere Number \", reverse)"
      ],
      "metadata": {
        "colab": {
          "base_uri": "https://localhost:8080/"
        },
        "id": "JsTlhB3wdFfO",
        "outputId": "a30c54c6-b397-45a5-8a00-8fcafffd075e"
      },
      "execution_count": null,
      "outputs": [
        {
          "output_type": "stream",
          "name": "stdout",
          "text": [
            "Revere Number  24567\n"
          ]
        }
      ]
    },
    {
      "cell_type": "markdown",
      "source": [
        "Calculate the cube of all numbers from 1 to a given number"
      ],
      "metadata": {
        "id": "uKJieaxDdjYO"
      }
    },
    {
      "cell_type": "code",
      "source": [
        "num=5\n",
        "for i in range(1,6+1):\n",
        "  print(i*i*i)\n",
        "  i+=1"
      ],
      "metadata": {
        "colab": {
          "base_uri": "https://localhost:8080/"
        },
        "id": "cLmc1owfdkVX",
        "outputId": "6970da5d-20be-4a14-ee73-f2bdba87aac7"
      },
      "execution_count": null,
      "outputs": [
        {
          "output_type": "stream",
          "name": "stdout",
          "text": [
            "1\n",
            "8\n",
            "27\n",
            "64\n",
            "125\n",
            "216\n"
          ]
        }
      ]
    },
    {
      "cell_type": "code",
      "source": [],
      "metadata": {
        "id": "-528SqfXd_id"
      },
      "execution_count": null,
      "outputs": []
    },
    {
      "cell_type": "markdown",
      "source": [
        "Find the sum of a series of a number up to n terms"
      ],
      "metadata": {
        "id": "Lvy-6XbHeFfu"
      }
    },
    {
      "cell_type": "markdown",
      "source": [
        "Print the following pattern"
      ],
      "metadata": {
        "id": "5lKrNlASe9uW"
      }
    },
    {
      "cell_type": "code",
      "source": [
        "rows = 5\n",
        "for i in range(0, rows):\n",
        "    for j in range(0, i + 1):\n",
        "        print(\"*\", end=' ')\n",
        "    print(\"\\r\")\n",
        "\n",
        "for i in range(rows, 0, -1):\n",
        "    for j in range(0, i - 1):\n",
        "        print(\"*\", end=' ')\n",
        "    print(\"\\r\")"
      ],
      "metadata": {
        "colab": {
          "base_uri": "https://localhost:8080/"
        },
        "id": "kx0XMTRfe0w2",
        "outputId": "57fd2aac-57ea-4a1a-8667-be93af1f1ab7"
      },
      "execution_count": null,
      "outputs": [
        {
          "output_type": "stream",
          "name": "stdout",
          "text": [
            "* \r\n",
            "* * \r\n",
            "* * * \r\n",
            "* * * * \r\n",
            "* * * * * \r\n",
            "* * * * \r\n",
            "* * * \r\n",
            "* * \r\n",
            "* \r\n",
            "\r\n"
          ]
        }
      ]
    },
    {
      "cell_type": "markdown",
      "source": [
        "create multiplication table in python"
      ],
      "metadata": {
        "id": "WNqH_IR8fAGl"
      }
    },
    {
      "cell_type": "code",
      "source": [
        "for i in range(1, 5):\n",
        "  print('multiplication of:', i)\n",
        "  for j in range(1, 11):\n",
        "    print(f\" {i * j}\", end=\"\")\n",
        "  print()"
      ],
      "metadata": {
        "colab": {
          "base_uri": "https://localhost:8080/"
        },
        "id": "iG4UyOl-fNgO",
        "outputId": "a1b67386-7ada-4e32-fd56-2df057d928d4"
      },
      "execution_count": null,
      "outputs": [
        {
          "output_type": "stream",
          "name": "stdout",
          "text": [
            "multiplication of: 1\n",
            " 1 2 3 4 5 6 7 8 9 10\n",
            "multiplication of: 2\n",
            " 2 4 6 8 10 12 14 16 18 20\n",
            "multiplication of: 3\n",
            " 3 6 9 12 15 18 21 24 27 30\n",
            "multiplication of: 4\n",
            " 4 8 12 16 20 24 28 32 36 40\n"
          ]
        }
      ]
    },
    {
      "cell_type": "markdown",
      "source": [
        " Print the alternate numbers pattern"
      ],
      "metadata": {
        "id": "ikkkNNodfqH1"
      }
    },
    {
      "cell_type": "code",
      "source": [],
      "metadata": {
        "id": "PP3NFSvafq6G"
      },
      "execution_count": null,
      "outputs": []
    },
    {
      "cell_type": "code",
      "metadata": {
        "colab": {
          "base_uri": "https://localhost:8080/"
        },
        "id": "7c568396",
        "outputId": "57250944-fbef-4956-970e-dab060c73d2e"
      },
      "source": [
        "rows = 5\n",
        "num = 1\n",
        "for i in range(1, rows + 1):\n",
        "    for j in range(1, i + 1):\n",
        "        print(num, end=\" \")\n",
        "        num += 1\n",
        "    print(\"\")"
      ],
      "execution_count": null,
      "outputs": [
        {
          "output_type": "stream",
          "name": "stdout",
          "text": [
            "1 \n",
            "2 3 \n",
            "4 5 6 \n",
            "7 8 9 10 \n",
            "11 12 13 14 15 \n"
          ]
        }
      ]
    },
    {
      "cell_type": "markdown",
      "source": [
        " Find largest and smallest digit in a number"
      ],
      "metadata": {
        "id": "LZlrc6pNgHuN"
      }
    },
    {
      "cell_type": "code",
      "source": [],
      "metadata": {
        "id": "kSZ-vBHwgIf1"
      },
      "execution_count": null,
      "outputs": []
    },
    {
      "cell_type": "code",
      "metadata": {
        "colab": {
          "base_uri": "https://localhost:8080/"
        },
        "id": "e8ed0c5c",
        "outputId": "647c1be6-194d-4fd1-9a20-5e5a553e2eb8"
      },
      "source": [
        "num = 123456789\n",
        "num_str = str(num)\n",
        "largest_digit = max(num_str)\n",
        "smallest_digit = min(num_str)\n",
        "print(\"Largest :\", largest_digit)\n",
        "print(\"Smallest :\", smallest_digit)"
      ],
      "execution_count": null,
      "outputs": [
        {
          "output_type": "stream",
          "name": "stdout",
          "text": [
            "Largest : 9\n",
            "Smallest : 1\n"
          ]
        }
      ]
    },
    {
      "cell_type": "code",
      "metadata": {
        "id": "e9c0d8c8"
      },
      "source": [
        "text = \"This is a sentence with several words of varying lengths\"\n",
        "words = text.split()\n",
        "largest_word = \"\"\n",
        "for word in words:\n",
        "  if len(word) > len(largest_word):\n",
        "    largest_word = word\n",
        "print(\"The largest word is:\", largest_word)"
      ],
      "execution_count": null,
      "outputs": []
    },
    {
      "cell_type": "code",
      "metadata": {
        "id": "5d040696-c48b-4f64-b216-662985689f13"
      },
      "source": [
        "def is_palindrome(s):\n",
        "  # Use slicing with a step of -1 to reverse the string\n",
        "  return s == s[::-1]\n",
        "\n",
        "# Get input from the user\n",
        "input_string = input(\"Enter a string: \")\n",
        "\n",
        "# Test the function with user input\n",
        "if is_palindrome(input_string):\n",
        "  print(f\"'{input_string}' is a palindrome.\")\n",
        "else:\n",
        "  print(f\"'{input_string}' is not a palindrome.\")"
      ],
      "execution_count": null,
      "outputs": []
    }
  ]
}