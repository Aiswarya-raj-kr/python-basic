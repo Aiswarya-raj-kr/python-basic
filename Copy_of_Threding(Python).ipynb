{
  "nbformat": 4,
  "nbformat_minor": 0,
  "metadata": {
    "colab": {
      "provenance": []
    },
    "kernelspec": {
      "name": "python3",
      "display_name": "Python 3"
    },
    "language_info": {
      "name": "python"
    }
  },
  "cells": [
    {
      "cell_type": "markdown",
      "source": [
        "# **What is Threading?**\n",
        "\n",
        "Threading allows multiple parts of a prograrm to run concurrently.\n",
        "\n",
        "- **Useful for tasks like:**\n",
        " - Handling multiple user requests.\n",
        " - Background tsks (eg. monitoring sensors).\n",
        " - Downloading multiple files simultaneously."
      ],
      "metadata": {
        "id": "lDHThw33y2uW"
      }
    },
    {
      "cell_type": "markdown",
      "source": [
        "## Example\n",
        "  **Smart Home App :-**\n",
        "   - Mananging multiple tasks like:\n",
        "    - Secutiy camera feed.\n",
        "    - Processing tempreture data.\n",
        "    - Respnding to user commands.\n",
        "\n",
        "- Threading ensures smooth and efficient functioning."
      ],
      "metadata": {
        "id": "ra3wJStp-15F"
      }
    },
    {
      "cell_type": "markdown",
      "source": [
        "# How to use Threading in Python\n",
        " - 1. Import the threading module.\n",
        " - 2. Create threads using **threading.Thread( )**\n",
        " - 3. Start threads using  ,**start( )**\n",
        " - 4. Wait for threads to finish using **.join( )**"
      ],
      "metadata": {
        "id": "IlMr1R1a_nW0"
      }
    },
    {
      "cell_type": "code",
      "execution_count": null,
      "metadata": {
        "id": "CNOjuzR4x9ED",
        "colab": {
          "base_uri": "https://localhost:8080/"
        },
        "outputId": "3ae00ea5-a75c-44c6-c8b3-5b213ba3464e"
      },
      "outputs": [
        {
          "output_type": "stream",
          "name": "stdout",
          "text": [
            "Thread running\n"
          ]
        }
      ],
      "source": [
        "# Example 1: Basic Thread\n",
        "\n",
        "import threading\n",
        "\n",
        "def task():\n",
        "  print(\"Thread running\")\n",
        "\n",
        "thread = threading.Thread(target=task)\n",
        "thread.start()\n",
        "\n",
        "thread.join()"
      ]
    },
    {
      "cell_type": "code",
      "source": [
        "# Example 2: Multiple Threads\n",
        "\n",
        "import threading\n",
        "\n",
        "def task1():\n",
        "  print(\"Task 1\")\n",
        "\n",
        "def task2():\n",
        "  print(\"Task 2\")\n",
        "\n",
        "\n",
        "t1 = threading.Thread(target=task1)\n",
        "t2 =  threading.Thread(target=task2)\n",
        "\n",
        "t1.start()\n",
        "t2.start()\n",
        "\n",
        "t1.join()\n",
        "t2.join()"
      ],
      "metadata": {
        "colab": {
          "base_uri": "https://localhost:8080/"
        },
        "id": "8N_EkXM6BrF1",
        "outputId": "2aa685cc-f053-4c4d-9e3f-012932872d02"
      },
      "execution_count": null,
      "outputs": [
        {
          "output_type": "stream",
          "name": "stdout",
          "text": [
            "Task 1\n",
            "Task 2\n"
          ]
        }
      ]
    },
    {
      "cell_type": "code",
      "source": [
        "import threading\n",
        "\n",
        "def print_numbers():\n",
        "  for i in range(5):\n",
        "    print(i)\n",
        "\n",
        "\n",
        "thread = threading.Thread(target=print_numbers)\n",
        "thread.start()\n",
        "thread.join()"
      ],
      "metadata": {
        "colab": {
          "base_uri": "https://localhost:8080/"
        },
        "id": "NBKGm4OwCVy1",
        "outputId": "b696143d-cdb3-4b96-95a2-7cb5edfced42"
      },
      "execution_count": null,
      "outputs": [
        {
          "output_type": "stream",
          "name": "stdout",
          "text": [
            "0\n",
            "1\n",
            "2\n",
            "3\n",
            "4\n"
          ]
        }
      ]
    },
    {
      "cell_type": "code",
      "source": [
        "import threading\n",
        "import time\n",
        "\n",
        "def download_file(file):\n",
        "  print(f\"Sownloading{file}...\")\n",
        "  time.sleep(2)\n",
        "  print(f\"{file}downloaded.\")\n",
        "\n",
        "\n",
        "files=[\"file1.txt\",\"file2.txt\",\"file3.txt\"]\n",
        "threads=[threading.Thread(target=download_file,args=(f,))for f in files]\n",
        "\n",
        "for t in threads:\n",
        "  t.start()\n",
        "\n",
        "for t in threads:\n",
        "  t.join()"
      ],
      "metadata": {
        "colab": {
          "base_uri": "https://localhost:8080/"
        },
        "id": "r7EFa31mC2Lc",
        "outputId": "22bc7ce0-db5f-4b42-dcad-aadbf870ecb3"
      },
      "execution_count": null,
      "outputs": [
        {
          "output_type": "stream",
          "name": "stdout",
          "text": [
            "Sownloadingfile1.txt...\n",
            "Sownloadingfile2.txt...\n",
            "Sownloadingfile3.txt...\n",
            "file2.txtdownloaded.\n",
            "file3.txtdownloaded.\n",
            "file1.txtdownloaded.\n"
          ]
        }
      ]
    },
    {
      "cell_type": "code",
      "source": [
        "import threading\n",
        "dir(threading)\n",
        "help(threading._RLock)\n",
        "import sys\n",
        "dir(sys)\n",
        "help(sys.argv)"
      ],
      "metadata": {
        "colab": {
          "base_uri": "https://localhost:8080/"
        },
        "id": "IBMYV5flGhJb",
        "outputId": "f0aa4e45-cc95-4d24-b387-9eb2ac04f5af",
        "collapsed": true
      },
      "execution_count": null,
      "outputs": [
        {
          "output_type": "stream",
          "name": "stdout",
          "text": [
            "Help on class _RLock in module threading:\n",
            "\n",
            "class _RLock(builtins.object)\n",
            " |  This class implements reentrant lock objects.\n",
            " |  \n",
            " |  A reentrant lock must be released by the thread that acquired it. Once a\n",
            " |  thread has acquired a reentrant lock, the same thread may acquire it\n",
            " |  again without blocking; the thread must release it once for each time it\n",
            " |  has acquired it.\n",
            " |  \n",
            " |  Methods defined here:\n",
            " |  \n",
            " |  __enter__ = acquire(self, blocking=True, timeout=-1)\n",
            " |  \n",
            " |  __exit__(self, t, v, tb)\n",
            " |  \n",
            " |  __init__(self)\n",
            " |      Initialize self.  See help(type(self)) for accurate signature.\n",
            " |  \n",
            " |  __repr__(self)\n",
            " |      Return repr(self).\n",
            " |  \n",
            " |  acquire(self, blocking=True, timeout=-1)\n",
            " |      Acquire a lock, blocking or non-blocking.\n",
            " |      \n",
            " |      When invoked without arguments: if this thread already owns the lock,\n",
            " |      increment the recursion level by one, and return immediately. Otherwise,\n",
            " |      if another thread owns the lock, block until the lock is unlocked. Once\n",
            " |      the lock is unlocked (not owned by any thread), then grab ownership, set\n",
            " |      the recursion level to one, and return. If more than one thread is\n",
            " |      blocked waiting until the lock is unlocked, only one at a time will be\n",
            " |      able to grab ownership of the lock. There is no return value in this\n",
            " |      case.\n",
            " |      \n",
            " |      When invoked with the blocking argument set to true, do the same thing\n",
            " |      as when called without arguments, and return true.\n",
            " |      \n",
            " |      When invoked with the blocking argument set to false, do not block. If a\n",
            " |      call without an argument would block, return false immediately;\n",
            " |      otherwise, do the same thing as when called without arguments, and\n",
            " |      return true.\n",
            " |      \n",
            " |      When invoked with the floating-point timeout argument set to a positive\n",
            " |      value, block for at most the number of seconds specified by timeout\n",
            " |      and as long as the lock cannot be acquired.  Return true if the lock has\n",
            " |      been acquired, false if the timeout has elapsed.\n",
            " |  \n",
            " |  release(self)\n",
            " |      Release a lock, decrementing the recursion level.\n",
            " |      \n",
            " |      If after the decrement it is zero, reset the lock to unlocked (not owned\n",
            " |      by any thread), and if any other threads are blocked waiting for the\n",
            " |      lock to become unlocked, allow exactly one of them to proceed. If after\n",
            " |      the decrement the recursion level is still nonzero, the lock remains\n",
            " |      locked and owned by the calling thread.\n",
            " |      \n",
            " |      Only call this method when the calling thread owns the lock. A\n",
            " |      RuntimeError is raised if this method is called when the lock is\n",
            " |      unlocked.\n",
            " |      \n",
            " |      There is no return value.\n",
            " |  \n",
            " |  ----------------------------------------------------------------------\n",
            " |  Data descriptors defined here:\n",
            " |  \n",
            " |  __dict__\n",
            " |      dictionary for instance variables\n",
            " |  \n",
            " |  __weakref__\n",
            " |      list of weak references to the object\n",
            "\n",
            "Help on list object:\n",
            "\n",
            "class list(object)\n",
            " |  list(iterable=(), /)\n",
            " |  \n",
            " |  Built-in mutable sequence.\n",
            " |  \n",
            " |  If no argument is given, the constructor creates a new empty list.\n",
            " |  The argument must be an iterable if specified.\n",
            " |  \n",
            " |  Methods defined here:\n",
            " |  \n",
            " |  __add__(self, value, /)\n",
            " |      Return self+value.\n",
            " |  \n",
            " |  __contains__(self, key, /)\n",
            " |      Return key in self.\n",
            " |  \n",
            " |  __delitem__(self, key, /)\n",
            " |      Delete self[key].\n",
            " |  \n",
            " |  __eq__(self, value, /)\n",
            " |      Return self==value.\n",
            " |  \n",
            " |  __ge__(self, value, /)\n",
            " |      Return self>=value.\n",
            " |  \n",
            " |  __getattribute__(self, name, /)\n",
            " |      Return getattr(self, name).\n",
            " |  \n",
            " |  __getitem__(...)\n",
            " |      x.__getitem__(y) <==> x[y]\n",
            " |  \n",
            " |  __gt__(self, value, /)\n",
            " |      Return self>value.\n",
            " |  \n",
            " |  __iadd__(self, value, /)\n",
            " |      Implement self+=value.\n",
            " |  \n",
            " |  __imul__(self, value, /)\n",
            " |      Implement self*=value.\n",
            " |  \n",
            " |  __init__(self, /, *args, **kwargs)\n",
            " |      Initialize self.  See help(type(self)) for accurate signature.\n",
            " |  \n",
            " |  __iter__(self, /)\n",
            " |      Implement iter(self).\n",
            " |  \n",
            " |  __le__(self, value, /)\n",
            " |      Return self<=value.\n",
            " |  \n",
            " |  __len__(self, /)\n",
            " |      Return len(self).\n",
            " |  \n",
            " |  __lt__(self, value, /)\n",
            " |      Return self<value.\n",
            " |  \n",
            " |  __mul__(self, value, /)\n",
            " |      Return self*value.\n",
            " |  \n",
            " |  __ne__(self, value, /)\n",
            " |      Return self!=value.\n",
            " |  \n",
            " |  __repr__(self, /)\n",
            " |      Return repr(self).\n",
            " |  \n",
            " |  __reversed__(self, /)\n",
            " |      Return a reverse iterator over the list.\n",
            " |  \n",
            " |  __rmul__(self, value, /)\n",
            " |      Return value*self.\n",
            " |  \n",
            " |  __setitem__(self, key, value, /)\n",
            " |      Set self[key] to value.\n",
            " |  \n",
            " |  __sizeof__(self, /)\n",
            " |      Return the size of the list in memory, in bytes.\n",
            " |  \n",
            " |  append(self, object, /)\n",
            " |      Append object to the end of the list.\n",
            " |  \n",
            " |  clear(self, /)\n",
            " |      Remove all items from list.\n",
            " |  \n",
            " |  copy(self, /)\n",
            " |      Return a shallow copy of the list.\n",
            " |  \n",
            " |  count(self, value, /)\n",
            " |      Return number of occurrences of value.\n",
            " |  \n",
            " |  extend(self, iterable, /)\n",
            " |      Extend list by appending elements from the iterable.\n",
            " |  \n",
            " |  index(self, value, start=0, stop=9223372036854775807, /)\n",
            " |      Return first index of value.\n",
            " |      \n",
            " |      Raises ValueError if the value is not present.\n",
            " |  \n",
            " |  insert(self, index, object, /)\n",
            " |      Insert object before index.\n",
            " |  \n",
            " |  pop(self, index=-1, /)\n",
            " |      Remove and return item at index (default last).\n",
            " |      \n",
            " |      Raises IndexError if list is empty or index is out of range.\n",
            " |  \n",
            " |  remove(self, value, /)\n",
            " |      Remove first occurrence of value.\n",
            " |      \n",
            " |      Raises ValueError if the value is not present.\n",
            " |  \n",
            " |  reverse(self, /)\n",
            " |      Reverse *IN PLACE*.\n",
            " |  \n",
            " |  sort(self, /, *, key=None, reverse=False)\n",
            " |      Sort the list in ascending order and return None.\n",
            " |      \n",
            " |      The sort is in-place (i.e. the list itself is modified) and stable (i.e. the\n",
            " |      order of two equal elements is maintained).\n",
            " |      \n",
            " |      If a key function is given, apply it once to each list item and sort them,\n",
            " |      ascending or descending, according to their function values.\n",
            " |      \n",
            " |      The reverse flag can be set to sort in descending order.\n",
            " |  \n",
            " |  ----------------------------------------------------------------------\n",
            " |  Class methods defined here:\n",
            " |  \n",
            " |  __class_getitem__(...)\n",
            " |      See PEP 585\n",
            " |  \n",
            " |  ----------------------------------------------------------------------\n",
            " |  Static methods defined here:\n",
            " |  \n",
            " |  __new__(*args, **kwargs)\n",
            " |      Create and return a new object.  See help(type) for accurate signature.\n",
            " |  \n",
            " |  ----------------------------------------------------------------------\n",
            " |  Data and other attributes defined here:\n",
            " |  \n",
            " |  __hash__ = None\n",
            "\n"
          ]
        }
      ]
    },
    {
      "cell_type": "markdown",
      "source": [
        "## 3.Using Threads with Arguments"
      ],
      "metadata": {
        "id": "jz_TXxuF575i"
      }
    },
    {
      "cell_type": "code",
      "source": [
        "import threading\n",
        "def greet(name):\n",
        "  print(f\"Hello, {name}!\")\n",
        "\n",
        "thread= threading.Thread(target=greet, args=(\"Alice\",))\n",
        "thread.start()\n",
        "thread.join()\n"
      ],
      "metadata": {
        "colab": {
          "base_uri": "https://localhost:8080/"
        },
        "id": "ZJrBp1Xm3Wqb",
        "outputId": "2c2b8ccf-0e01-420a-cf2b-1917849d55c8"
      },
      "execution_count": null,
      "outputs": [
        {
          "output_type": "stream",
          "name": "stdout",
          "text": [
            "Hello, Alice!\n"
          ]
        }
      ]
    },
    {
      "cell_type": "markdown",
      "source": [
        "## two threading"
      ],
      "metadata": {
        "id": "8Z9aJgn664JJ"
      }
    },
    {
      "cell_type": "code",
      "source": [
        "import threading\n",
        "import time\n",
        "\n",
        "# Function for the chef's work (Thread 1)\n",
        "def chef_work():\n",
        "    for i in range(5):  # Chef prepares 5 dishes\n",
        "        print(f\"Chef: Preparing dish {i + 1}...\")\n",
        "        time.sleep(2)  # Simulate time taken to prepare a dish\n",
        "        if i == 2:  # Assistant starts washing utensils during the 3rd dish\n",
        "            print(\"Chef: Calling assistant to wash utensils.\")\n",
        "            time.sleep(1)  # Simulate time taken to call the assistant\n",
        "            assistant_thread = threading.Thread(target=assistant_work)\n",
        "            assistant_thread.start()\n",
        "            assistant_thread.join()  # Wait for the assistant to finish\n",
        "            print(\"Chef: Assistant done. Resuming dish preparation.\")\n",
        "    print(\"Chef: All dishes are prepared.\")\n",
        "\n",
        "# Function for the assistant's work (Thread 2)\n",
        "def assistant_work():\n",
        "    for j in range(3):  # Assistant washes 3 utensils\n",
        "        print(f\"  Assistant: Washing utensil {j + 1}...\")\n",
        "        time.sleep(2)  # Simulate time taken to wash each utensil\n",
        "    print(\"  Assistant: All utensils are clean.\")\n",
        "\n",
        "\n",
        "print(\"Kitchen: Starting work.\")\n",
        "chef_thread = threading.Thread(target=chef_work)\n",
        "chef_thread.start()\n",
        "chef_thread.join()  # Wait for the chef to complete their work\n",
        "print(\"Kitchen: All work completed.\")\n"
      ],
      "metadata": {
        "colab": {
          "base_uri": "https://localhost:8080/"
        },
        "id": "uYemnrp26wAB",
        "outputId": "bff639d4-3cd2-4b7b-fbb1-aecc70e22730"
      },
      "execution_count": null,
      "outputs": [
        {
          "output_type": "stream",
          "name": "stdout",
          "text": [
            "Kitchen: Starting work.\n",
            "Chef: Preparing dish 1...\n",
            "Chef: Preparing dish 2...\n",
            "Chef: Preparing dish 3...\n",
            "Chef: Calling assistant to wash utensils.\n",
            "  Assistant: Washing utensil 1...\n",
            "  Assistant: Washing utensil 2...\n",
            "  Assistant: Washing utensil 3...\n",
            "  Assistant: All utensils are clean.\n",
            "Chef: Assistant done. Resuming dish preparation.\n",
            "Chef: Preparing dish 4...\n",
            "Chef: Preparing dish 5...\n",
            "Chef: All dishes are prepared.\n",
            "Kitchen: All work completed.\n"
          ]
        }
      ]
    },
    {
      "cell_type": "markdown",
      "source": [
        "### Qustion\n",
        "Write a Python program using threading to simulate music playback and lyrics downloading:\n",
        "\n",
        "Music playback runs in one thread for 5 seconds, printing a message each second.\n",
        "During the 3rd second, a separate thread starts to simulate downloading lyrics, which takes 3 seconds.\n",
        "Ensure the music playback waits for the lyrics to finish downloading before continuing."
      ],
      "metadata": {
        "id": "zGJGz7DCDCKH"
      }
    },
    {
      "cell_type": "markdown",
      "source": [
        "\n",
        "\n",
        "**Output**\n",
        "\n",
        "Music Player: Starting music playback.\n",
        "Music Player: Playing music... 1 seconds\n",
        "Music Player: Playing music... 2 seconds\n",
        "Music Player: Playing music... 3 seconds\n",
        "Music Player: Downloading lyrics in the background.\n",
        "  Downloading lyrics... 1 seconds\n",
        "  Downloading lyrics... 2 seconds\n",
        "  Downloading lyrics... 3 seconds\n",
        "  Lyrics download completed.\n",
        "Music Player: Lyrics downloaded.\n",
        "Music Player: Playing music... 4 seconds\n",
        "Music Player: Playing music... 5 seconds\n",
        "Music Player: Playback ended"
      ],
      "metadata": {
        "id": "xRHyPH3pEVju"
      }
    },
    {
      "cell_type": "code",
      "source": [
        "import threading\n",
        "import time\n",
        "\n",
        "\n",
        "def Music_player():\n",
        "\n",
        "  print(f\"Music Player: Starting music playback.\")\n",
        "  for i in range(5):\n",
        "    print(f\"Music Player: Playing music {i+1} seconds\")\n",
        "    time.sleep(2)\n",
        "\n",
        "    if i==2:\n",
        "      print(f\"Music Player: Downloading lyrics in the background.\")\n",
        "      time.sleep(3)\n",
        "      down_thread= threading.Thread(target=down_lyrics)\n",
        "      down_thread.start()\n",
        "      down_thread.join()\n",
        "  print(f\"Music Player: Playback ended\")\n",
        "\n",
        "def down_lyrics():\n",
        "\n",
        "  for j in range(3):\n",
        "    print(f\"Downloading lyrics... {j+1} seconds.\")\n",
        "\n",
        "music_thread= threading.Thread(target=Music_player)\n",
        "music_thread.start()\n",
        "music_thread.join()\n",
        "print(\"Lyrics download completed.\")\n"
      ],
      "metadata": {
        "colab": {
          "base_uri": "https://localhost:8080/"
        },
        "id": "bUztoPXwB9JI",
        "outputId": "a462cdf2-2888-491f-ac08-278056ac7d1d"
      },
      "execution_count": null,
      "outputs": [
        {
          "output_type": "stream",
          "name": "stdout",
          "text": [
            "Music Player: Starting music playback.\n",
            "Music Player: Playing music 1 seconds\n",
            "Music Player: Playing music 2 seconds\n",
            "Music Player: Playing music 3 seconds\n",
            "Music Player: Downloading lyrics in the background.\n",
            "Downloading lyrics... 1 seconds.\n",
            "Downloading lyrics... 2 seconds.\n",
            "Downloading lyrics... 3 seconds.\n",
            "Music Player: Playing music 4 seconds\n",
            "Music Player: Playing music 5 seconds\n",
            "Music Player: Playback ended\n",
            "Lyrics download completed.\n"
          ]
        }
      ]
    },
    {
      "cell_type": "code",
      "source": [],
      "metadata": {
        "id": "qa0--I0SIuHd"
      },
      "execution_count": null,
      "outputs": []
    }
  ]
}