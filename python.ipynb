{
  "nbformat": 4,
  "nbformat_minor": 0,
  "metadata": {
    "colab": {
      "provenance": [],
      "toc_visible": true,
      "authorship_tag": "ABX9TyMY5ECFwZVUFzaoKoTtJa7n",
      "include_colab_link": true
    },
    "kernelspec": {
      "name": "python3",
      "display_name": "Python 3"
    },
    "language_info": {
      "name": "python"
    }
  },
  "cells": [
    {
      "cell_type": "markdown",
      "metadata": {
        "id": "view-in-github",
        "colab_type": "text"
      },
      "source": [
        "<a href=\"https://colab.research.google.com/github/Aiswarya-raj-kr/python-basic/blob/main/python.ipynb\" target=\"_parent\"><img src=\"https://colab.research.google.com/assets/colab-badge.svg\" alt=\"Open In Colab\"/></a>"
      ]
    },
    {
      "cell_type": "code",
      "execution_count": null,
      "metadata": {
        "colab": {
          "base_uri": "https://localhost:8080/"
        },
        "id": "45AakpIs1gMl",
        "outputId": "97eab9f2-b550-4d70-d747-2e098e7c6f51"
      },
      "outputs": [
        {
          "output_type": "stream",
          "name": "stdout",
          "text": [
            "5\n"
          ]
        }
      ],
      "source": [
        "a1=5\n",
        "print(a1)"
      ]
    },
    {
      "cell_type": "markdown",
      "source": [
        "# New section"
      ],
      "metadata": {
        "id": "To4nT6aQJpJC"
      }
    },
    {
      "cell_type": "code",
      "source": [
        "print(\"HELLO WORLD\")"
      ],
      "metadata": {
        "colab": {
          "base_uri": "https://localhost:8080/"
        },
        "id": "h7xpfvQk2zkT",
        "outputId": "dba99773-4616-4235-cd79-f5ea94fc7ccb"
      },
      "execution_count": null,
      "outputs": [
        {
          "output_type": "stream",
          "name": "stdout",
          "text": [
            "HELLO WORLD\n"
          ]
        }
      ]
    },
    {
      "cell_type": "markdown",
      "source": [],
      "metadata": {
        "id": "91dvOCu375Py"
      }
    },
    {
      "cell_type": "code",
      "source": [
        "print(4*20)"
      ],
      "metadata": {
        "colab": {
          "base_uri": "https://localhost:8080/"
        },
        "id": "BOqwprLI76JR",
        "outputId": "4ea7c0c7-fed1-4fda-f16d-6733cef5252b"
      },
      "execution_count": null,
      "outputs": [
        {
          "output_type": "stream",
          "name": "stdout",
          "text": [
            "80\n"
          ]
        }
      ]
    },
    {
      "cell_type": "code",
      "source": [
        "\"py\"*5"
      ],
      "metadata": {
        "colab": {
          "base_uri": "https://localhost:8080/",
          "height": 35
        },
        "id": "OfNNUGv08J94",
        "outputId": "e5a33f28-4cf2-4b88-f1aa-4db3fb925986"
      },
      "execution_count": null,
      "outputs": [
        {
          "output_type": "execute_result",
          "data": {
            "text/plain": [
              "'pypypypypy'"
            ],
            "application/vnd.google.colaboratory.intrinsic+json": {
              "type": "string"
            }
          },
          "metadata": {},
          "execution_count": 7
        }
      ]
    },
    {
      "cell_type": "code",
      "source": [
        "\"aiswarya\"*6"
      ],
      "metadata": {
        "colab": {
          "base_uri": "https://localhost:8080/",
          "height": 35
        },
        "id": "rxdIq2xH8XEY",
        "outputId": "c81bcb06-ee14-4c42-ec53-e44c973c0e71"
      },
      "execution_count": null,
      "outputs": [
        {
          "output_type": "execute_result",
          "data": {
            "text/plain": [
              "'aiswaryaaiswaryaaiswaryaaiswaryaaiswaryaaiswarya'"
            ],
            "application/vnd.google.colaboratory.intrinsic+json": {
              "type": "string"
            }
          },
          "metadata": {},
          "execution_count": 8
        }
      ]
    },
    {
      "cell_type": "code",
      "source": [
        "x=795\n",
        "y=26\n",
        "z=x*y\n",
        "print(z)"
      ],
      "metadata": {
        "colab": {
          "base_uri": "https://localhost:8080/"
        },
        "id": "qQVGCGhj8jRp",
        "outputId": "871104b1-998e-47bd-a749-7e5a684b7307"
      },
      "execution_count": null,
      "outputs": [
        {
          "output_type": "stream",
          "name": "stdout",
          "text": [
            "20670\n"
          ]
        }
      ]
    },
    {
      "cell_type": "code",
      "source": [
        "payment_per_day=795\n",
        "days_worked=26\n",
        "total_salary=payment_per_day*days_worked\n",
        "print(total_salary)m"
      ],
      "metadata": {
        "colab": {
          "base_uri": "https://localhost:8080/"
        },
        "id": "-cJLVOE681fQ",
        "outputId": "3de6faff-db05-4a4e-b0f3-03631a827ee7"
      },
      "execution_count": null,
      "outputs": [
        {
          "output_type": "stream",
          "name": "stdout",
          "text": [
            "20670\n"
          ]
        }
      ]
    },
    {
      "cell_type": "code",
      "source": [
        "x,y,z=\"apple\",\"orange\",\"banana\"\n",
        "print(x,y,z)"
      ],
      "metadata": {
        "colab": {
          "base_uri": "https://localhost:8080/"
        },
        "id": "xeAMVEwm9fPB",
        "outputId": "457f28c7-2c12-4f14-b5fc-50e5b52b33ec"
      },
      "execution_count": null,
      "outputs": [
        {
          "output_type": "stream",
          "name": "stdout",
          "text": [
            "apple orange banana\n"
          ]
        }
      ]
    },
    {
      "cell_type": "code",
      "source": [
        "x=\"hello \"\n",
        "y=\"aiswarya\"\n",
        "var=x+y\n",
        "print(var)"
      ],
      "metadata": {
        "colab": {
          "base_uri": "https://localhost:8080/"
        },
        "id": "wSuHiKn8-J2a",
        "outputId": "b2b2c662-6bc9-4195-a710-a4cd3abe9ba1"
      },
      "execution_count": null,
      "outputs": [
        {
          "output_type": "stream",
          "name": "stdout",
          "text": [
            "hello aiswarya\n"
          ]
        }
      ]
    },
    {
      "cell_type": "code",
      "source": [
        "x=\"hello \"\n",
        "y=\"aiswarya\"\n",
        "var=x+y\n",
        "print(var)\n",
        "print(type(var))"
      ],
      "metadata": {
        "colab": {
          "base_uri": "https://localhost:8080/"
        },
        "id": "wUU4-HEk-kTO",
        "outputId": "571051e0-c646-401d-feab-d53542951578"
      },
      "execution_count": null,
      "outputs": [
        {
          "output_type": "stream",
          "name": "stdout",
          "text": [
            "hello aiswarya\n",
            "<class 'str'>\n"
          ]
        }
      ]
    },
    {
      "cell_type": "code",
      "source": [
        "x=\"12345\"\n",
        "y=54321\n",
        "z=int(x)\n",
        "print(z+y)"
      ],
      "metadata": {
        "colab": {
          "base_uri": "https://localhost:8080/"
        },
        "id": "5lfy-RuL-wun",
        "outputId": "fb2b47a3-a3c4-4c14-c491-98c2416c1522"
      },
      "execution_count": null,
      "outputs": [
        {
          "output_type": "stream",
          "name": "stdout",
          "text": [
            "66666\n"
          ]
        }
      ]
    },
    {
      "cell_type": "markdown",
      "source": [
        "# string"
      ],
      "metadata": {
        "id": "CM9FuKuNNIgz"
      }
    },
    {
      "cell_type": "code",
      "source": [
        "x=\"array\"\n",
        "print(x[0])"
      ],
      "metadata": {
        "colab": {
          "base_uri": "https://localhost:8080/"
        },
        "id": "AnWTQodD_Xhf",
        "outputId": "11ae1c6f-e8f1-4a6a-b84c-2bdf7bbf64fb"
      },
      "execution_count": null,
      "outputs": [
        {
          "output_type": "stream",
          "name": "stdout",
          "text": [
            "a\n"
          ]
        }
      ]
    },
    {
      "cell_type": "code",
      "source": [
        "x=\"character\"\n",
        "print(len(x))"
      ],
      "metadata": {
        "colab": {
          "base_uri": "https://localhost:8080/"
        },
        "id": "dmjt3o-c_f-H",
        "outputId": "b85cfc5f-5385-4031-e904-164ad549363d"
      },
      "execution_count": null,
      "outputs": [
        {
          "output_type": "stream",
          "name": "stdout",
          "text": [
            "9\n"
          ]
        }
      ]
    },
    {
      "cell_type": "code",
      "source": [
        "a=\"the above output is true\"\n",
        "print(\"above\" in a)"
      ],
      "metadata": {
        "colab": {
          "base_uri": "https://localhost:8080/"
        },
        "id": "ESxRM7h__2b3",
        "outputId": "b5801069-9c5e-4464-aa14-0517989652e6"
      },
      "execution_count": null,
      "outputs": [
        {
          "output_type": "stream",
          "name": "stdout",
          "text": [
            "True\n"
          ]
        }
      ]
    },
    {
      "cell_type": "code",
      "source": [],
      "metadata": {
        "id": "8Z34BbnwAZUP"
      },
      "execution_count": null,
      "outputs": []
    },
    {
      "cell_type": "code",
      "source": [
        "a=\"the above output is true\"\n",
        "print(\"orange\" in a)"
      ],
      "metadata": {
        "colab": {
          "base_uri": "https://localhost:8080/"
        },
        "outputId": "bb8fb228-408c-4002-87c4-8a9c34758258",
        "id": "PM7cCgFdAbSb"
      },
      "execution_count": null,
      "outputs": [
        {
          "output_type": "stream",
          "name": "stdout",
          "text": [
            "False\n"
          ]
        }
      ]
    },
    {
      "cell_type": "code",
      "source": [
        "voice=\"this is an automated voice by siri\"\n",
        "print(\"hello\"not in voice)"
      ],
      "metadata": {
        "colab": {
          "base_uri": "https://localhost:8080/"
        },
        "id": "IbpnxGeuAkq_",
        "outputId": "9c6f869c-b508-4e51-9e5f-752c5f547667"
      },
      "execution_count": null,
      "outputs": [
        {
          "output_type": "stream",
          "name": "stdout",
          "text": [
            "True\n"
          ]
        }
      ]
    },
    {
      "cell_type": "code",
      "source": [
        "xyz=\"hey my name is python\"\n",
        "print(xyz[2:10])"
      ],
      "metadata": {
        "colab": {
          "base_uri": "https://localhost:8080/"
        },
        "id": "TtiRHk3ZBDOZ",
        "outputId": "f583746b-448a-411b-c578-c2f7228c844b"
      },
      "execution_count": null,
      "outputs": [
        {
          "output_type": "stream",
          "name": "stdout",
          "text": [
            "y my nam\n"
          ]
        }
      ]
    },
    {
      "cell_type": "code",
      "source": [
        "y=\"hello python\"\n",
        "print(y[1:])"
      ],
      "metadata": {
        "colab": {
          "base_uri": "https://localhost:8080/"
        },
        "id": "QrRs7biWBXgH",
        "outputId": "245bbab6-4361-4642-9599-2f3c8ef91aeb"
      },
      "execution_count": null,
      "outputs": [
        {
          "output_type": "stream",
          "name": "stdout",
          "text": [
            "ello python\n"
          ]
        }
      ]
    },
    {
      "cell_type": "code",
      "source": [
        "y=\"aiswarya\"\n",
        "print(y[-6:-1])"
      ],
      "metadata": {
        "colab": {
          "base_uri": "https://localhost:8080/"
        },
        "id": "pHpGWsYtBnxe",
        "outputId": "1e807f78-8be9-4253-a260-34b6d3fc97e4"
      },
      "execution_count": null,
      "outputs": [
        {
          "output_type": "stream",
          "name": "stdout",
          "text": [
            "swary\n"
          ]
        }
      ]
    },
    {
      "cell_type": "code",
      "source": [
        "word=\"hello python\"\n",
        "print(word.upper())"
      ],
      "metadata": {
        "colab": {
          "base_uri": "https://localhost:8080/"
        },
        "id": "7WcZ_f9rCB3P",
        "outputId": "f4adefb1-e9f1-4252-e95a-b6d3f457663c"
      },
      "execution_count": null,
      "outputs": [
        {
          "output_type": "stream",
          "name": "stdout",
          "text": [
            "HELLO PYTHON\n"
          ]
        }
      ]
    },
    {
      "cell_type": "code",
      "source": [
        "word=\"heLlo pYthon\"\n",
        "print(word.lower())"
      ],
      "metadata": {
        "colab": {
          "base_uri": "https://localhost:8080/"
        },
        "outputId": "7746b0c1-ae94-468a-961f-42d8d596c4b6",
        "id": "26y41_aBCbDy"
      },
      "execution_count": null,
      "outputs": [
        {
          "output_type": "stream",
          "name": "stdout",
          "text": [
            "hello python\n"
          ]
        }
      ]
    },
    {
      "cell_type": "code",
      "source": [
        "A=\"Hello,  world\"\n",
        "print(a.strip())"
      ],
      "metadata": {
        "colab": {
          "base_uri": "https://localhost:8080/"
        },
        "id": "v9NgneGNCsHW",
        "outputId": "a956135e-7f3c-4b0f-e537-fac1d789f392"
      },
      "execution_count": null,
      "outputs": [
        {
          "output_type": "stream",
          "name": "stdout",
          "text": [
            "Hello,world!\n"
          ]
        }
      ]
    },
    {
      "cell_type": "code",
      "source": [
        "a=\"hello \"\n",
        "b=\"python\"\n",
        "print(a+b)"
      ],
      "metadata": {
        "colab": {
          "base_uri": "https://localhost:8080/"
        },
        "id": "joMgHSFfFJ0v",
        "outputId": "f83d1b0b-5353-41ea-a642-7ea78af02826"
      },
      "execution_count": null,
      "outputs": [
        {
          "output_type": "stream",
          "name": "stdout",
          "text": [
            "hello python\n"
          ]
        }
      ]
    },
    {
      "cell_type": "code",
      "source": [
        "a=\"Hello, world!\"\n",
        "print(a.replace(\"H\",\"J\"))"
      ],
      "metadata": {
        "colab": {
          "base_uri": "https://localhost:8080/"
        },
        "id": "Gkb-AMiBDJZO",
        "outputId": "5b413c28-f992-4308-b04d-c34bacc0bc8e"
      },
      "execution_count": null,
      "outputs": [
        {
          "output_type": "stream",
          "name": "stdout",
          "text": [
            "Jello, world!\n"
          ]
        }
      ]
    },
    {
      "cell_type": "code",
      "source": [
        "a=\"Hello world!\"\n",
        "print(a.split(\" \"))"
      ],
      "metadata": {
        "colab": {
          "base_uri": "https://localhost:8080/"
        },
        "id": "02AtG0qhDnTo",
        "outputId": "d2cd7d61-eb55-41ca-e761-8142519acd72"
      },
      "execution_count": null,
      "outputs": [
        {
          "output_type": "stream",
          "name": "stdout",
          "text": [
            "['Hello', 'world!']\n"
          ]
        }
      ]
    },
    {
      "cell_type": "code",
      "source": [
        "a=\"Hello,world!\"\n",
        "print(a.split(\",\"))"
      ],
      "metadata": {
        "colab": {
          "base_uri": "https://localhost:8080/"
        },
        "id": "epJvyER8Fqjm",
        "outputId": "034248a2-4889-447c-c0d0-2148c88fe63e"
      },
      "execution_count": null,
      "outputs": [
        {
          "output_type": "stream",
          "name": "stdout",
          "text": [
            "['Hello', 'world!']\n"
          ]
        }
      ]
    },
    {
      "cell_type": "code",
      "source": [
        "a=5\n",
        "a=a+5\n",
        "print(a)"
      ],
      "metadata": {
        "colab": {
          "base_uri": "https://localhost:8080/"
        },
        "id": "YBIuQQraHdsN",
        "outputId": "cff0fbef-8e2a-4f64-df87-a29a3407af87"
      },
      "execution_count": null,
      "outputs": [
        {
          "output_type": "stream",
          "name": "stdout",
          "text": [
            "10\n"
          ]
        }
      ]
    },
    {
      "cell_type": "markdown",
      "source": [
        "## format"
      ],
      "metadata": {
        "id": "b6tUzVPvNQfz"
      }
    },
    {
      "cell_type": "code",
      "source": [
        "age=38\n",
        "txt=\"my name is joseph,and i am {}\"\n",
        "print(txt.format(age))"
      ],
      "metadata": {
        "colab": {
          "base_uri": "https://localhost:8080/"
        },
        "id": "WQRR9_TZHgt0",
        "outputId": "eeeb953c-ea7e-46a0-dc30-1193bdd768b3"
      },
      "execution_count": null,
      "outputs": [
        {
          "output_type": "stream",
          "name": "stdout",
          "text": [
            "my name is joseph,and i am 38\n"
          ]
        }
      ]
    },
    {
      "cell_type": "code",
      "source": [
        "amount=1234\n",
        "oderno=4321\n",
        "quality=10\n",
        "myorder=\"i want {} of my order {} for {}\"\n",
        "print(myorder.format(quality,oderno,amount))"
      ],
      "metadata": {
        "colab": {
          "base_uri": "https://localhost:8080/"
        },
        "id": "0dZAJ_pTIpX0",
        "outputId": "7c4125e7-df27-4e0b-cb90-d1fdc1d96141"
      },
      "execution_count": null,
      "outputs": [
        {
          "output_type": "stream",
          "name": "stdout",
          "text": [
            "i want 10 of my order 4321 for 1234\n"
          ]
        }
      ]
    },
    {
      "cell_type": "code",
      "source": [
        "txt=\"to insert characters that are \\\" illegal\\\" in a string\"\n",
        "print(txt)"
      ],
      "metadata": {
        "colab": {
          "base_uri": "https://localhost:8080/"
        },
        "id": "TrZYtw34JYXN",
        "outputId": "45d7dcdf-1ae1-446f-b2e6-94b9e4dd7ca3"
      },
      "execution_count": null,
      "outputs": [
        {
          "output_type": "stream",
          "name": "stdout",
          "text": [
            "to insert characters that are \" illegal\" in a string\n"
          ]
        }
      ]
    },
    {
      "cell_type": "code",
      "source": [
        "txt=\"to insert characters that are \\' illegal\\' in a string\"\n",
        "print(txt)"
      ],
      "metadata": {
        "colab": {
          "base_uri": "https://localhost:8080/"
        },
        "id": "lh1dzzHRJ2rL",
        "outputId": "0253ece4-67e6-4bef-af9c-fb7dbbc01204"
      },
      "execution_count": null,
      "outputs": [
        {
          "output_type": "stream",
          "name": "stdout",
          "text": [
            "to insert characters that are ' illegal' in a string\n"
          ]
        }
      ]
    },
    {
      "cell_type": "code",
      "source": [
        "txt=\"to insert characters that are \\r illegal\\r in a string\"\n",
        "print(txt)"
      ],
      "metadata": {
        "colab": {
          "base_uri": "https://localhost:8080/"
        },
        "id": "QXzHN4XQKCos",
        "outputId": "f48e16c5-e822-4f5f-f919-82d75e4180db"
      },
      "execution_count": null,
      "outputs": [
        {
          "output_type": "stream",
          "name": "stdout",
          "text": [
            "to insert characters that are \r illegal\r in a string\n"
          ]
        }
      ]
    },
    {
      "cell_type": "markdown",
      "source": [
        "# boolean"
      ],
      "metadata": {
        "id": "hz6fJOHbNXXj"
      }
    },
    {
      "cell_type": "code",
      "source": [
        "print(10==10)"
      ],
      "metadata": {
        "colab": {
          "base_uri": "https://localhost:8080/"
        },
        "id": "iwBQayUSKYtb",
        "outputId": "bfdd333c-4d6d-4535-fdaa-b720099cd656"
      },
      "execution_count": null,
      "outputs": [
        {
          "output_type": "stream",
          "name": "stdout",
          "text": [
            "True\n"
          ]
        }
      ]
    },
    {
      "cell_type": "code",
      "source": [
        "print(10<9)"
      ],
      "metadata": {
        "colab": {
          "base_uri": "https://localhost:8080/"
        },
        "id": "9CGNPF5lKEor",
        "outputId": "9cd0da1c-fadd-4e7b-8a16-4c0a88b73580"
      },
      "execution_count": null,
      "outputs": [
        {
          "output_type": "stream",
          "name": "stdout",
          "text": [
            "False\n"
          ]
        }
      ]
    },
    {
      "cell_type": "code",
      "source": [
        "print(10==100)"
      ],
      "metadata": {
        "colab": {
          "base_uri": "https://localhost:8080/"
        },
        "id": "x9aZ6TP1KtmD",
        "outputId": "c9eb622b-bc21-4f21-a20d-eb67c4795b76"
      },
      "execution_count": null,
      "outputs": [
        {
          "output_type": "stream",
          "name": "stdout",
          "text": [
            "False\n"
          ]
        }
      ]
    },
    {
      "cell_type": "code",
      "source": [
        "print(bool(\"asffg\"))"
      ],
      "metadata": {
        "colab": {
          "base_uri": "https://localhost:8080/"
        },
        "id": "I_ClcjlBKx0D",
        "outputId": "8c7f628f-80a2-4885-c48c-046644d82b1f"
      },
      "execution_count": null,
      "outputs": [
        {
          "output_type": "stream",
          "name": "stdout",
          "text": [
            "True\n"
          ]
        }
      ]
    },
    {
      "cell_type": "code",
      "source": [
        "print(bool(0))"
      ],
      "metadata": {
        "colab": {
          "base_uri": "https://localhost:8080/"
        },
        "id": "Q-bauWh-LAUL",
        "outputId": "0705a83f-811c-478f-bf6b-281661ac8578"
      },
      "execution_count": null,
      "outputs": [
        {
          "output_type": "stream",
          "name": "stdout",
          "text": [
            "False\n"
          ]
        }
      ]
    },
    {
      "cell_type": "code",
      "source": [
        "x=200\n",
        "print(isinstance(x,float))"
      ],
      "metadata": {
        "colab": {
          "base_uri": "https://localhost:8080/"
        },
        "id": "nmT9hQTNLOFL",
        "outputId": "73809729-3441-4a2d-fc3f-9ca43cf09f7f"
      },
      "execution_count": null,
      "outputs": [
        {
          "output_type": "stream",
          "name": "stdout",
          "text": [
            "False\n"
          ]
        }
      ]
    },
    {
      "cell_type": "markdown",
      "source": [
        "# operator"
      ],
      "metadata": {
        "id": "4BZmUqZTNhFi"
      }
    },
    {
      "cell_type": "markdown",
      "source": [
        "## arithmetic oprators"
      ],
      "metadata": {
        "id": "6F_-ZXVINkbT"
      }
    },
    {
      "cell_type": "code",
      "source": [
        "x=4\n",
        "y=2\n",
        "print(x+y)"
      ],
      "metadata": {
        "colab": {
          "base_uri": "https://localhost:8080/"
        },
        "id": "aFDMTuqMLmtr",
        "outputId": "ed998dc2-8c03-42b3-c173-78d888e441a0"
      },
      "execution_count": null,
      "outputs": [
        {
          "output_type": "stream",
          "name": "stdout",
          "text": [
            "6\n"
          ]
        }
      ]
    },
    {
      "cell_type": "code",
      "source": [
        "x=4\n",
        "y=2\n",
        "print(x*y)"
      ],
      "metadata": {
        "colab": {
          "base_uri": "https://localhost:8080/"
        },
        "id": "GHzHdiAPLzWj",
        "outputId": "8db4df8b-98d3-4038-c120-73b239ae5ecc"
      },
      "execution_count": null,
      "outputs": [
        {
          "output_type": "stream",
          "name": "stdout",
          "text": [
            "8\n"
          ]
        }
      ]
    },
    {
      "cell_type": "code",
      "source": [
        "x=4\n",
        "y=2\n",
        "print(x/y)"
      ],
      "metadata": {
        "colab": {
          "base_uri": "https://localhost:8080/"
        },
        "id": "MQo97m3uL747",
        "outputId": "8ed1497d-6d58-4d90-e967-2d20f7aa8e43"
      },
      "execution_count": null,
      "outputs": [
        {
          "output_type": "stream",
          "name": "stdout",
          "text": [
            "2.0\n"
          ]
        }
      ]
    },
    {
      "cell_type": "code",
      "source": [
        "x=4\n",
        "y=2\n",
        "print(x//y)"
      ],
      "metadata": {
        "colab": {
          "base_uri": "https://localhost:8080/"
        },
        "id": "6SsUajKZMA_r",
        "outputId": "5d71b8d2-0e86-4ea4-eedd-5230061c79ef"
      },
      "execution_count": null,
      "outputs": [
        {
          "output_type": "stream",
          "name": "stdout",
          "text": [
            "2\n"
          ]
        }
      ]
    },
    {
      "cell_type": "code",
      "source": [
        "x=4\n",
        "y=2\n",
        "print(x%y)"
      ],
      "metadata": {
        "colab": {
          "base_uri": "https://localhost:8080/"
        },
        "id": "_KagqeN5MJG7",
        "outputId": "e4b5317f-7012-4964-97b0-d3e0fb7bafc9"
      },
      "execution_count": null,
      "outputs": [
        {
          "output_type": "stream",
          "name": "stdout",
          "text": [
            "0\n"
          ]
        }
      ]
    },
    {
      "cell_type": "code",
      "source": [
        "x=9\n",
        "y=2\n",
        "print(x%y)"
      ],
      "metadata": {
        "colab": {
          "base_uri": "https://localhost:8080/"
        },
        "id": "pPNkOZDWMO80",
        "outputId": "9c1dd3d6-998d-41f9-e30f-ec1ddf89d9ab"
      },
      "execution_count": null,
      "outputs": [
        {
          "output_type": "stream",
          "name": "stdout",
          "text": [
            "1\n"
          ]
        }
      ]
    },
    {
      "cell_type": "code",
      "source": [
        "x=5\n",
        "x"
      ],
      "metadata": {
        "colab": {
          "base_uri": "https://localhost:8080/"
        },
        "id": "Ekd1MM32MeF9",
        "outputId": "e790a637-a357-448e-a2a7-4a6ac62ed1ce"
      },
      "execution_count": null,
      "outputs": [
        {
          "output_type": "stream",
          "name": "stdout",
          "text": [
            "1\n"
          ]
        }
      ]
    },
    {
      "cell_type": "code",
      "source": [
        "x=5\n",
        "x+=5\n",
        "x"
      ],
      "metadata": {
        "colab": {
          "base_uri": "https://localhost:8080/"
        },
        "id": "uuDNHvH7Mi7t",
        "outputId": "7e3e7b2f-4c54-47ca-9300-86ef31dcdac3"
      },
      "execution_count": null,
      "outputs": [
        {
          "output_type": "execute_result",
          "data": {
            "text/plain": [
              "10"
            ]
          },
          "metadata": {},
          "execution_count": 75
        }
      ]
    },
    {
      "cell_type": "code",
      "source": [
        "x=5\n",
        "x-=5\n",
        "x"
      ],
      "metadata": {
        "colab": {
          "base_uri": "https://localhost:8080/"
        },
        "id": "ffvfFggKMtzL",
        "outputId": "24fcc43b-1712-4c76-8700-2fbac6ee1ab6"
      },
      "execution_count": null,
      "outputs": [
        {
          "output_type": "execute_result",
          "data": {
            "text/plain": [
              "0"
            ]
          },
          "metadata": {},
          "execution_count": 76
        }
      ]
    },
    {
      "cell_type": "code",
      "source": [
        "x=5\n",
        "x*=5\n",
        "x"
      ],
      "metadata": {
        "colab": {
          "base_uri": "https://localhost:8080/"
        },
        "id": "fGSKas0EN2Jb",
        "outputId": "3abae6b1-198b-4631-9d57-b7c6c232510c"
      },
      "execution_count": null,
      "outputs": [
        {
          "output_type": "execute_result",
          "data": {
            "text/plain": [
              "25"
            ]
          },
          "metadata": {},
          "execution_count": 78
        }
      ]
    },
    {
      "cell_type": "code",
      "source": [
        "x=5\n",
        "x/=5\n",
        "x"
      ],
      "metadata": {
        "colab": {
          "base_uri": "https://localhost:8080/"
        },
        "id": "dXGZEgGrOGJy",
        "outputId": "56cfc6c4-8035-4cbb-e9f1-4e1b25dbede4"
      },
      "execution_count": null,
      "outputs": [
        {
          "output_type": "execute_result",
          "data": {
            "text/plain": [
              "1.0"
            ]
          },
          "metadata": {},
          "execution_count": 79
        }
      ]
    },
    {
      "cell_type": "code",
      "source": [
        "x=8\n",
        "x//=5\n",
        "x"
      ],
      "metadata": {
        "colab": {
          "base_uri": "https://localhost:8080/"
        },
        "id": "pkZiRdGdOKi6",
        "outputId": "a3559ed8-de1d-4c51-c4c0-0668904e05ab"
      },
      "execution_count": null,
      "outputs": [
        {
          "output_type": "execute_result",
          "data": {
            "text/plain": [
              "1"
            ]
          },
          "metadata": {},
          "execution_count": 80
        }
      ]
    },
    {
      "cell_type": "code",
      "source": [
        "x=5\n",
        "x%=5\n",
        "x"
      ],
      "metadata": {
        "colab": {
          "base_uri": "https://localhost:8080/"
        },
        "id": "6X9qX1bCOPY6",
        "outputId": "0e1126fa-36dd-4780-b2aa-a2dd0dc399ff"
      },
      "execution_count": null,
      "outputs": [
        {
          "output_type": "execute_result",
          "data": {
            "text/plain": [
              "0"
            ]
          },
          "metadata": {},
          "execution_count": 81
        }
      ]
    },
    {
      "cell_type": "code",
      "source": [
        "x=11\n",
        "x&=5\n",
        "x"
      ],
      "metadata": {
        "colab": {
          "base_uri": "https://localhost:8080/"
        },
        "id": "jaaxn2bTOT3c",
        "outputId": "3e3fe87c-e882-4b4c-cacc-a51bae4ac9c7"
      },
      "execution_count": null,
      "outputs": [
        {
          "output_type": "execute_result",
          "data": {
            "text/plain": [
              "1"
            ]
          },
          "metadata": {},
          "execution_count": 83
        }
      ]
    },
    {
      "cell_type": "code",
      "source": [
        "x=3\n",
        "x|=5\n",
        "x"
      ],
      "metadata": {
        "colab": {
          "base_uri": "https://localhost:8080/"
        },
        "id": "xy36L2qNOoKa",
        "outputId": "b9880def-f5ae-4f95-bca1-dc1b3b9cb221"
      },
      "execution_count": null,
      "outputs": [
        {
          "output_type": "execute_result",
          "data": {
            "text/plain": [
              "7"
            ]
          },
          "metadata": {},
          "execution_count": 85
        }
      ]
    },
    {
      "cell_type": "code",
      "source": [
        "x=7\n",
        "x>>=5\n",
        "x"
      ],
      "metadata": {
        "colab": {
          "base_uri": "https://localhost:8080/"
        },
        "id": "g-Cqfx8lO3ZC",
        "outputId": "2eee0abf-af58-4d2f-8f19-b9a7740f209e"
      },
      "execution_count": null,
      "outputs": [
        {
          "output_type": "execute_result",
          "data": {
            "text/plain": [
              "0"
            ]
          },
          "metadata": {},
          "execution_count": 86
        }
      ]
    },
    {
      "cell_type": "markdown",
      "source": [
        "## boolean oprators"
      ],
      "metadata": {
        "id": "zkJnSrmvRWTr"
      }
    },
    {
      "cell_type": "code",
      "source": [],
      "metadata": {
        "id": "rfAThkY5RXJj"
      },
      "execution_count": null,
      "outputs": []
    },
    {
      "cell_type": "code",
      "source": [
        "x=5;y=6\n",
        "x>1 and y<10 #checking for and operation"
      ],
      "metadata": {
        "colab": {
          "base_uri": "https://localhost:8080/"
        },
        "id": "O8bodmluPWP6",
        "outputId": "6995d6f0-5a82-47fd-eca1-0c264d8e7401"
      },
      "execution_count": null,
      "outputs": [
        {
          "output_type": "execute_result",
          "data": {
            "text/plain": [
              "True"
            ]
          },
          "metadata": {},
          "execution_count": 88
        }
      ]
    },
    {
      "cell_type": "code",
      "source": [
        "x=5;y=6\n",
        "x>1 or y<10 #checking or operation\n"
      ],
      "metadata": {
        "colab": {
          "base_uri": "https://localhost:8080/"
        },
        "id": "_jtpeDNiPvyy",
        "outputId": "4d8d605f-1971-403b-9ef8-f60c5d594d98"
      },
      "execution_count": null,
      "outputs": [
        {
          "output_type": "execute_result",
          "data": {
            "text/plain": [
              "True"
            ]
          },
          "metadata": {},
          "execution_count": 89
        }
      ]
    },
    {
      "cell_type": "code",
      "source": [
        "x=5\n",
        "not x>2 # checking not operation"
      ],
      "metadata": {
        "colab": {
          "base_uri": "https://localhost:8080/"
        },
        "id": "VSvQpuFXQF7U",
        "outputId": "301a17ed-5cbd-4467-f200-3c46e2131d1b"
      },
      "execution_count": null,
      "outputs": [
        {
          "output_type": "execute_result",
          "data": {
            "text/plain": [
              "False"
            ]
          },
          "metadata": {},
          "execution_count": 90
        }
      ]
    },
    {
      "cell_type": "markdown",
      "source": [
        "## identity operators"
      ],
      "metadata": {
        "id": "eWINHA2RRCUi"
      }
    },
    {
      "cell_type": "code",
      "source": [
        "x=5;y=6\n",
        "x is y # is opration"
      ],
      "metadata": {
        "colab": {
          "base_uri": "https://localhost:8080/"
        },
        "id": "_QVpPU91QYsb",
        "outputId": "3a3ac5e6-1246-4548-b979-e153082752af"
      },
      "execution_count": null,
      "outputs": [
        {
          "output_type": "execute_result",
          "data": {
            "text/plain": [
              "False"
            ]
          },
          "metadata": {},
          "execution_count": 91
        }
      ]
    },
    {
      "cell_type": "code",
      "source": [
        "x=6\n",
        "y=10\n",
        "x is not y # is not operation"
      ],
      "metadata": {
        "colab": {
          "base_uri": "https://localhost:8080/"
        },
        "id": "KjJxI4ElQpZz",
        "outputId": "cc46a7c7-9f42-40cd-8d8f-0d7c882d8984"
      },
      "execution_count": null,
      "outputs": [
        {
          "output_type": "execute_result",
          "data": {
            "text/plain": [
              "True"
            ]
          },
          "metadata": {},
          "execution_count": 93
        }
      ]
    },
    {
      "cell_type": "markdown",
      "source": [
        "# Lists\n"
      ],
      "metadata": {
        "id": "9d78ydZRFYpQ"
      }
    },
    {
      "cell_type": "code",
      "source": [
        "fruits=[\"apple\",\"orange\",\"banana\",\"blueberry\"]\n",
        "print(fruits)"
      ],
      "metadata": {
        "colab": {
          "base_uri": "https://localhost:8080/"
        },
        "id": "nfghL8B2Fgxg",
        "outputId": "629ba616-403c-4981-b88d-5daf869f4e56"
      },
      "execution_count": null,
      "outputs": [
        {
          "output_type": "stream",
          "name": "stdout",
          "text": [
            "['apple', 'orange', 'banana', 'blueberry']\n"
          ]
        }
      ]
    },
    {
      "cell_type": "code",
      "source": [
        "fruits=[\"apple\",\"orange\",\"banana\",\"blueberry\",\"grapes\",\"cherry\"]\n",
        "print(fruits[1:5])# range"
      ],
      "metadata": {
        "colab": {
          "base_uri": "https://localhost:8080/"
        },
        "id": "YkLwfolYGOYh",
        "outputId": "38eb11dc-96bb-42c7-b3fd-e26333d5cd39"
      },
      "execution_count": null,
      "outputs": [
        {
          "output_type": "stream",
          "name": "stdout",
          "text": [
            "['orange', 'banana', 'blueberry', 'grapes']\n"
          ]
        }
      ]
    },
    {
      "cell_type": "code",
      "source": [
        "fruits=[\"apple\",\"orange\",\"banana\",\"blueberry\",\"grapes\",\"cherry\"]\n",
        "print(fruits[:5])# range"
      ],
      "metadata": {
        "colab": {
          "base_uri": "https://localhost:8080/"
        },
        "id": "v7r7FJgfGjUA",
        "outputId": "d8a75091-d856-4735-df86-2bef93896709"
      },
      "execution_count": null,
      "outputs": [
        {
          "output_type": "stream",
          "name": "stdout",
          "text": [
            "['apple', 'orange', 'banana', 'blueberry', 'grapes']\n"
          ]
        }
      ]
    },
    {
      "cell_type": "code",
      "source": [
        "fruits=[\"apple\",\"orange\",\"banana\",\"blueberry\",\"grapes\",\"cherry\"]\n",
        "print(fruits[1:])# range"
      ],
      "metadata": {
        "colab": {
          "base_uri": "https://localhost:8080/"
        },
        "id": "A04nE-JJHNvR",
        "outputId": "3d16ed9a-90f1-42bb-a63b-2f46810520cf"
      },
      "execution_count": null,
      "outputs": [
        {
          "output_type": "stream",
          "name": "stdout",
          "text": [
            "['orange', 'banana', 'blueberry', 'grapes', 'cherry']\n"
          ]
        }
      ]
    },
    {
      "cell_type": "code",
      "source": [
        "fruits=[\"apple\",\"orange\",\"banana\",\"blueberry\",\"grapes\",\"cherry\"]\n",
        "print(fruits[:-5])# range"
      ],
      "metadata": {
        "colab": {
          "base_uri": "https://localhost:8080/"
        },
        "id": "4F8HKCzZHRCp",
        "outputId": "c63234fc-7b02-47aa-a3d6-04c97293e390"
      },
      "execution_count": null,
      "outputs": [
        {
          "output_type": "stream",
          "name": "stdout",
          "text": [
            "['apple']\n"
          ]
        }
      ]
    },
    {
      "cell_type": "code",
      "source": [
        "fruits=[\"apple\",\"orange\",\"banana\",\"blueberry\",\"grapes\",\"cherry\"]\n",
        "fruits[1]=\"strawberry\"\n",
        "print(fruits)"
      ],
      "metadata": {
        "colab": {
          "base_uri": "https://localhost:8080/"
        },
        "id": "0_vO0169HeCx",
        "outputId": "4acc30fe-3d80-4fc1-ffe6-098a779a0bd8"
      },
      "execution_count": null,
      "outputs": [
        {
          "output_type": "stream",
          "name": "stdout",
          "text": [
            "['apple', 'strawberry', 'banana', 'blueberry', 'grapes', 'cherry']\n"
          ]
        }
      ]
    },
    {
      "cell_type": "code",
      "source": [
        "fruits=[\"apple\",\"orange\",\"banana\",\"blueberry\",\"grapes\",\"cherry\"]\n",
        "fruits[2:3]=[\"peach\",\"dragon fruit\"]\n",
        "print(fruits)"
      ],
      "metadata": {
        "colab": {
          "base_uri": "https://localhost:8080/"
        },
        "id": "-FjxCiLdIAup",
        "outputId": "15a2d063-f8f2-411f-e054-150c3ee008c4"
      },
      "execution_count": null,
      "outputs": [
        {
          "output_type": "stream",
          "name": "stdout",
          "text": [
            "['apple', 'orange', 'peach', 'dragon fruit', 'blueberry', 'grapes', 'cherry']\n"
          ]
        }
      ]
    },
    {
      "cell_type": "code",
      "source": [
        "fruits=[\"apple\",\"orange\",\"banana\",\"blueberry\",\"grapes\",\"cherry\"]\n",
        "fruits[2:]=[\"watermelon\",\"kiwi\"]\n",
        "print(fruits)"
      ],
      "metadata": {
        "colab": {
          "base_uri": "https://localhost:8080/"
        },
        "id": "7XKjdyv4IrmS",
        "outputId": "8565bc98-4eb4-4f7e-bde9-0f85d8322ba4"
      },
      "execution_count": null,
      "outputs": [
        {
          "output_type": "stream",
          "name": "stdout",
          "text": [
            "['apple', 'orange', 'watermelon', 'kiwi']\n"
          ]
        }
      ]
    },
    {
      "cell_type": "code",
      "source": [
        "fruits=[\"apple\",\"orange\",\"banana\",\"blueberry\",\"grapes\",\"cherry\"]\n",
        "fruits.append(\"orange\")\n",
        "print(fruits)"
      ],
      "metadata": {
        "colab": {
          "base_uri": "https://localhost:8080/"
        },
        "id": "_J225A3cJka5",
        "outputId": "948ecde9-f4e3-4f68-f4a3-1fbf772adea5"
      },
      "execution_count": null,
      "outputs": [
        {
          "output_type": "stream",
          "name": "stdout",
          "text": [
            "['apple', 'orange', 'banana', 'blueberry', 'grapes', 'cherry', 'orange']\n"
          ]
        }
      ]
    },
    {
      "cell_type": "code",
      "source": [
        "fruits=[\"apple\",\"banana\",\"cherry\"]\n",
        "fruits2=[\"strawberry\",\"blueberry\",\"pineapple\"]\n",
        "fruits.extend(fruits2)\n",
        "print(fruits)"
      ],
      "metadata": {
        "colab": {
          "base_uri": "https://localhost:8080/"
        },
        "id": "KEjfZLKkKeaU",
        "outputId": "8b6fac1d-d6e5-4c13-c83b-8b133e6a7a6f"
      },
      "execution_count": null,
      "outputs": [
        {
          "output_type": "stream",
          "name": "stdout",
          "text": [
            "['apple', 'banana', 'cherry', 'strawberry', 'blueberry', 'pineapple']\n"
          ]
        }
      ]
    },
    {
      "cell_type": "code",
      "source": [
        "fruits=[\"apple\",\"strawberry\",\"cherry\"]\n",
        "fruits.remove(\"apple\")\n",
        "print(fruits)"
      ],
      "metadata": {
        "colab": {
          "base_uri": "https://localhost:8080/"
        },
        "id": "gcuijlcpMVej",
        "outputId": "c1444839-1a69-481f-883b-29c2f77995eb"
      },
      "execution_count": null,
      "outputs": [
        {
          "output_type": "stream",
          "name": "stdout",
          "text": [
            "['strawberry', 'cherry']\n"
          ]
        }
      ]
    },
    {
      "cell_type": "code",
      "source": [
        "fruits=[\"apple\",\"strawberry\",\"cherry\"]\n",
        "fruits.pop(1)\n",
        "print(fruits)"
      ],
      "metadata": {
        "colab": {
          "base_uri": "https://localhost:8080/"
        },
        "id": "6s4NOK4pNLNB",
        "outputId": "f0a74e0c-db6e-476e-c094-fc013f10c5db"
      },
      "execution_count": null,
      "outputs": [
        {
          "output_type": "stream",
          "name": "stdout",
          "text": [
            "['apple', 'cherry']\n"
          ]
        }
      ]
    },
    {
      "cell_type": "code",
      "source": [
        "fruits=[\"apple\",\"strawberry\",\"cherry\"]\n",
        "del fruits[2]\n",
        "print(fruits)"
      ],
      "metadata": {
        "colab": {
          "base_uri": "https://localhost:8080/"
        },
        "id": "quJmxJloNhFB",
        "outputId": "afe7cf77-5ea5-4702-c1b2-709e65dcac68"
      },
      "execution_count": null,
      "outputs": [
        {
          "output_type": "stream",
          "name": "stdout",
          "text": [
            "['apple', 'strawberry']\n"
          ]
        }
      ]
    },
    {
      "cell_type": "code",
      "source": [
        "fruits=[\"apple\",\"strawberry\",\"cherry\"]\n",
        "del fruits\n",
        "print (fruits)"
      ],
      "metadata": {
        "colab": {
          "base_uri": "https://localhost:8080/",
          "height": 176
        },
        "id": "54kYk4HeNxQB",
        "outputId": "12c377f7-18bc-4758-a532-beeef5870fbf"
      },
      "execution_count": null,
      "outputs": [
        {
          "output_type": "error",
          "ename": "NameError",
          "evalue": "name 'fruits' is not defined",
          "traceback": [
            "\u001b[0;31m---------------------------------------------------------------------------\u001b[0m",
            "\u001b[0;31mNameError\u001b[0m                                 Traceback (most recent call last)",
            "\u001b[0;32m<ipython-input-20-2063008954>\u001b[0m in \u001b[0;36m<cell line: 0>\u001b[0;34m()\u001b[0m\n\u001b[1;32m      1\u001b[0m \u001b[0mfruits\u001b[0m\u001b[0;34m=\u001b[0m\u001b[0;34m[\u001b[0m\u001b[0;34m\"apple\"\u001b[0m\u001b[0;34m,\u001b[0m\u001b[0;34m\"strawberry\"\u001b[0m\u001b[0;34m,\u001b[0m\u001b[0;34m\"cherry\"\u001b[0m\u001b[0;34m]\u001b[0m\u001b[0;34m\u001b[0m\u001b[0;34m\u001b[0m\u001b[0m\n\u001b[1;32m      2\u001b[0m \u001b[0;32mdel\u001b[0m \u001b[0mfruits\u001b[0m\u001b[0;34m\u001b[0m\u001b[0;34m\u001b[0m\u001b[0m\n\u001b[0;32m----> 3\u001b[0;31m \u001b[0mprint\u001b[0m \u001b[0;34m(\u001b[0m\u001b[0mfruits\u001b[0m\u001b[0;34m)\u001b[0m\u001b[0;34m\u001b[0m\u001b[0;34m\u001b[0m\u001b[0m\n\u001b[0m",
            "\u001b[0;31mNameError\u001b[0m: name 'fruits' is not defined"
          ]
        }
      ]
    },
    {
      "cell_type": "code",
      "source": [
        "fruits=[\"apple\",\"strawberry\",\"cherry\"]\n",
        "fruits.clear()\n",
        "print(fruits)\n",
        "\n"
      ],
      "metadata": {
        "colab": {
          "base_uri": "https://localhost:8080/"
        },
        "id": "C-l1YPJbOCjR",
        "outputId": "9db37de9-8fa4-4fc4-f85a-1a23f2515f2c"
      },
      "execution_count": null,
      "outputs": [
        {
          "output_type": "stream",
          "name": "stdout",
          "text": [
            "[]\n"
          ]
        }
      ]
    },
    {
      "cell_type": "code",
      "source": [
        "fruits=[\"apple\",\"strawberry\",\"cherry\"]\n",
        "fruit=fruits.copy()\n",
        "print(fruit)"
      ],
      "metadata": {
        "colab": {
          "base_uri": "https://localhost:8080/"
        },
        "id": "QGdaA7KmOdoa",
        "outputId": "75c7c394-a4a0-45fe-a277-dab6bfc1468b"
      },
      "execution_count": null,
      "outputs": [
        {
          "output_type": "stream",
          "name": "stdout",
          "text": [
            "['apple', 'strawberry', 'cherry']\n"
          ]
        }
      ]
    },
    {
      "cell_type": "code",
      "source": [
        "fruits=[\"apple\",\"strawberry\",\"cherry\"]\n",
        "fruits.reverse()\n",
        "print(fruits)\n"
      ],
      "metadata": {
        "colab": {
          "base_uri": "https://localhost:8080/"
        },
        "id": "vpC8CbBbQmga",
        "outputId": "39dc51e1-5a2a-48b6-cd32-d9ecdbd64f11"
      },
      "execution_count": null,
      "outputs": [
        {
          "output_type": "stream",
          "name": "stdout",
          "text": [
            "['cherry', 'strawberry', 'apple']\n"
          ]
        }
      ]
    },
    {
      "cell_type": "code",
      "source": [
        "fruits=[\"apple\",\"strawberry\",\"cherry\"]\n",
        "fruits.sort()\n",
        "print(fruits)\n"
      ],
      "metadata": {
        "colab": {
          "base_uri": "https://localhost:8080/"
        },
        "id": "DtjXNcyWQqoK",
        "outputId": "e0412d91-a32c-4212-e97c-3110f5141a68"
      },
      "execution_count": null,
      "outputs": [
        {
          "output_type": "stream",
          "name": "stdout",
          "text": [
            "['apple', 'cherry', 'strawberry']\n"
          ]
        }
      ]
    },
    {
      "cell_type": "code",
      "source": [
        "fruits=[\"apple\",\"strawberry\",\"cherry\"]\n",
        "fruits.clear()\n",
        "print(fruits)\n"
      ],
      "metadata": {
        "colab": {
          "base_uri": "https://localhost:8080/"
        },
        "id": "qDPrq7htQyB0",
        "outputId": "524fdd8b-a425-4e5f-e34d-2c32c2b666b1"
      },
      "execution_count": null,
      "outputs": [
        {
          "output_type": "stream",
          "name": "stdout",
          "text": [
            "[]\n"
          ]
        }
      ]
    },
    {
      "cell_type": "markdown",
      "source": [
        "# Tuples"
      ],
      "metadata": {
        "id": "hXyJ0BniZDy7"
      }
    },
    {
      "cell_type": "code",
      "source": [
        "fruits=(\"apple\",\"strawberry\",\"cherry\")\n",
        "\n",
        "print(fruits)\n"
      ],
      "metadata": {
        "colab": {
          "base_uri": "https://localhost:8080/"
        },
        "id": "dhmgSY9hUTDM",
        "outputId": "482efb7b-fb46-41b1-e55d-1eb5144ae7f0"
      },
      "execution_count": null,
      "outputs": [
        {
          "output_type": "stream",
          "name": "stdout",
          "text": [
            "('apple', 'strawberry', 'cherry')\n"
          ]
        }
      ]
    },
    {
      "cell_type": "code",
      "source": [
        "fruits=(\"apple\",\"strawberry\",\"cherry\")\n",
        "print(len(fruits))\n"
      ],
      "metadata": {
        "colab": {
          "base_uri": "https://localhost:8080/"
        },
        "id": "Ck4Ax2PvUfxS",
        "outputId": "e471c484-5c63-4cfc-a4e4-00c2205ad2ed"
      },
      "execution_count": null,
      "outputs": [
        {
          "output_type": "stream",
          "name": "stdout",
          "text": [
            "3\n"
          ]
        }
      ]
    },
    {
      "cell_type": "code",
      "source": [
        "variety=(\"abc\",34,\"TRUE\",40,\"male\")\n",
        "print(type(fruits))"
      ],
      "metadata": {
        "colab": {
          "base_uri": "https://localhost:8080/"
        },
        "id": "Q9LlhCJSUqxF",
        "outputId": "d55bb679-9e23-4afb-8ad2-40c1c587a4a6"
      },
      "execution_count": null,
      "outputs": [
        {
          "output_type": "stream",
          "name": "stdout",
          "text": [
            "<class 'tuple'>\n"
          ]
        }
      ]
    },
    {
      "cell_type": "code",
      "source": [
        "fruits=(\"apple\",\"strawberry\",\"cherry\")\n",
        "\n",
        "print(fruits[-1])\n"
      ],
      "metadata": {
        "colab": {
          "base_uri": "https://localhost:8080/"
        },
        "id": "rmjaixyXVa7z",
        "outputId": "f2a41db5-d1ef-4a98-ec55-a881cfe17ce1"
      },
      "execution_count": null,
      "outputs": [
        {
          "output_type": "stream",
          "name": "stdout",
          "text": [
            "cherry\n"
          ]
        }
      ]
    },
    {
      "cell_type": "code",
      "source": [
        "fruits=(\"apple\",\"strawberry\",\"cherry\",\"kiwi\",\"melon\")\n",
        "\n",
        "print(fruits[2:])"
      ],
      "metadata": {
        "colab": {
          "base_uri": "https://localhost:8080/"
        },
        "id": "LIwcP1teV4JU",
        "outputId": "b46aa046-6423-401c-e8fd-40177927a13c"
      },
      "execution_count": null,
      "outputs": [
        {
          "output_type": "stream",
          "name": "stdout",
          "text": [
            "('cherry', 'kiwi', 'melon')\n"
          ]
        }
      ]
    },
    {
      "cell_type": "code",
      "source": [
        "x=(\"apple\",\"strawberry\",\"cherry\")\n",
        "y=list(x)\n",
        "y[1]=\"watermelon\"\n",
        "x=tuple(y)\n",
        "print(x)"
      ],
      "metadata": {
        "colab": {
          "base_uri": "https://localhost:8080/"
        },
        "id": "Rlc7BD_NWizz",
        "outputId": "852d5039-32c9-4445-ab82-62dbbb87ea45"
      },
      "execution_count": null,
      "outputs": [
        {
          "output_type": "stream",
          "name": "stdout",
          "text": [
            "('apple', 'watermelon', 'cherry')\n"
          ]
        }
      ]
    },
    {
      "cell_type": "code",
      "source": [
        "x=(\"apple\",\"strawberry\",\"cherry\")\n",
        "(green,yellow,red)=x\n",
        "print(green)\n",
        "print(yellow)\n",
        "print(red)\n"
      ],
      "metadata": {
        "colab": {
          "base_uri": "https://localhost:8080/"
        },
        "id": "AzZUz9joXFxb",
        "outputId": "e5a3f044-db66-4c3f-ef95-68d226f39bee"
      },
      "execution_count": null,
      "outputs": [
        {
          "output_type": "stream",
          "name": "stdout",
          "text": [
            "apple\n",
            "strawberry\n",
            "cherry\n"
          ]
        }
      ]
    },
    {
      "cell_type": "markdown",
      "source": [
        "# Set"
      ],
      "metadata": {
        "id": "APJGzysnZJHU"
      }
    },
    {
      "cell_type": "code",
      "source": [
        "fruits={\"apple\",\"banana\",\"cherry\"}\n",
        "for x in fruits:\n",
        " print (x)"
      ],
      "metadata": {
        "colab": {
          "base_uri": "https://localhost:8080/"
        },
        "id": "gjOWWWOXZWlO",
        "outputId": "666d1ea6-4a45-4ccd-a505-bc769bc73c1e"
      },
      "execution_count": null,
      "outputs": [
        {
          "output_type": "stream",
          "name": "stdout",
          "text": [
            "banana\n",
            "cherry\n",
            "apple\n"
          ]
        }
      ]
    },
    {
      "cell_type": "code",
      "source": [
        "fruits={\"apple\",\"banana\",\"cherry\"}\n",
        "fruits.add(\"orange\")\n",
        "print(fruits)"
      ],
      "metadata": {
        "colab": {
          "base_uri": "https://localhost:8080/"
        },
        "id": "HAhOLrH-aSZk",
        "outputId": "918598fd-d8a2-4f42-f338-24e3af81375e"
      },
      "execution_count": null,
      "outputs": [
        {
          "output_type": "stream",
          "name": "stdout",
          "text": [
            "{'banana', 'orange', 'cherry', 'apple'}\n"
          ]
        }
      ]
    },
    {
      "cell_type": "code",
      "source": [
        "fruits={\"apple\",\"banana\",\"cherry\"}\n",
        "mylist=[\"kiwi\",\"strawberry\"]\n",
        "fruits.update(mylist)\n",
        "print(fruits)"
      ],
      "metadata": {
        "colab": {
          "base_uri": "https://localhost:8080/"
        },
        "id": "cVCGolM3aniT",
        "outputId": "3378c328-796f-4ac8-aecd-76b971c24a24"
      },
      "execution_count": null,
      "outputs": [
        {
          "output_type": "stream",
          "name": "stdout",
          "text": [
            "{'banana', 'cherry', 'apple', 'kiwi', 'strawberry'}\n"
          ]
        }
      ]
    },
    {
      "cell_type": "code",
      "source": [
        "fruits={\"apple\",\"banana\",\"cherry\"}\n",
        "fruits.remove(\"apple\")\n",
        "print(fruits)"
      ],
      "metadata": {
        "colab": {
          "base_uri": "https://localhost:8080/"
        },
        "id": "2raFGxL7bDpM",
        "outputId": "912fabe9-a263-4d3a-a5ec-e2f579353294"
      },
      "execution_count": null,
      "outputs": [
        {
          "output_type": "stream",
          "name": "stdout",
          "text": [
            "{'banana', 'cherry'}\n"
          ]
        }
      ]
    },
    {
      "cell_type": "code",
      "source": [
        "fruits={\"apple\",\"banana\",\"cherry\"}\n",
        "fruits.discard(\"cherry\")\n",
        "print(fruits)"
      ],
      "metadata": {
        "colab": {
          "base_uri": "https://localhost:8080/"
        },
        "id": "gPRaUqZIbL2d",
        "outputId": "1640123d-6a7b-40b1-a791-ea1917298de9"
      },
      "execution_count": null,
      "outputs": [
        {
          "output_type": "stream",
          "name": "stdout",
          "text": [
            "{'banana', 'apple'}\n"
          ]
        }
      ]
    },
    {
      "cell_type": "code",
      "source": [
        "fruits={\"apple\",\"banana\",\"cherry\"}\n",
        "fruits.clear()\n",
        "print(fruits)\n"
      ],
      "metadata": {
        "colab": {
          "base_uri": "https://localhost:8080/"
        },
        "id": "JPpMc5aibYdd",
        "outputId": "a6a62289-2a74-4cb9-ee9b-7369bcdffe05"
      },
      "execution_count": null,
      "outputs": [
        {
          "output_type": "stream",
          "name": "stdout",
          "text": [
            "set()\n"
          ]
        }
      ]
    },
    {
      "cell_type": "code",
      "source": [
        "fruits={\"apple\",\"banana\",\"cherry\"}\n",
        "del fruits\n",
        "print(fruits)"
      ],
      "metadata": {
        "colab": {
          "base_uri": "https://localhost:8080/",
          "height": 176
        },
        "id": "qx5A1x5RbikT",
        "outputId": "37f3b84c-b4d9-4d07-eb83-4cbd108e88d4"
      },
      "execution_count": null,
      "outputs": [
        {
          "output_type": "error",
          "ename": "NameError",
          "evalue": "name 'fruits' is not defined",
          "traceback": [
            "\u001b[0;31m---------------------------------------------------------------------------\u001b[0m",
            "\u001b[0;31mNameError\u001b[0m                                 Traceback (most recent call last)",
            "\u001b[0;32m<ipython-input-48-1488763953>\u001b[0m in \u001b[0;36m<cell line: 0>\u001b[0;34m()\u001b[0m\n\u001b[1;32m      1\u001b[0m \u001b[0mfruits\u001b[0m\u001b[0;34m=\u001b[0m\u001b[0;34m{\u001b[0m\u001b[0;34m\"apple\"\u001b[0m\u001b[0;34m,\u001b[0m\u001b[0;34m\"banana\"\u001b[0m\u001b[0;34m,\u001b[0m\u001b[0;34m\"cherry\"\u001b[0m\u001b[0;34m}\u001b[0m\u001b[0;34m\u001b[0m\u001b[0;34m\u001b[0m\u001b[0m\n\u001b[1;32m      2\u001b[0m \u001b[0;32mdel\u001b[0m \u001b[0mfruits\u001b[0m\u001b[0;34m\u001b[0m\u001b[0;34m\u001b[0m\u001b[0m\n\u001b[0;32m----> 3\u001b[0;31m \u001b[0mprint\u001b[0m\u001b[0;34m(\u001b[0m\u001b[0mfruits\u001b[0m\u001b[0;34m)\u001b[0m\u001b[0;34m\u001b[0m\u001b[0;34m\u001b[0m\u001b[0m\n\u001b[0m",
            "\u001b[0;31mNameError\u001b[0m: name 'fruits' is not defined"
          ]
        }
      ]
    },
    {
      "cell_type": "code",
      "source": [
        "fruits={\"apple\",\"banana\",\"cherry\"}\n",
        "x=fruits.pop()\n",
        "print(x)\n",
        "print(fruits)"
      ],
      "metadata": {
        "colab": {
          "base_uri": "https://localhost:8080/"
        },
        "id": "1bgnhFJHbo30",
        "outputId": "5a312e30-583a-4b01-913f-c882947e3168"
      },
      "execution_count": null,
      "outputs": [
        {
          "output_type": "stream",
          "name": "stdout",
          "text": [
            "banana\n",
            "{'cherry', 'apple'}\n"
          ]
        }
      ]
    },
    {
      "cell_type": "code",
      "source": [
        "s1={\"a\",\"b\",\"c\"}\n",
        "s2={1,2,3}\n",
        "s3=s1.union(s2)\n",
        "print(s3)"
      ],
      "metadata": {
        "colab": {
          "base_uri": "https://localhost:8080/"
        },
        "id": "SQnVAoegcChN",
        "outputId": "5221c9ac-9ca2-495b-f9ba-2c2d532542f8"
      },
      "execution_count": null,
      "outputs": [
        {
          "output_type": "stream",
          "name": "stdout",
          "text": [
            "{1, 2, 3, 'c', 'b', 'a'}\n"
          ]
        }
      ]
    },
    {
      "cell_type": "code",
      "source": [
        "s1={\"a\",\"b\",\"c\"}\n",
        "s2={1,2,3}\n",
        "s1.update(s2)\n",
        "print(s1)"
      ],
      "metadata": {
        "colab": {
          "base_uri": "https://localhost:8080/"
        },
        "id": "pbmoqwHac6nk",
        "outputId": "8150b934-e62f-42cc-99ad-5018f27914cf"
      },
      "execution_count": null,
      "outputs": [
        {
          "output_type": "stream",
          "name": "stdout",
          "text": [
            "{1, 2, 3, 'c', 'b', 'a'}\n"
          ]
        }
      ]
    },
    {
      "cell_type": "code",
      "source": [
        "s1={\"a\",\"b\",\"c\"}\n",
        "s2={1,2,3}\n",
        "s1.update(s2)\n",
        "print(s3)"
      ],
      "metadata": {
        "colab": {
          "base_uri": "https://localhost:8080/"
        },
        "id": "OoxyemOvdnLU",
        "outputId": "774f857a-a9b3-4ef0-c58f-3d59f903ae43"
      },
      "execution_count": null,
      "outputs": [
        {
          "output_type": "stream",
          "name": "stdout",
          "text": [
            "None\n"
          ]
        }
      ]
    },
    {
      "cell_type": "code",
      "source": [
        "x={\"apple\",\"orange\",\"banana\"}\n",
        "y={\"google\",\"microsoft\",\"apple\"}\n",
        "x.intersection_update(y)\n",
        "print(x)"
      ],
      "metadata": {
        "colab": {
          "base_uri": "https://localhost:8080/"
        },
        "id": "QCOnXEYAKcka",
        "outputId": "2513259b-8d77-455f-885e-5e3e51e09025"
      },
      "execution_count": null,
      "outputs": [
        {
          "output_type": "stream",
          "name": "stdout",
          "text": [
            "{'apple'}\n"
          ]
        }
      ]
    },
    {
      "cell_type": "code",
      "source": [
        "x={\"apple\",\"orange\",\"banana\"}\n",
        "y={\"google\",\"microsoft\",\"apple\"}\n",
        "z=x.intersection(y)\n",
        "print(z)"
      ],
      "metadata": {
        "colab": {
          "base_uri": "https://localhost:8080/"
        },
        "id": "HZOgClknLFyq",
        "outputId": "58116047-05bf-4b33-975d-367f5058558f"
      },
      "execution_count": null,
      "outputs": [
        {
          "output_type": "stream",
          "name": "stdout",
          "text": [
            "{'apple'}\n"
          ]
        }
      ]
    },
    {
      "cell_type": "code",
      "source": [
        "x={\"apple\",\"orange\",\"banana\"}\n",
        "y={\"google\",\"microsoft\",\"apple\"}\n",
        "x.add(\"hi\")\n",
        "print(x)"
      ],
      "metadata": {
        "colab": {
          "base_uri": "https://localhost:8080/"
        },
        "id": "uGH5bIWtNlLS",
        "outputId": "d748e8f2-8bed-4ef3-efa8-5cbffeaaa380"
      },
      "execution_count": null,
      "outputs": [
        {
          "output_type": "stream",
          "name": "stdout",
          "text": [
            "{'hi', 'banana', 'orange', 'apple'}\n"
          ]
        }
      ]
    },
    {
      "cell_type": "code",
      "source": [
        "x={\"apple\",\"orange\",\"banana\"}\n",
        "y={\"google\",\"microsoft\",\"apple\"}\n",
        "x.symmetric_difference_update(y)\n",
        "print(x)"
      ],
      "metadata": {
        "colab": {
          "base_uri": "https://localhost:8080/"
        },
        "id": "HsVwySptOOYa",
        "outputId": "f00bcbc7-0f4d-44c4-8272-14893f0df4c4"
      },
      "execution_count": null,
      "outputs": [
        {
          "output_type": "stream",
          "name": "stdout",
          "text": [
            "{'orange', 'banana', 'google', 'microsoft'}\n"
          ]
        }
      ]
    },
    {
      "cell_type": "code",
      "source": [
        "x={\"apple\",\"orange\",\"banana\"}\n",
        "y={\"google\",\"microsoft\",\"apple\"}\n",
        "z=x.symmetric_difference(y)\n",
        "print(z)\n"
      ],
      "metadata": {
        "colab": {
          "base_uri": "https://localhost:8080/"
        },
        "id": "MBYm2SS2Oego",
        "outputId": "78c4f5e5-4c77-4185-c35e-cc16e9be6a36"
      },
      "execution_count": null,
      "outputs": [
        {
          "output_type": "stream",
          "name": "stdout",
          "text": [
            "{'orange', 'banana', 'google', 'microsoft'}\n"
          ]
        }
      ]
    },
    {
      "cell_type": "code",
      "source": [
        "x={\"apple\",\"orange\",\"banana\"}\n",
        "x.clear()\n",
        "print(x)"
      ],
      "metadata": {
        "colab": {
          "base_uri": "https://localhost:8080/"
        },
        "id": "jFx4S3nYP0kv",
        "outputId": "5ba6bd4e-1079-4b0e-c264-16940d7bc744"
      },
      "execution_count": null,
      "outputs": [
        {
          "output_type": "stream",
          "name": "stdout",
          "text": [
            "set()\n"
          ]
        }
      ]
    },
    {
      "cell_type": "code",
      "source": [
        "x={\"apple\",\"orange\",\"banana\"}\n",
        "y={\"google\",\"microsoft\",\"apple\"}\n",
        "x.copy()\n",
        "print(x)"
      ],
      "metadata": {
        "colab": {
          "base_uri": "https://localhost:8080/"
        },
        "id": "594gIHciP-WX",
        "outputId": "0e447c6c-ad17-4038-b785-6191fa22c2ad"
      },
      "execution_count": null,
      "outputs": [
        {
          "output_type": "stream",
          "name": "stdout",
          "text": [
            "{'banana', 'orange', 'apple'}\n"
          ]
        }
      ]
    },
    {
      "cell_type": "code",
      "source": [
        "num = 456  # You can change this number to test\n",
        "num_str = str(num)\n",
        "reversed_str = num_str[len(num_str)::-1] # Use explicit start and step for reversing\n",
        "\n",
        "if num_str == reversed_str:\n",
        "  print(f\"{num} is a palindrome\")\n",
        "else:\n",
        "  print(f\"{num} is not a palindrome\")"
      ],
      "metadata": {
        "colab": {
          "base_uri": "https://localhost:8080/"
        },
        "id": "Y2ctm2HmQHkG",
        "outputId": "a890fa5b-9d96-46cd-f7c2-7022ca6ab1c8"
      },
      "execution_count": null,
      "outputs": [
        {
          "output_type": "stream",
          "name": "stdout",
          "text": [
            "456 is not a palindrome\n"
          ]
        }
      ]
    },
    {
      "cell_type": "code",
      "source": [
        "x={\"apple\",\"orange\",\"banana\"}\n",
        "y={\"google\",\"microsoft\",\"apple\"}\n",
        "x.difference_update(y)\n",
        "print(x)\n"
      ],
      "metadata": {
        "colab": {
          "base_uri": "https://localhost:8080/"
        },
        "id": "OMQviTIkQbXm",
        "outputId": "6c83a943-b0d0-4e82-a15f-19f79dd5e331"
      },
      "execution_count": null,
      "outputs": [
        {
          "output_type": "stream",
          "name": "stdout",
          "text": [
            "{'banana', 'orange'}\n"
          ]
        }
      ]
    },
    {
      "cell_type": "code",
      "source": [
        "x={\"apple\",\"orange\",\"banana\"}\n",
        "y={\"google\",\"microsoft\",\"apple\"}\n",
        "x.discard(\"apple\")\n",
        "print(x)"
      ],
      "metadata": {
        "colab": {
          "base_uri": "https://localhost:8080/"
        },
        "id": "Ec93X86AQvme",
        "outputId": "6b6b2c4f-10ff-4eaf-f67c-2cf1b5348c16"
      },
      "execution_count": null,
      "outputs": [
        {
          "output_type": "stream",
          "name": "stdout",
          "text": [
            "{'banana', 'orange'}\n"
          ]
        }
      ]
    },
    {
      "cell_type": "code",
      "source": [
        "x={\"apple\",\"orange\",\"banana\"}\n",
        "y={\"google\",\"microsoft\",\"apple\"}\n",
        "z=x.isdisjoint(y)\n",
        "print(z)"
      ],
      "metadata": {
        "colab": {
          "base_uri": "https://localhost:8080/"
        },
        "id": "A3MGxCgpQ6AW",
        "outputId": "8d9e4d21-785a-4462-8910-675b19d4c9ba"
      },
      "execution_count": null,
      "outputs": [
        {
          "output_type": "stream",
          "name": "stdout",
          "text": [
            "False\n"
          ]
        }
      ]
    },
    {
      "cell_type": "code",
      "source": [
        "x={\"apple\",\"orange\",\"banana\"}\n",
        "y={\"google\",\"microsoft\",\"apple\"}\n",
        "z=x.issubset(y)\n",
        "print(z)"
      ],
      "metadata": {
        "colab": {
          "base_uri": "https://localhost:8080/"
        },
        "id": "7R0pBjFARq9e",
        "outputId": "aef8d856-5ad6-4a13-8929-b8e9dd8aff07"
      },
      "execution_count": null,
      "outputs": [
        {
          "output_type": "stream",
          "name": "stdout",
          "text": [
            "False\n"
          ]
        }
      ]
    },
    {
      "cell_type": "code",
      "source": [
        "x={\"apple\",\"orange\",\"banana\"}\n",
        "y={\"google\",\"microsoft\",\"apple\"}\n",
        "z=x.issuperset(y)\n",
        "print(z)"
      ],
      "metadata": {
        "colab": {
          "base_uri": "https://localhost:8080/"
        },
        "id": "d0LRD0JFRwmO",
        "outputId": "6386e1de-dcfd-4f1d-8f27-1bd3ef65c344"
      },
      "execution_count": null,
      "outputs": [
        {
          "output_type": "stream",
          "name": "stdout",
          "text": [
            "False\n"
          ]
        }
      ]
    },
    {
      "cell_type": "code",
      "source": [
        "x={\"apple\",\"orange\",\"banana\"}\n",
        "y={\"google\",\"microsoft\",\"apple\"}\n",
        "z=x.symmetric_difference(y)\n",
        "print(z)"
      ],
      "metadata": {
        "colab": {
          "base_uri": "https://localhost:8080/"
        },
        "id": "opk_Mh9UR2D1",
        "outputId": "7e3e5f43-bbc3-4883-a52b-1989f3e3724e"
      },
      "execution_count": null,
      "outputs": [
        {
          "output_type": "stream",
          "name": "stdout",
          "text": [
            "{'orange', 'banana', 'google', 'microsoft'}\n"
          ]
        }
      ]
    },
    {
      "cell_type": "code",
      "source": [
        "x={\"apple\",\"orange\",\"banana\"}\n",
        "x.pop()\n",
        "print(x)"
      ],
      "metadata": {
        "colab": {
          "base_uri": "https://localhost:8080/"
        },
        "id": "UCafb0l0S1vd",
        "outputId": "8e1f564a-63af-4dfb-a8fe-ba7a6fd4a083"
      },
      "execution_count": null,
      "outputs": [
        {
          "output_type": "stream",
          "name": "stdout",
          "text": [
            "{'orange', 'apple'}\n"
          ]
        }
      ]
    },
    {
      "cell_type": "code",
      "source": [
        "x={\"apple\",\"orange\",\"banana\"}\n",
        "x.remove(\"apple\")\n",
        "print(x)"
      ],
      "metadata": {
        "colab": {
          "base_uri": "https://localhost:8080/"
        },
        "id": "4m0ljl8bTMmN",
        "outputId": "75696981-9e19-4726-c418-02965a9720a2"
      },
      "execution_count": null,
      "outputs": [
        {
          "output_type": "stream",
          "name": "stdout",
          "text": [
            "{'banana', 'orange'}\n"
          ]
        }
      ]
    },
    {
      "cell_type": "markdown",
      "source": [
        "# frozenset"
      ],
      "metadata": {
        "id": "WorNBEavT4YU"
      }
    },
    {
      "cell_type": "code",
      "source": [
        "nu=(1,2,3,4,5,6,7,8,9)\n",
        "fnum=frozenset(nu)\n",
        "print(\"frozenset Oject is :\",fnum)"
      ],
      "metadata": {
        "colab": {
          "base_uri": "https://localhost:8080/"
        },
        "id": "ck26OwmyTtrU",
        "outputId": "80c46bfa-815f-44e2-c1e7-8707a7c04f73"
      },
      "execution_count": null,
      "outputs": [
        {
          "output_type": "stream",
          "name": "stdout",
          "text": [
            "frozenset Oject is : frozenset({1, 2, 3, 4, 5, 6, 7, 8, 9})\n"
          ]
        }
      ]
    },
    {
      "cell_type": "markdown",
      "source": [
        "# Dictionaries"
      ],
      "metadata": {
        "id": "wAq7qtz1VgwT"
      }
    },
    {
      "cell_type": "code",
      "source": [
        "cars={\n",
        "    \"brand\" : \"BNW\",\n",
        "    \"model\" : \"2nd series\",\n",
        "    \"year\"  : 2004\n",
        "}\n",
        "print(cars)"
      ],
      "metadata": {
        "colab": {
          "base_uri": "https://localhost:8080/"
        },
        "id": "51rbek-lVmK0",
        "outputId": "cea86f60-18d9-4f19-f30e-1214fb12baa7"
      },
      "execution_count": null,
      "outputs": [
        {
          "output_type": "stream",
          "name": "stdout",
          "text": [
            "{'brand': 'BNW', 'model': '2nd series', 'year': 2004}\n"
          ]
        }
      ]
    },
    {
      "cell_type": "code",
      "source": [
        "cars={\n",
        "    \"brand\" : \"BNW\",\n",
        "    \"model\" : \"2nd series\",\n",
        "    \"year\"  : 2004\n",
        "}\n",
        "x=cars.get(\"model\")\n",
        "print(x)"
      ],
      "metadata": {
        "colab": {
          "base_uri": "https://localhost:8080/"
        },
        "id": "PMwNoxYxaxEp",
        "outputId": "ba264b9c-cd36-4ce5-d17a-776ca5da8da8"
      },
      "execution_count": null,
      "outputs": [
        {
          "output_type": "stream",
          "name": "stdout",
          "text": [
            "2nd series\n"
          ]
        }
      ]
    },
    {
      "cell_type": "code",
      "source": [
        "cars={\n",
        "    \"brand\" : \"BNW\",\n",
        "    \"model\" : \"2nd series\",\n",
        "    \"year\"  : 2004\n",
        "}\n",
        "x=cars.values()\n",
        "print(x)\n",
        "cars[\"year\"]=2000\n",
        "print(x)"
      ],
      "metadata": {
        "colab": {
          "base_uri": "https://localhost:8080/"
        },
        "id": "uJLxRz2UbFSg",
        "outputId": "30638fb3-01c3-4c25-fb9d-7fbc25f958c6"
      },
      "execution_count": null,
      "outputs": [
        {
          "output_type": "stream",
          "name": "stdout",
          "text": [
            "dict_values(['BNW', '2nd series', 2004])\n",
            "dict_values(['BNW', '2nd series', 2000])\n"
          ]
        }
      ]
    },
    {
      "cell_type": "code",
      "source": [
        "cars={\n",
        "    \"brand\" : \"BNW\",\n",
        "    \"model\" : \"2nd series\",\n",
        "    \"year\"  : 2004\n",
        "}\n",
        "x=cars.values()\n",
        "print(x)\n",
        "cars[\"color\"]=\"red\"\n",
        "print(x)"
      ],
      "metadata": {
        "colab": {
          "base_uri": "https://localhost:8080/"
        },
        "id": "Mf8Rtn4nbhHg",
        "outputId": "f1cbb668-0647-4cdb-cd21-c76abd2c16cd"
      },
      "execution_count": null,
      "outputs": [
        {
          "output_type": "stream",
          "name": "stdout",
          "text": [
            "dict_values(['BNW', '2nd series', 2004])\n",
            "dict_values(['BNW', '2nd series', 2004, 'red'])\n"
          ]
        }
      ]
    },
    {
      "cell_type": "code",
      "source": [
        "cars={\n",
        "    \"brand\" : \"BNW\",\n",
        "    \"model\" : \"2nd series\",\n",
        "    \"year\"  : 2004\n",
        "}\n",
        "x=cars.items()\n",
        "print(x)"
      ],
      "metadata": {
        "colab": {
          "base_uri": "https://localhost:8080/"
        },
        "id": "U3-cXKkZczPn",
        "outputId": "3bedf17f-e992-4865-8eac-e0335b4b2d06"
      },
      "execution_count": null,
      "outputs": [
        {
          "output_type": "stream",
          "name": "stdout",
          "text": [
            "dict_items([('brand', 'BNW'), ('model', '2nd series'), ('year', 2004)])\n"
          ]
        }
      ]
    },
    {
      "cell_type": "code",
      "source": [
        "cars={\n",
        "    \"brand\" : \"BNW\",\n",
        "    \"model\" : \"2nd series\",\n",
        "    \"year\"  : 2004\n",
        "}\n",
        "cars[\"year\"]=2020\n",
        "print(cars)"
      ],
      "metadata": {
        "colab": {
          "base_uri": "https://localhost:8080/"
        },
        "id": "PAGaKHJReC5W",
        "outputId": "c1e8edb5-3d0a-43b9-8588-1273addb96c8"
      },
      "execution_count": null,
      "outputs": [
        {
          "output_type": "stream",
          "name": "stdout",
          "text": [
            "{'brand': 'BNW', 'model': '2nd series', 'year': 2020}\n"
          ]
        }
      ]
    },
    {
      "cell_type": "code",
      "source": [
        "cars={\n",
        "    \"brand\" : \"BNW\",\n",
        "    \"model\" : \"2nd series\",\n",
        "    \"year\"  : 2004\n",
        "}\n",
        "cars.update({\"year\":2020})\n",
        "print(cars)"
      ],
      "metadata": {
        "colab": {
          "base_uri": "https://localhost:8080/"
        },
        "id": "KleZVWvceUKo",
        "outputId": "54f26250-a37d-4a3c-d7b7-194f94e4a7aa"
      },
      "execution_count": null,
      "outputs": [
        {
          "output_type": "stream",
          "name": "stdout",
          "text": [
            "{'brand': 'BNW', 'model': '2nd series', 'year': 2020}\n"
          ]
        }
      ]
    },
    {
      "cell_type": "code",
      "source": [
        "cars={\n",
        "    \"brand\":\"ford\",\n",
        "    \"model\":\"mustang\"\n",
        "}\n",
        "cars.pop('model')\n",
        "print(cars)"
      ],
      "metadata": {
        "colab": {
          "base_uri": "https://localhost:8080/"
        },
        "id": "yblUo6vMepz2",
        "outputId": "04c4e161-a198-457d-b047-0ea255ea4e5f"
      },
      "execution_count": null,
      "outputs": [
        {
          "output_type": "stream",
          "name": "stdout",
          "text": [
            "{'brand': 'ford'}\n"
          ]
        }
      ]
    },
    {
      "cell_type": "code",
      "source": [
        "car={\n",
        "    \"brand\":\"ford\",\n",
        "    \"model\":\"mustang\"\n",
        "}\n",
        "del car[\"model\"]\n",
        "print(car)"
      ],
      "metadata": {
        "colab": {
          "base_uri": "https://localhost:8080/"
        },
        "id": "6n06J9rqfGLm",
        "outputId": "b1df87ac-a094-4c71-ecac-7198d28b89a7"
      },
      "execution_count": null,
      "outputs": [
        {
          "output_type": "stream",
          "name": "stdout",
          "text": [
            "{'brand': 'ford'}\n"
          ]
        }
      ]
    },
    {
      "cell_type": "code",
      "source": [
        "car={\n",
        "    \"brand\":\"ford\",\n",
        "    \"model\":\"mustang\"\n",
        "}\n",
        "car.clear()\n",
        "print(car)"
      ],
      "metadata": {
        "colab": {
          "base_uri": "https://localhost:8080/"
        },
        "id": "edmYTI0lfw4l",
        "outputId": "a4080e07-244a-4422-a1f6-b582cbc7f7a2"
      },
      "execution_count": null,
      "outputs": [
        {
          "output_type": "stream",
          "name": "stdout",
          "text": [
            "{}\n"
          ]
        }
      ]
    },
    {
      "cell_type": "code",
      "source": [
        "car={\n",
        "    \"brand\":\"ford\",\n",
        "    \"model\":\"mustang\"\n",
        "}\n",
        "car=car.copy()\n",
        "print(car)"
      ],
      "metadata": {
        "colab": {
          "base_uri": "https://localhost:8080/"
        },
        "id": "0GRbB7X8f-5t",
        "outputId": "384f98b4-a2c1-4f00-9ef1-8f9f8a12f9f9"
      },
      "execution_count": null,
      "outputs": [
        {
          "output_type": "stream",
          "name": "stdout",
          "text": [
            "{'brand': 'ford', 'model': 'mustang'}\n"
          ]
        }
      ]
    },
    {
      "cell_type": "code",
      "source": [
        "car={\n",
        "    \"brand\":\"ford\",\n",
        "    \"model\":\"mustang\"\n",
        "}\n",
        "car=dict(car)\n",
        "print(car)"
      ],
      "metadata": {
        "colab": {
          "base_uri": "https://localhost:8080/"
        },
        "id": "SWUQi6I-gquN",
        "outputId": "856396ef-dd6a-458d-ee4f-f8b028927da6"
      },
      "execution_count": null,
      "outputs": [
        {
          "output_type": "stream",
          "name": "stdout",
          "text": [
            "{'brand': 'ford', 'model': 'mustang'}\n"
          ]
        }
      ]
    },
    {
      "cell_type": "code",
      "source": [
        "friends={\n",
        "    \"child1\" :{\n",
        "        \"name\":\"arun\",\n",
        "        \"year\":2000\n",
        "    },\n",
        "    \"child2\" :{\n",
        "        \"name\":\"arun\",\n",
        "        \"year\":\"2001\"\n",
        "    },\n",
        "     \"child3\":{\n",
        "         \"name\":\"arya\",\n",
        "         \"year\":2018\n",
        "     }\n",
        "}\n",
        "print(friends)"
      ],
      "metadata": {
        "colab": {
          "base_uri": "https://localhost:8080/"
        },
        "id": "nDhUnbLclI5a",
        "outputId": "d3d3784d-0816-4020-fb68-6a6834db30cc"
      },
      "execution_count": null,
      "outputs": [
        {
          "output_type": "stream",
          "name": "stdout",
          "text": [
            "{'child1': {'name': 'arun', 'year': 2000}, 'child2': {'name': 'arun', 'year': '2001'}, 'child3': {'name': 'arya', 'year': 2018}}\n"
          ]
        }
      ]
    },
    {
      "cell_type": "code",
      "source": [
        "\n",
        "child1={\n",
        "        \"name\":\"arun\",\n",
        "        \"year\":2000\n",
        "    }\n",
        "\n",
        "\n",
        "child2={\n",
        "        \"name\":\"arun\",\n",
        "        \"year\":\"2001\"\n",
        "    }\n",
        "\n",
        "child3={\n",
        "         \"name\":\"arya\",\n",
        "         \"year\":2018\n",
        "     }\n",
        "\n",
        "\n",
        "\n",
        "\n",
        "friends={\n",
        "    \"child1\": child1 ,\n",
        "     \"child2\": child2 ,\n",
        "    \"child3\":child3\n",
        "}\n",
        "friends"
      ],
      "metadata": {
        "colab": {
          "base_uri": "https://localhost:8080/"
        },
        "id": "7B5rlA6fmZsC",
        "outputId": "3b171832-e4e6-483b-847f-985b1b37be63"
      },
      "execution_count": null,
      "outputs": [
        {
          "output_type": "execute_result",
          "data": {
            "text/plain": [
              "{'child1': {'name': 'arun', 'year': 2000},\n",
              " 'child2': {'name': 'arun', 'year': '2001'},\n",
              " 'child3': {'name': 'arya', 'year': 2018}}"
            ]
          },
          "metadata": {},
          "execution_count": 63
        }
      ]
    },
    {
      "cell_type": "markdown",
      "source": [
        "# if"
      ],
      "metadata": {
        "id": "J3J3y9FmXK7w"
      }
    },
    {
      "cell_type": "code",
      "source": [
        "a=33\n",
        "b=200\n",
        "if b>a:\n",
        "  print(\"b is greater than a\")"
      ],
      "metadata": {
        "colab": {
          "base_uri": "https://localhost:8080/"
        },
        "id": "Pq_GPJEzo_5B",
        "outputId": "d59f1c8d-c123-4a75-fe92-f5f7f2568232"
      },
      "execution_count": null,
      "outputs": [
        {
          "output_type": "stream",
          "name": "stdout",
          "text": [
            "b is greater than a\n"
          ]
        }
      ]
    },
    {
      "cell_type": "code",
      "source": [
        "a=33\n",
        "b=200\n",
        "if b>a:\n",
        "  print(\"b is greater than a\")\n",
        "elif a==b:\n",
        "  print(\"a and b are equal\")\n"
      ],
      "metadata": {
        "colab": {
          "base_uri": "https://localhost:8080/"
        },
        "id": "z2EgBvdjp2I6",
        "outputId": "41e8f419-a212-4166-d2e0-76d500f2acc6"
      },
      "execution_count": null,
      "outputs": [
        {
          "output_type": "stream",
          "name": "stdout",
          "text": [
            "b is greater than a\n"
          ]
        }
      ]
    },
    {
      "cell_type": "code",
      "source": [
        "a=33\n",
        "b=200\n",
        "if b>a:\n",
        "  print(\"b is greater than a\")\n",
        "elif a==b:\n",
        "  print(\"a and b are equal\")\n",
        "else:\n",
        "  print(\"a is greater than b\")"
      ],
      "metadata": {
        "colab": {
          "base_uri": "https://localhost:8080/"
        },
        "id": "OpZ5BzGGqQav",
        "outputId": "44858ab2-9f50-4427-96d0-d1982262418f"
      },
      "execution_count": null,
      "outputs": [
        {
          "output_type": "stream",
          "name": "stdout",
          "text": [
            "b is greater than a\n"
          ]
        }
      ]
    },
    {
      "cell_type": "code",
      "source": [
        "a=200\n",
        "b=200\n",
        "print(\"a\")if a>b else print(\"=\")if a==b else print(\"b\")"
      ],
      "metadata": {
        "colab": {
          "base_uri": "https://localhost:8080/"
        },
        "id": "-PjAAxU4qjpI",
        "outputId": "38720cf9-a043-430b-ff67-5e32bb74e096"
      },
      "execution_count": null,
      "outputs": [
        {
          "output_type": "stream",
          "name": "stdout",
          "text": [
            "=\n"
          ]
        }
      ]
    },
    {
      "cell_type": "code",
      "source": [
        "a=200\n",
        "b=33\n",
        "c=500\n",
        "if a>b and c>a:\n",
        "  print(\"both conditions are true\")"
      ],
      "metadata": {
        "colab": {
          "base_uri": "https://localhost:8080/"
        },
        "id": "0mdQ6JnFrPyG",
        "outputId": "adb8f19a-badc-4f9d-86ec-49d5062b36eb"
      },
      "execution_count": null,
      "outputs": [
        {
          "output_type": "stream",
          "name": "stdout",
          "text": [
            "both conditions are true\n"
          ]
        }
      ]
    },
    {
      "cell_type": "code",
      "source": [
        "a=200\n",
        "b=33\n",
        "c=500\n",
        "if a>b or c>a:\n",
        "  print(\"atleast one is true\")"
      ],
      "metadata": {
        "colab": {
          "base_uri": "https://localhost:8080/"
        },
        "id": "rGU-3bthrjdn",
        "outputId": "aa17c9cb-a19c-496c-d339-1f8358dd5cda"
      },
      "execution_count": null,
      "outputs": [
        {
          "output_type": "stream",
          "name": "stdout",
          "text": [
            "atleast one is true\n"
          ]
        }
      ]
    },
    {
      "cell_type": "code",
      "source": [
        "x=41\n",
        "if x>10:\n",
        "   print(\"above ten,\")\n",
        "   if x>20:\n",
        "    print(\"and also above 20!\")\n",
        "else:\n",
        "  print(\"but not above 20\")"
      ],
      "metadata": {
        "colab": {
          "base_uri": "https://localhost:8080/"
        },
        "id": "An4dfvhRr32-",
        "outputId": "6a8d31ca-cf5f-4cf6-e483-677012f86cbf"
      },
      "execution_count": null,
      "outputs": [
        {
          "output_type": "stream",
          "name": "stdout",
          "text": [
            "above ten,\n",
            "and also above 20!\n"
          ]
        }
      ]
    },
    {
      "cell_type": "code",
      "source": [
        "a=33\n",
        "b=200\n",
        "if b>a:\n",
        "  pass"
      ],
      "metadata": {
        "id": "tEU3IgxOsn5f"
      },
      "execution_count": null,
      "outputs": []
    },
    {
      "cell_type": "markdown",
      "source": [
        "# while"
      ],
      "metadata": {
        "id": "uuXwUacxXO0A"
      }
    },
    {
      "cell_type": "code",
      "source": [
        "a=[\"a\",\"b\",\"c\"]\n",
        "i=0\n",
        "while a:\n",
        "  print(a.pop())\n"
      ],
      "metadata": {
        "colab": {
          "base_uri": "https://localhost:8080/"
        },
        "id": "GdAAUbL9Orye",
        "outputId": "93eb8c92-25d4-44e2-8ddb-8c8bf9a74a3f"
      },
      "execution_count": null,
      "outputs": [
        {
          "output_type": "stream",
          "name": "stdout",
          "text": [
            "c\n",
            "b\n",
            "a\n"
          ]
        }
      ]
    },
    {
      "cell_type": "code",
      "source": [
        "a=[1,2,3,4,5,6]\n",
        "while a:\n",
        "  print(a.pop())"
      ],
      "metadata": {
        "colab": {
          "base_uri": "https://localhost:8080/"
        },
        "id": "eqdtrPa6O4nE",
        "outputId": "4b7f268e-3770-448b-944c-ddf5afb01bd1"
      },
      "execution_count": null,
      "outputs": [
        {
          "output_type": "stream",
          "name": "stdout",
          "text": [
            "6\n",
            "5\n",
            "4\n",
            "3\n",
            "2\n",
            "1\n"
          ]
        }
      ]
    },
    {
      "cell_type": "code",
      "source": [
        "i=0\n",
        "while i<4:\n",
        "  i+=1\n",
        "  print(i)\n",
        "  continue"
      ],
      "metadata": {
        "colab": {
          "base_uri": "https://localhost:8080/"
        },
        "id": "aqpVAurIREDr",
        "outputId": "e9ec4e57-5002-4b33-e23d-e05499129e12"
      },
      "execution_count": null,
      "outputs": [
        {
          "output_type": "stream",
          "name": "stdout",
          "text": [
            "1\n",
            "2\n",
            "3\n",
            "4\n"
          ]
        }
      ]
    },
    {
      "cell_type": "code",
      "source": [
        "\n",
        "i=0\n",
        "while i<4:\n",
        "  i+=1\n",
        "  print(i)\n",
        "  break"
      ],
      "metadata": {
        "colab": {
          "base_uri": "https://localhost:8080/"
        },
        "id": "6li23iqqR-mF",
        "outputId": "34062724-b15f-4be5-c920-a108d635adc1"
      },
      "execution_count": null,
      "outputs": [
        {
          "output_type": "stream",
          "name": "stdout",
          "text": [
            "1\n"
          ]
        }
      ]
    },
    {
      "cell_type": "code",
      "source": [
        "i=0\n",
        "while i<4:\n",
        "  i+=1\n",
        "  print(i)\n",
        "  pass"
      ],
      "metadata": {
        "colab": {
          "base_uri": "https://localhost:8080/"
        },
        "id": "51jXbf2aSX3S",
        "outputId": "9a4f318c-86f9-47c3-d960-c31ba2066121"
      },
      "execution_count": null,
      "outputs": [
        {
          "output_type": "stream",
          "name": "stdout",
          "text": [
            "1\n",
            "2\n",
            "3\n",
            "4\n"
          ]
        }
      ]
    },
    {
      "cell_type": "code",
      "source": [
        "a='loop in python'\n",
        "i=0\n",
        "while i < len(a):\n",
        "  i+=1\n",
        "  pass\n",
        "print(\"value of i:\",i)"
      ],
      "metadata": {
        "colab": {
          "base_uri": "https://localhost:8080/"
        },
        "id": "F3245h7gSdui",
        "outputId": "f46290fc-f565-4246-a6ba-61c915f09ff8"
      },
      "execution_count": null,
      "outputs": [
        {
          "output_type": "stream",
          "name": "stdout",
          "text": [
            "value of i: 14\n"
          ]
        }
      ]
    },
    {
      "cell_type": "code",
      "source": [
        "i=0\n",
        "a=\"loops in python\"\n",
        "while i<len(a):\n",
        "  if a[i]=='e' or a[i]=='s':\n",
        "    i+=1\n",
        "    continue\n",
        "  print('current letter:',a[i])\n",
        "  i+=1"
      ],
      "metadata": {
        "colab": {
          "base_uri": "https://localhost:8080/"
        },
        "id": "5N1-5bF3TLjq",
        "outputId": "ad464755-e17d-433d-f67a-947b2780dbdc"
      },
      "execution_count": null,
      "outputs": [
        {
          "output_type": "stream",
          "name": "stdout",
          "text": [
            "current letter: l\n",
            "current letter: o\n",
            "current letter: o\n",
            "current letter: p\n",
            "current letter:  \n",
            "current letter: i\n",
            "current letter: n\n",
            "current letter:  \n",
            "current letter: p\n",
            "current letter: y\n",
            "current letter: t\n",
            "current letter: h\n",
            "current letter: o\n",
            "current letter: n\n"
          ]
        }
      ]
    },
    {
      "cell_type": "code",
      "source": [
        "i=0\n",
        "a=\"loops in python\"\n",
        "while i<len(a):\n",
        "  if a[i]=='e' or a[i]=='s':\n",
        "    i+=1\n",
        "    break\n",
        "  print('current letter:',a[i])\n",
        "  i+=1"
      ],
      "metadata": {
        "colab": {
          "base_uri": "https://localhost:8080/"
        },
        "id": "aCzqulMNV-yg",
        "outputId": "3a62a1e8-b976-4a99-943b-cfbd87d6180a"
      },
      "execution_count": null,
      "outputs": [
        {
          "output_type": "stream",
          "name": "stdout",
          "text": [
            "current letter: l\n",
            "current letter: o\n",
            "current letter: o\n",
            "current letter: p\n"
          ]
        }
      ]
    },
    {
      "cell_type": "markdown",
      "source": [
        "##while-else"
      ],
      "metadata": {
        "id": "4p7NbdsxXXGv"
      }
    },
    {
      "cell_type": "code",
      "source": [
        "i=0\n",
        "while i<4:\n",
        "  i+=2\n",
        "  print(i)\n",
        "\n",
        "else:\n",
        "   print(\"no break\")"
      ],
      "metadata": {
        "colab": {
          "base_uri": "https://localhost:8080/"
        },
        "id": "wCNXmMOEXb9X",
        "outputId": "248cd5c1-b80d-4486-df4c-27874ffd4140"
      },
      "execution_count": null,
      "outputs": [
        {
          "output_type": "stream",
          "name": "stdout",
          "text": [
            "2\n",
            "4\n",
            "no break\n"
          ]
        }
      ]
    },
    {
      "cell_type": "code",
      "source": [
        "for i in range(10,110,10):\n",
        "  if i==50:\n",
        "    continue\n",
        "  elif i==70:\n",
        "    break\n",
        "  elif i==60:\n",
        "    pass\n",
        "  else:\n",
        "    print(i)"
      ],
      "metadata": {
        "colab": {
          "base_uri": "https://localhost:8080/"
        },
        "id": "JxjUvyAJZbLG",
        "outputId": "cfd16ede-5540-460e-d4db-d284f5e16180"
      },
      "execution_count": null,
      "outputs": [
        {
          "output_type": "stream",
          "name": "stdout",
          "text": [
            "10\n",
            "20\n",
            "30\n",
            "40\n"
          ]
        }
      ]
    },
    {
      "cell_type": "code",
      "source": [
        "s=[\"for\",\"hello\"]\n",
        "for i in s:\n",
        "  print(i)"
      ],
      "metadata": {
        "colab": {
          "base_uri": "https://localhost:8080/"
        },
        "id": "S9U8zjDuZk_V",
        "outputId": "7b506ec1-6888-44cd-f3bd-75cb6f1baae8"
      },
      "execution_count": null,
      "outputs": [
        {
          "output_type": "stream",
          "name": "stdout",
          "text": [
            "for\n",
            "hello\n"
          ]
        }
      ]
    },
    {
      "cell_type": "code",
      "source": [
        "print(\"dictionary iterations\")\n",
        "d=dict()\n",
        "d['xyz']=123\n",
        "d['abc']=345\n",
        "for i in d:\n",
        "  print(\"%s %d\" %(i,d[i]))"
      ],
      "metadata": {
        "colab": {
          "base_uri": "https://localhost:8080/"
        },
        "id": "oR8vrm6tcPiW",
        "outputId": "ef8a322b-6f96-4e94-a4f3-07bc90cdf9c0"
      },
      "execution_count": null,
      "outputs": [
        {
          "output_type": "stream",
          "name": "stdout",
          "text": [
            "dictionary iterations\n",
            "xyz 123\n",
            "abc 345\n"
          ]
        }
      ]
    },
    {
      "cell_type": "code",
      "source": [
        "for x in 'python developer':\n",
        "  if x=='e' or x=='o':\n",
        "    pass\n",
        "  print(x)\n",
        "print(\"current letter:\",x)"
      ],
      "metadata": {
        "colab": {
          "base_uri": "https://localhost:8080/"
        },
        "id": "g5QuX7SydX77",
        "outputId": "41531036-6862-4da2-e8e5-97adf79612d4"
      },
      "execution_count": null,
      "outputs": [
        {
          "output_type": "stream",
          "name": "stdout",
          "text": [
            "p\n",
            "y\n",
            "t\n",
            "h\n",
            "o\n",
            "n\n",
            " \n",
            "d\n",
            "e\n",
            "v\n",
            "e\n",
            "l\n",
            "o\n",
            "p\n",
            "e\n",
            "r\n",
            "current letter: r\n"
          ]
        }
      ]
    },
    {
      "cell_type": "code",
      "source": [
        "for i in range(10):\n",
        "  print (i)"
      ],
      "metadata": {
        "colab": {
          "base_uri": "https://localhost:8080/"
        },
        "id": "IkhMw9RAf1Hq",
        "outputId": "71509624-1ec0-4f10-aa44-4392fe560f0e"
      },
      "execution_count": null,
      "outputs": [
        {
          "output_type": "stream",
          "name": "stdout",
          "text": [
            "0\n",
            "1\n",
            "2\n",
            "3\n",
            "4\n",
            "5\n",
            "6\n",
            "7\n",
            "8\n",
            "9\n"
          ]
        }
      ]
    },
    {
      "cell_type": "code",
      "source": [
        "l=[10,20,30,40]\n",
        "for i in range(len(l)):\n",
        "  print(l[i],end=\" \")\n",
        "print()"
      ],
      "metadata": {
        "colab": {
          "base_uri": "https://localhost:8080/"
        },
        "id": "pTKpr9UvgPxq",
        "outputId": "6e1b05fc-ad41-4f46-a867-21b9aeb353a4"
      },
      "execution_count": null,
      "outputs": [
        {
          "output_type": "stream",
          "name": "stdout",
          "text": [
            "10 20 30 40 \n"
          ]
        }
      ]
    },
    {
      "cell_type": "code",
      "source": [
        "sum=0\n",
        "for i in range(1,11):\n",
        "  sum=sum+i\n",
        "print(\"sum of first 10 natural num:\",sum)"
      ],
      "metadata": {
        "colab": {
          "base_uri": "https://localhost:8080/"
        },
        "id": "C6LY_hBPg-YL",
        "outputId": "f87392d0-bfa9-4b58-8295-63ee55d8bcff"
      },
      "execution_count": null,
      "outputs": [
        {
          "output_type": "stream",
          "name": "stdout",
          "text": [
            "sum of first 10 natural num: 55\n"
          ]
        }
      ]
    },
    {
      "cell_type": "code",
      "source": [
        "for i in range(1,4):\n",
        "  print(i)\n",
        "else:\n",
        "  print(\"no break\")"
      ],
      "metadata": {
        "colab": {
          "base_uri": "https://localhost:8080/"
        },
        "id": "BcMjpIvgq9Dl",
        "outputId": "a0b97f8f-5750-451e-f0f2-85c60442aaa7"
      },
      "execution_count": null,
      "outputs": [
        {
          "output_type": "stream",
          "name": "stdout",
          "text": [
            "1\n",
            "2\n",
            "3\n",
            "no break\n"
          ]
        }
      ]
    },
    {
      "cell_type": "code",
      "source": [
        "for i in range(1,4):\n",
        "  print(i)\n",
        "  break\n",
        "else:\n",
        "  print(\"no break\")"
      ],
      "metadata": {
        "colab": {
          "base_uri": "https://localhost:8080/"
        },
        "id": "ZLKpRzeJrc1k",
        "outputId": "46a59c6c-e02c-48b9-b6a2-a46c044b936b"
      },
      "execution_count": null,
      "outputs": [
        {
          "output_type": "stream",
          "name": "stdout",
          "text": [
            "1\n"
          ]
        }
      ]
    },
    {
      "cell_type": "code",
      "source": [
        "color=[\"red\",\"yellow\",\"green\"]\n",
        "fruits=[\"apple\",\"banana\",\"grapes\"]\n",
        "for x in color:\n",
        "  for y in fruits:\n",
        "    print(x,y)"
      ],
      "metadata": {
        "colab": {
          "base_uri": "https://localhost:8080/"
        },
        "id": "MSam3ldgroU0",
        "outputId": "ddc879ac-be75-4ef4-af5c-b2ba39cc1f17"
      },
      "execution_count": null,
      "outputs": [
        {
          "output_type": "stream",
          "name": "stdout",
          "text": [
            "red apple\n",
            "red banana\n",
            "red grapes\n",
            "yellow apple\n",
            "yellow banana\n",
            "yellow grapes\n",
            "green apple\n",
            "green banana\n",
            "green grapes\n"
          ]
        }
      ]
    },
    {
      "cell_type": "markdown",
      "source": [
        "## **Python functions**"
      ],
      "metadata": {
        "id": "y2QMLF14tHJz"
      }
    },
    {
      "cell_type": "markdown",
      "source": [
        "type of functions\n",
        "1.Buildin function .eg print(),type(),list(),int(),range()\n",
        "2.User define function"
      ],
      "metadata": {
        "id": "BFONXOWfjdIW"
      }
    },
    {
      "cell_type": "code",
      "source": [
        "def myfun_name():\n",
        "  print(\"Print function inside a function\")"
      ],
      "metadata": {
        "id": "W3747rQ4s5ry"
      },
      "execution_count": null,
      "outputs": []
    },
    {
      "cell_type": "code",
      "source": [
        "myfun_name()"
      ],
      "metadata": {
        "colab": {
          "base_uri": "https://localhost:8080/"
        },
        "id": "C0qgW-wHj_Ne",
        "outputId": "66aaf638-f048-4ced-af21-1383a859e027"
      },
      "execution_count": null,
      "outputs": [
        {
          "output_type": "stream",
          "name": "stdout",
          "text": [
            "Print function inside a function\n"
          ]
        }
      ]
    },
    {
      "cell_type": "markdown",
      "source": [
        "### **arguments**"
      ],
      "metadata": {
        "id": "-wXQPtFmkSJ1"
      }
    },
    {
      "cell_type": "code",
      "source": [
        "def calc(x,y=5):\n",
        "  print(x+y)"
      ],
      "metadata": {
        "id": "CaMR5HTvkE2W"
      },
      "execution_count": null,
      "outputs": []
    },
    {
      "cell_type": "code",
      "source": [
        "a=2\n",
        "b=3\n",
        "calc(a,b)"
      ],
      "metadata": {
        "colab": {
          "base_uri": "https://localhost:8080/"
        },
        "id": "_3GMj7cikcBu",
        "outputId": "e88384bc-cd10-4c31-843d-be0ad6206bc4"
      },
      "execution_count": null,
      "outputs": [
        {
          "output_type": "stream",
          "name": "stdout",
          "text": [
            "5\n"
          ]
        }
      ]
    },
    {
      "cell_type": "code",
      "source": [
        "def list_cre(*n):\n",
        "  for i in n:\n",
        "    print(i)"
      ],
      "metadata": {
        "id": "Ro1ZhTppkhEN"
      },
      "execution_count": null,
      "outputs": []
    },
    {
      "cell_type": "code",
      "source": [
        "list_cre(1,2,3,4,5)"
      ],
      "metadata": {
        "colab": {
          "base_uri": "https://localhost:8080/"
        },
        "id": "zkkIsUNSlZwN",
        "outputId": "e2b45a1c-d0a4-4525-8768-9bbc6293ae69"
      },
      "execution_count": null,
      "outputs": [
        {
          "output_type": "stream",
          "name": "stdout",
          "text": [
            "1\n",
            "2\n",
            "3\n",
            "4\n",
            "5\n"
          ]
        }
      ]
    },
    {
      "cell_type": "code",
      "source": [
        "def dict_cre(**n):\n",
        "  for k,v in n.items():\n",
        "    print(k,\":\",v)\n",
        "  for k in n.keys():\n",
        "    print(k)\n",
        "  for V in n.values():\n",
        "    print(V)\n",
        "dict_cre(a=\"an\",b=\"bn\",c=\"cn\")"
      ],
      "metadata": {
        "colab": {
          "base_uri": "https://localhost:8080/"
        },
        "id": "t0EGx836let8",
        "outputId": "be85f838-6125-483f-a0bc-97d30791bb55"
      },
      "execution_count": null,
      "outputs": [
        {
          "output_type": "stream",
          "name": "stdout",
          "text": [
            "a : an\n",
            "b : bn\n",
            "c : cn\n",
            "a\n",
            "b\n",
            "c\n",
            "an\n",
            "bn\n",
            "cn\n"
          ]
        }
      ]
    },
    {
      "cell_type": "code",
      "source": [
        "def hello():\n",
        "  print(\"welcome\")\n"
      ],
      "metadata": {
        "id": "kUMCZkhbmEm9"
      },
      "execution_count": null,
      "outputs": []
    },
    {
      "cell_type": "code",
      "source": [
        "hello()"
      ],
      "metadata": {
        "colab": {
          "base_uri": "https://localhost:8080/"
        },
        "id": "OO4rBlPloGHn",
        "outputId": "907fa344-a3f9-4db9-a2d6-d4dcc9d83bdc"
      },
      "execution_count": null,
      "outputs": [
        {
          "output_type": "stream",
          "name": "stdout",
          "text": [
            "welcome\n"
          ]
        }
      ]
    },
    {
      "cell_type": "code",
      "source": [
        "def even_odd(x):\n",
        "  if x%2==0:\n",
        "    print(\"even\")\n",
        "  else:\n",
        "    print(\"odd\")\n",
        "\n",
        "even_odd(3)"
      ],
      "metadata": {
        "colab": {
          "base_uri": "https://localhost:8080/"
        },
        "id": "wlm_XkjGoIy1",
        "outputId": "802ee0bb-d59b-4e0f-af95-3f02117c95c2"
      },
      "execution_count": null,
      "outputs": [
        {
          "output_type": "stream",
          "name": "stdout",
          "text": [
            "odd\n"
          ]
        }
      ]
    },
    {
      "cell_type": "code",
      "source": [
        "def myfun(x,y=5):\n",
        "  print(\"x:\",x)\n",
        "  print(\"y:\",y)\n",
        "myfun(10)"
      ],
      "metadata": {
        "colab": {
          "base_uri": "https://localhost:8080/"
        },
        "id": "_Zc2horXqZpn",
        "outputId": "eadf7752-ff1c-433e-8337-c6c27dd808b3"
      },
      "execution_count": null,
      "outputs": [
        {
          "output_type": "stream",
          "name": "stdout",
          "text": [
            "x: 10\n",
            "y: 5\n"
          ]
        }
      ]
    },
    {
      "cell_type": "code",
      "source": [
        "def student(firstname,lastname):\n",
        "  print(firstname,lastname)\n",
        "student(aiswarya,functions)"
      ],
      "metadata": {
        "id": "VHFJPt3irfGt",
        "colab": {
          "base_uri": "https://localhost:8080/",
          "height": 176
        },
        "outputId": "24e4e541-a34c-4852-f33b-813954574483"
      },
      "execution_count": null,
      "outputs": [
        {
          "output_type": "error",
          "ename": "NameError",
          "evalue": "name 'aiswarya' is not defined",
          "traceback": [
            "\u001b[0;31m---------------------------------------------------------------------------\u001b[0m",
            "\u001b[0;31mNameError\u001b[0m                                 Traceback (most recent call last)",
            "\u001b[0;32m/tmp/ipython-input-29-1935301966.py\u001b[0m in \u001b[0;36m<cell line: 0>\u001b[0;34m()\u001b[0m\n\u001b[1;32m      1\u001b[0m \u001b[0;32mdef\u001b[0m \u001b[0mstudent\u001b[0m\u001b[0;34m(\u001b[0m\u001b[0mfirstname\u001b[0m\u001b[0;34m,\u001b[0m\u001b[0mlastname\u001b[0m\u001b[0;34m)\u001b[0m\u001b[0;34m:\u001b[0m\u001b[0;34m\u001b[0m\u001b[0;34m\u001b[0m\u001b[0m\n\u001b[1;32m      2\u001b[0m   \u001b[0mprint\u001b[0m\u001b[0;34m(\u001b[0m\u001b[0mfirstname\u001b[0m\u001b[0;34m,\u001b[0m\u001b[0mlastname\u001b[0m\u001b[0;34m)\u001b[0m\u001b[0;34m\u001b[0m\u001b[0;34m\u001b[0m\u001b[0m\n\u001b[0;32m----> 3\u001b[0;31m \u001b[0mstudent\u001b[0m\u001b[0;34m(\u001b[0m\u001b[0maiswarya\u001b[0m\u001b[0;34m,\u001b[0m\u001b[0mfunctions\u001b[0m\u001b[0;34m)\u001b[0m\u001b[0;34m\u001b[0m\u001b[0;34m\u001b[0m\u001b[0m\n\u001b[0m",
            "\u001b[0;31mNameError\u001b[0m: name 'aiswarya' is not defined"
          ]
        }
      ]
    },
    {
      "cell_type": "code",
      "source": [
        "def my_function(*kids):\n",
        "  print(\"the youngest child is\"+kids[2])\n",
        "my_function(\"emil\",\"tobias\",\"linus\")\n"
      ],
      "metadata": {
        "id": "rv8KfAltszz3",
        "colab": {
          "base_uri": "https://localhost:8080/"
        },
        "outputId": "c861c2bf-81e6-4a42-f2d4-fed18614257d"
      },
      "execution_count": null,
      "outputs": [
        {
          "output_type": "stream",
          "name": "stdout",
          "text": [
            "the youngest child islinus\n"
          ]
        }
      ]
    },
    {
      "cell_type": "code",
      "source": [
        "def myfunction(*argv):\n",
        "  for x in argv:\n",
        "    print(x)\n",
        "myfunction('hello','welcome','to','ipcs')"
      ],
      "metadata": {
        "colab": {
          "base_uri": "https://localhost:8080/"
        },
        "id": "Ux41hoa9AK0G",
        "outputId": "aa833d72-a4ca-42fa-e344-5015268c437a"
      },
      "execution_count": null,
      "outputs": [
        {
          "output_type": "stream",
          "name": "stdout",
          "text": [
            "hello\n",
            "welcome\n",
            "to\n",
            "ipcs\n"
          ]
        }
      ]
    },
    {
      "cell_type": "code",
      "source": [
        "def my_function(**student):\n",
        "  print(\"His firstname is :\"+ student[\"fname\"])\n",
        "my_function(fname=\"vignesh\",lname=\"k\")"
      ],
      "metadata": {
        "colab": {
          "base_uri": "https://localhost:8080/"
        },
        "id": "dckr8Z7TBj-W",
        "outputId": "cfa2154a-c019-4b30-b7a4-ec8a3977458d"
      },
      "execution_count": null,
      "outputs": [
        {
          "output_type": "stream",
          "name": "stdout",
          "text": [
            "His firstname is :vignesh\n"
          ]
        }
      ]
    },
    {
      "cell_type": "code",
      "source": [
        "def my_fun(**kwargs):\n",
        "  for key,value in kwargs.items():\n",
        "    print(\"%s==%s\" %(key,value))\n",
        "my_fun(first='welcome',mid='for',last='course')"
      ],
      "metadata": {
        "colab": {
          "base_uri": "https://localhost:8080/"
        },
        "id": "_ATnIwjfCzKu",
        "outputId": "6f1c9880-3822-4d0b-a85e-802b9821bed3"
      },
      "execution_count": null,
      "outputs": [
        {
          "output_type": "stream",
          "name": "stdout",
          "text": [
            "first==welcome\n",
            "mid==for\n",
            "last==course\n"
          ]
        }
      ]
    },
    {
      "cell_type": "code",
      "source": [
        "def my_function(country=\"Norway\"):\n",
        " print(\"I am from:\"+ country)\n",
        "my_function(\"sweden\")\n",
        "my_function(\"india\")\n",
        "my_function()\n",
        "my_function(\"brazil\")"
      ],
      "metadata": {
        "colab": {
          "base_uri": "https://localhost:8080/"
        },
        "id": "88NICsFdE2rI",
        "outputId": "6ed5a17e-18cd-4cec-da75-b329ce5ea664"
      },
      "execution_count": null,
      "outputs": [
        {
          "output_type": "stream",
          "name": "stdout",
          "text": [
            "I am from:sweden\n",
            "I am from:india\n",
            "I am from:Norway\n",
            "I am from:brazil\n"
          ]
        }
      ]
    },
    {
      "cell_type": "code",
      "source": [
        "def my_fub(xyz):\n",
        "  for x in xyz:\n",
        "    print(x)\n",
        "\n",
        "fruits=[\"apple\",\"banana\",\"orange\"]\n",
        "my_fub(fruits)"
      ],
      "metadata": {
        "colab": {
          "base_uri": "https://localhost:8080/"
        },
        "id": "eaRh3cUkH-Lt",
        "outputId": "668d683e-1899-42c0-c5ef-2fd8ff4c2724"
      },
      "execution_count": null,
      "outputs": [
        {
          "output_type": "stream",
          "name": "stdout",
          "text": [
            "apple\n",
            "banana\n",
            "orange\n"
          ]
        }
      ]
    },
    {
      "cell_type": "code",
      "source": [],
      "metadata": {
        "id": "G2C5NBgDJtJn"
      },
      "execution_count": null,
      "outputs": []
    },
    {
      "cell_type": "code",
      "source": [
        "def sq_val(num):\n",
        "  return num**2\n",
        "print(sq_val(2))\n",
        "print(sq_val(9))"
      ],
      "metadata": {
        "colab": {
          "base_uri": "https://localhost:8080/"
        },
        "id": "8NKCAIEXJiSF",
        "outputId": "fb7c4bc8-7ee1-46bc-8d31-d322f36d433e"
      },
      "execution_count": null,
      "outputs": [
        {
          "output_type": "stream",
          "name": "stdout",
          "text": [
            "4\n",
            "81\n"
          ]
        }
      ]
    },
    {
      "cell_type": "code",
      "source": [
        "def my_function(x):\n",
        "  x[0]=39\n",
        "lst=[1,33,45,56,67]\n",
        "my_function(lst)\n",
        "print(lst)"
      ],
      "metadata": {
        "colab": {
          "base_uri": "https://localhost:8080/"
        },
        "id": "tE-E19MyLiU2",
        "outputId": "57fe2a23-a751-4029-80b7-1488f9bc8e27"
      },
      "execution_count": null,
      "outputs": [
        {
          "output_type": "stream",
          "name": "stdout",
          "text": [
            "[39, 33, 45, 56, 67]\n"
          ]
        }
      ]
    },
    {
      "cell_type": "code",
      "source": [
        "def f1():\n",
        "  s=\"i love python\"\n",
        "  def f2():\n",
        "    print(s)\n",
        "  f2()\n",
        "f1()"
      ],
      "metadata": {
        "colab": {
          "base_uri": "https://localhost:8080/"
        },
        "id": "bNRxq5-ANwi2",
        "outputId": "c64354e9-aba6-43b7-b736-7b863fe0a6dc"
      },
      "execution_count": null,
      "outputs": [
        {
          "output_type": "stream",
          "name": "stdout",
          "text": [
            "i love python\n"
          ]
        }
      ]
    },
    {
      "cell_type": "code",
      "source": [
        "def cube(y):\n",
        "  return y*y*y;\n",
        "\n",
        "g=lambda x:x*x*x\n",
        "print(g(7))\n",
        "print(cube(5))"
      ],
      "metadata": {
        "colab": {
          "base_uri": "https://localhost:8080/"
        },
        "id": "pLZ0w7QzTCyd",
        "outputId": "ba6b3baa-8d0d-465f-d616-7e5196c585ea"
      },
      "execution_count": null,
      "outputs": [
        {
          "output_type": "stream",
          "name": "stdout",
          "text": [
            "343\n",
            "125\n"
          ]
        }
      ]
    },
    {
      "cell_type": "code",
      "source": [
        "def power(n):\n",
        "  return lambda a:a**n\n",
        "base=power(2)\n",
        "print(\"now power is set to 2\")\n",
        "print(\"6 power of 2=\",base(6))\n",
        "\n",
        "base=power(5)\n",
        "print(\"now power is set to 5\")\n",
        "print(\"8 power of 5=\",base(8))"
      ],
      "metadata": {
        "id": "zFcPnbwHWT5t",
        "colab": {
          "base_uri": "https://localhost:8080/"
        },
        "outputId": "2493e98e-80cf-4e39-cc17-fe3ad3979e1a"
      },
      "execution_count": null,
      "outputs": [
        {
          "output_type": "stream",
          "name": "stdout",
          "text": [
            "now power is set to 2\n",
            "6 power of 2= 36\n",
            "now power is set to 5\n",
            "8 power of 5= 32768\n"
          ]
        }
      ]
    },
    {
      "cell_type": "markdown",
      "source": [
        "prime number"
      ],
      "metadata": {
        "id": "bSW4yCukD-2f"
      }
    },
    {
      "cell_type": "code",
      "source": [
        "num=int(input(\"Enter a number: \"))\n",
        "if num>1:\n",
        "  for i in range(2,num):\n",
        "    if(num%i==0):\n",
        "      print(\"its not a prime number\")\n",
        "      break\n",
        "  else:\n",
        "      print(\"prime number\")"
      ],
      "metadata": {
        "colab": {
          "base_uri": "https://localhost:8080/"
        },
        "id": "COHdisXMOXmY",
        "outputId": "8ec1a650-2a98-49e5-c78e-f2f6ff4233eb"
      },
      "execution_count": null,
      "outputs": [
        {
          "output_type": "stream",
          "name": "stdout",
          "text": [
            "Enter a number: 9\n",
            "its not a prime number\n"
          ]
        }
      ]
    },
    {
      "cell_type": "markdown",
      "source": [
        "to find the largest word"
      ],
      "metadata": {
        "id": "sM161ZXWSoC5"
      }
    },
    {
      "cell_type": "code",
      "source": [
        "x=\"hy my name is aiswarya\"\n",
        "largest=\"\"\n",
        "n=x.split()\n",
        "for i in n:\n",
        "  if len(i)>len(largest):\n",
        "    largest=i\n",
        "print(largest)\n",
        "\n",
        "\n",
        "\n"
      ],
      "metadata": {
        "colab": {
          "base_uri": "https://localhost:8080/"
        },
        "id": "CdCTB3QPRX1o",
        "outputId": "aba83271-14e8-49ca-8822-3776290feb77"
      },
      "execution_count": null,
      "outputs": [
        {
          "output_type": "stream",
          "name": "stdout",
          "text": [
            "aiswarya\n"
          ]
        }
      ]
    },
    {
      "cell_type": "markdown",
      "source": [
        "## global and local variables"
      ],
      "metadata": {
        "id": "Z-1XvJo3Gfrn"
      }
    },
    {
      "cell_type": "code",
      "source": [
        "def myfunction():\n",
        "  print(s)\n",
        "s=\"i love python\"\n",
        "myfunction()"
      ],
      "metadata": {
        "id": "pLLFQqk6hs4C",
        "colab": {
          "base_uri": "https://localhost:8080/"
        },
        "outputId": "203174b4-b5b8-43ae-a80b-b58cfc1992ba"
      },
      "execution_count": null,
      "outputs": [
        {
          "output_type": "stream",
          "name": "stdout",
          "text": [
            "i love python\n"
          ]
        }
      ]
    },
    {
      "cell_type": "code",
      "source": [
        "def myfunction():\n",
        "  print(s)\n",
        "\n",
        "s=\"i love python\"\n",
        "myfunction()"
      ],
      "metadata": {
        "colab": {
          "base_uri": "https://localhost:8080/"
        },
        "id": "rW8HbVCRGobm",
        "outputId": "f355e511-1294-48b7-d89c-1ed9f96b62f2"
      },
      "execution_count": null,
      "outputs": [
        {
          "output_type": "stream",
          "name": "stdout",
          "text": [
            "i love python\n"
          ]
        }
      ]
    },
    {
      "cell_type": "code",
      "source": [
        "s=\"i love python\"\n",
        "def myfunction():\n",
        "  print(s)\n",
        "\n",
        "myfunction()"
      ],
      "metadata": {
        "colab": {
          "base_uri": "https://localhost:8080/"
        },
        "id": "CLCLWGHqGzGI",
        "outputId": "467570a9-6d33-48fb-9725-0beaed7450f2"
      },
      "execution_count": null,
      "outputs": [
        {
          "output_type": "stream",
          "name": "stdout",
          "text": [
            "i love python\n"
          ]
        }
      ]
    },
    {
      "cell_type": "code",
      "source": [
        "def func():\n",
        " x=\"me too\"\n",
        " print(x)\n",
        "s=\"i love python\"\n",
        "func()\n",
        "print(s)"
      ],
      "metadata": {
        "colab": {
          "base_uri": "https://localhost:8080/"
        },
        "id": "da-8laWIHAnT",
        "outputId": "c43f15e5-5eec-4605-bd76-5a29a5290c16"
      },
      "execution_count": null,
      "outputs": [
        {
          "output_type": "stream",
          "name": "stdout",
          "text": [
            "me too\n",
            "i love python\n"
          ]
        }
      ]
    },
    {
      "cell_type": "code",
      "source": [
        "a=1\n",
        "def f():\n",
        "  print('inside f():',a)\n",
        "def g():\n",
        "  a=2\n",
        "  print('inside g():',a)\n",
        "def h():\n",
        "  global a\n",
        "  a=3\n",
        "  print('inside h():',a)\n",
        "\n",
        "\n",
        "print('global:',a)\n",
        "f()\n",
        "print('global',a)\n",
        "g()\n",
        "print('global',a)\n",
        "h()\n",
        "print('global',a)"
      ],
      "metadata": {
        "colab": {
          "base_uri": "https://localhost:8080/"
        },
        "id": "lVYsBzq8Hwil",
        "outputId": "af6ed17b-1bf7-4b67-c31d-db562b75bc8f"
      },
      "execution_count": null,
      "outputs": [
        {
          "output_type": "stream",
          "name": "stdout",
          "text": [
            "global: 1\n",
            "inside f(): 1\n",
            "global 1\n",
            "inside g(): 2\n",
            "global 1\n",
            "inside h(): 3\n",
            "global 3\n"
          ]
        }
      ]
    },
    {
      "cell_type": "code",
      "source": [
        "def shout(text):\n",
        "  return text.upper()\n",
        "print (shout('hello'))\n",
        "yell=shout\n",
        "print(yell('hello'))"
      ],
      "metadata": {
        "colab": {
          "base_uri": "https://localhost:8080/"
        },
        "id": "IO2RdouUTU3u",
        "outputId": "ddb2b94a-349e-4aea-e405-9b0ab693eec5"
      },
      "execution_count": null,
      "outputs": [
        {
          "output_type": "stream",
          "name": "stdout",
          "text": [
            "HELLO\n",
            "HELLO\n"
          ]
        }
      ]
    },
    {
      "cell_type": "code",
      "source": [
        "def shout(text):\n",
        "  return text.upper()\n",
        "def whisper(text):\n",
        "  return text.lower()\n",
        "\n",
        "def greet(func):\n",
        "  greeting=func(\"\"\"Hi, i am created by a function\n",
        "                 passed as an argument.\"\"\")\n",
        "  print(greeting)\n",
        "\n",
        "\n",
        "greet(shout)\n",
        "greet(whisper)"
      ],
      "metadata": {
        "colab": {
          "base_uri": "https://localhost:8080/"
        },
        "id": "ndiv08-6K5Rd",
        "outputId": "4ee02b7e-4cc1-4104-ed99-93d1b0f239d5"
      },
      "execution_count": null,
      "outputs": [
        {
          "output_type": "stream",
          "name": "stdout",
          "text": [
            "HI, I AM CREATED BY A FUNCTION\n",
            "                 PASSED AS AN ARGUMENT.\n",
            "hi, i am created by a function\n",
            "                 passed as an argument.\n"
          ]
        }
      ]
    },
    {
      "cell_type": "code",
      "source": [
        "def create_adder(x):\n",
        "  def adder(y):\n",
        "    return x+y\n",
        "  return adder\n",
        "add_15= create_adder(15)\n",
        "print(add_15(10))\n"
      ],
      "metadata": {
        "colab": {
          "base_uri": "https://localhost:8080/"
        },
        "id": "cZtD2gRyU3EA",
        "outputId": "b83f735c-a526-423c-a29a-b977782be529"
      },
      "execution_count": null,
      "outputs": [
        {
          "output_type": "stream",
          "name": "stdout",
          "text": [
            "25\n"
          ]
        }
      ]
    },
    {
      "cell_type": "code",
      "source": [
        "def calc_factorial(x):\n",
        "  if x==1:\n",
        "    return 1\n",
        "  else:\n",
        "    return(x * calc_factorial(x-1))\n",
        "num=4\n",
        "print(\"the factorial of\",num,\"is\",calc_factorial(num))"
      ],
      "metadata": {
        "colab": {
          "base_uri": "https://localhost:8080/"
        },
        "id": "Hc6MZ5TUWGye",
        "outputId": "06da74b0-784c-4c3a-fa89-0b34364c42cd"
      },
      "execution_count": null,
      "outputs": [
        {
          "output_type": "stream",
          "name": "stdout",
          "text": [
            "the factorial of 4 is 24\n"
          ]
        }
      ]
    },
    {
      "cell_type": "code",
      "source": [
        "x=int(input(\"Enter a number: \"))\n",
        "y=int(input(\"Enter a number: \"))\n",
        "def add():\n",
        "  return x+y\n",
        "def subtract():\n",
        "    return x-y\n",
        "def multiplication():\n",
        "    return x*y\n",
        "def division():\n",
        "    return x/y\n",
        "\n",
        "\n",
        "add()\n",
        "subtract()\n",
        "multiplication()\n",
        "division()"
      ],
      "metadata": {
        "colab": {
          "base_uri": "https://localhost:8080/"
        },
        "id": "_57Yh4spcBoQ",
        "outputId": "ca514356-2fcd-40be-b208-aeda6712a128"
      },
      "execution_count": null,
      "outputs": [
        {
          "name": "stdout",
          "output_type": "stream",
          "text": [
            "Enter a number: 4\n",
            "Enter a number: 7\n"
          ]
        },
        {
          "output_type": "execute_result",
          "data": {
            "text/plain": [
              "0.5714285714285714"
            ]
          },
          "metadata": {},
          "execution_count": 9
        }
      ]
    },
    {
      "cell_type": "code",
      "source": [],
      "metadata": {
        "id": "gCnBpfqLj3uq"
      },
      "execution_count": null,
      "outputs": []
    },
    {
      "cell_type": "markdown",
      "source": [
        "## questions"
      ],
      "metadata": {
        "id": "tIhvrytij5bP"
      }
    },
    {
      "cell_type": "code",
      "source": [
        "def myfunc(x):\n",
        "  factorial=1\n",
        "  for i in range(1, x+1):\n",
        "     factorial = factorial * i\n",
        "  print(\"The factorial is\", factorial)\n",
        "myfunc(4)"
      ],
      "metadata": {
        "colab": {
          "base_uri": "https://localhost:8080/"
        },
        "id": "DVCCER-6j-JH",
        "outputId": "0a5d0883-61a8-4dc3-b081-bb4fea4ade4d"
      },
      "execution_count": null,
      "outputs": [
        {
          "output_type": "stream",
          "name": "stdout",
          "text": [
            "The factorial is 24\n"
          ]
        }
      ]
    },
    {
      "cell_type": "code",
      "source": [
        "def longest_word():\n",
        " x=\"hy my name is aiswarya\"\n",
        " largest=\"\"\n",
        " n=x.split()\n",
        " for i in n:\n",
        "  if len(i)>len(largest):\n",
        "    largest=i\n",
        "longest_word()\n",
        "print(largest)\n"
      ],
      "metadata": {
        "colab": {
          "base_uri": "https://localhost:8080/"
        },
        "id": "iKMzwXawo6Gm",
        "outputId": "3b1a6e99-5923-4687-92d7-442f397d5002"
      },
      "execution_count": null,
      "outputs": [
        {
          "output_type": "stream",
          "name": "stdout",
          "text": [
            "aiswarya\n"
          ]
        }
      ]
    },
    {
      "cell_type": "markdown",
      "source": [
        "# CLASS AND OBJECTS\n"
      ],
      "metadata": {
        "id": "mbg3QUS6iyl1"
      }
    },
    {
      "cell_type": "code",
      "source": [
        "class Phone:\n",
        "  def make_call(self): #method\n",
        "    print(\"let's make a phone call\")\n",
        "  def play_game(self): #method\n",
        "    print(\"lets play a game\")\n"
      ],
      "metadata": {
        "id": "WuPgLiB0i38c"
      },
      "execution_count": null,
      "outputs": []
    },
    {
      "cell_type": "code",
      "source": [
        "p1=Phone()#creating object\n",
        "p1.make_call()"
      ],
      "metadata": {
        "colab": {
          "base_uri": "https://localhost:8080/"
        },
        "id": "iUmjGPtyjyOd",
        "outputId": "8d5a5ce3-2283-44ab-e341-29ae41fbe9fb"
      },
      "execution_count": null,
      "outputs": [
        {
          "output_type": "stream",
          "name": "stdout",
          "text": [
            "let's make a phone call\n"
          ]
        }
      ]
    },
    {
      "cell_type": "code",
      "source": [
        "p1.play_game()"
      ],
      "metadata": {
        "colab": {
          "base_uri": "https://localhost:8080/"
        },
        "id": "C_gcSMwAj6GN",
        "outputId": "ab17aea8-446a-41c6-f7fb-ea435d744f5b"
      },
      "execution_count": null,
      "outputs": [
        {
          "output_type": "stream",
          "name": "stdout",
          "text": [
            "lets play a game\n"
          ]
        }
      ]
    },
    {
      "cell_type": "code",
      "source": [],
      "metadata": {
        "id": "F-DK32iLolZF"
      },
      "execution_count": null,
      "outputs": []
    },
    {
      "cell_type": "code",
      "source": [],
      "metadata": {
        "id": "cv3_EjlholrV"
      },
      "execution_count": null,
      "outputs": []
    },
    {
      "cell_type": "code",
      "source": [
        "\n",
        "class Phone(): #craeting a class named  phone\n",
        "  def make_call(self):#fuction making  always use self as parameter\n",
        "    print(\"let's make a call\")\n",
        "  def play_game(self):\n",
        "    print(\"let's play a game\")\n",
        "\n",
        "  def set_colar(self,color):#adding new parameters and creating new function\n",
        "    self.color=color\n",
        "\n",
        "  def set_cost(self,cost):\n",
        "    self.cost=cost\n",
        "\n",
        "  def show_color(self):\n",
        "    return self.color\n",
        "  def show_cost(self):\n",
        "    return self.cost"
      ],
      "metadata": {
        "id": "wNGTk3OHmiS2"
      },
      "execution_count": null,
      "outputs": []
    },
    {
      "cell_type": "code",
      "source": [
        "iphone=Phone()\n",
        "iphone.set_colar('green')\n",
        "iphone.set_cost(100000)"
      ],
      "metadata": {
        "id": "o39mmgEXoe34"
      },
      "execution_count": null,
      "outputs": []
    },
    {
      "cell_type": "code",
      "source": [
        "iphone.show_color()"
      ],
      "metadata": {
        "colab": {
          "base_uri": "https://localhost:8080/",
          "height": 35
        },
        "id": "9Aaf6AOnpfkm",
        "outputId": "fb520b3e-e368-4c54-877d-2a2ddfd8445a"
      },
      "execution_count": null,
      "outputs": [
        {
          "output_type": "execute_result",
          "data": {
            "text/plain": [
              "'green'"
            ],
            "application/vnd.google.colaboratory.intrinsic+json": {
              "type": "string"
            }
          },
          "metadata": {},
          "execution_count": 16
        }
      ]
    },
    {
      "cell_type": "code",
      "source": [
        "iphone.show_cost()"
      ],
      "metadata": {
        "colab": {
          "base_uri": "https://localhost:8080/"
        },
        "id": "lQgBfp48pn_W",
        "outputId": "73f46272-7f7f-4009-9386-2307de5a0724"
      },
      "execution_count": null,
      "outputs": [
        {
          "output_type": "execute_result",
          "data": {
            "text/plain": [
              "100000"
            ]
          },
          "metadata": {},
          "execution_count": 22
        }
      ]
    },
    {
      "cell_type": "markdown",
      "source": [
        "## __init__  method"
      ],
      "metadata": {
        "id": "KQueoy6prHRQ"
      }
    },
    {
      "cell_type": "code",
      "source": [
        "class Employee:\n",
        "  def __init__(self,name,age,salary,gender):#init method is a constructor\n",
        "    self.name=name\n",
        "    self.age=age\n",
        "    self.salary=salary\n",
        "    self.gender=gender\n",
        "\n",
        "  def employee_details(self):\n",
        "    print(\"Name of employee is\",self.name)\n",
        "    print(\"Age of employee is\",self.age)\n",
        "    print(\"salary of employee is\",self.salary)\n",
        "    print(\"Gender of the employee is\",self.gender)\n"
      ],
      "metadata": {
        "id": "H80lDoJhqPAn"
      },
      "execution_count": null,
      "outputs": []
    },
    {
      "cell_type": "code",
      "source": [],
      "metadata": {
        "id": "GY4lYujI0TZ3"
      },
      "execution_count": null,
      "outputs": []
    },
    {
      "cell_type": "code",
      "source": [
        "e1=Employee(\"Sara\",21,16000,\"female\")"
      ],
      "metadata": {
        "id": "HgPfI41ZskD4"
      },
      "execution_count": null,
      "outputs": []
    },
    {
      "cell_type": "code",
      "source": [
        "e1.employee_details()"
      ],
      "metadata": {
        "colab": {
          "base_uri": "https://localhost:8080/"
        },
        "id": "FkA-Klqos2aA",
        "outputId": "1cf60689-fadd-4cbb-a4db-c93f6e7e6210"
      },
      "execution_count": null,
      "outputs": [
        {
          "output_type": "stream",
          "name": "stdout",
          "text": [
            "Name of employee is Sara\n",
            "Age of employee is 21\n",
            "salary of employee is 16000\n",
            "Gender of the employee is female\n"
          ]
        }
      ]
    },
    {
      "cell_type": "code",
      "source": [],
      "metadata": {
        "id": "P-akF3DDt8m4"
      },
      "execution_count": null,
      "outputs": []
    },
    {
      "cell_type": "markdown",
      "source": [
        "## class attributes"
      ],
      "metadata": {
        "id": "Cr3JRYD23R5D"
      }
    },
    {
      "cell_type": "code",
      "source": [
        "class student:\n",
        "  school =\"abc school\"\n",
        "  def __init__(self,name,age,roll_number):\n",
        "    self.name=name\n",
        "    self.age=age\n",
        "    self.roll_number=roll_number\n",
        "\n",
        "  def details(self):\n",
        "     print(f\"{self.name} is : {self.age} year old and studying at :{self.school} and roll number is : {self.roll_number}\")\n",
        "\n",
        "student1=student(\"Neha\",21,3)\n",
        "student2=student(\"Rehan\",20,7)\n",
        "print(student1.school)\n",
        "\n",
        "student.school=\"Learn Logic AI\"\n",
        "student1.details()"
      ],
      "metadata": {
        "colab": {
          "base_uri": "https://localhost:8080/"
        },
        "id": "eMi6qQ2p3Vx7",
        "outputId": "72ed6f03-8f67-4684-e55f-0b9b1dc636e4"
      },
      "execution_count": null,
      "outputs": [
        {
          "output_type": "stream",
          "name": "stdout",
          "text": [
            "abc school\n",
            "Neha is : 21 year old and studying at :Learn Logic AI and roll number is : 3\n"
          ]
        }
      ]
    },
    {
      "cell_type": "markdown",
      "source": [
        "## del operator"
      ],
      "metadata": {
        "id": "A2Sf5RKE5Mz6"
      }
    },
    {
      "cell_type": "code",
      "source": [
        "class student:\n",
        "  school = \"abc school\"\n",
        "  def __init__(self,name,age,roll_number):\n",
        "    self.name = name\n",
        "    self.age = age\n",
        "    self.roll_number = roll_number\n",
        "\n",
        "  def details(self):\n",
        "    print(f\"{self.name} is : {self.age} year old and studying at :{self.school} and roll number is : {self.roll_number}\")\n",
        "\n",
        "student1= student(\"Anshif\",21,3)\n",
        "student2= student(\"Sinan\",20,7)\n",
        "print(student1.school)\n",
        "# del student1.name\n",
        "\n",
        "print(student1.name)"
      ],
      "metadata": {
        "colab": {
          "base_uri": "https://localhost:8080/"
        },
        "id": "23xUz-5t4_BC",
        "outputId": "cd5d0987-9bc1-4aae-f29a-674585ccd91c"
      },
      "execution_count": null,
      "outputs": [
        {
          "output_type": "stream",
          "name": "stdout",
          "text": [
            "abc school\n",
            "Anshif\n"
          ]
        }
      ]
    },
    {
      "cell_type": "markdown",
      "source": [
        "## python build in class function"
      ],
      "metadata": {
        "id": "EiHdoMfs6nwc"
      }
    },
    {
      "cell_type": "code",
      "source": [
        "class student:\n",
        "  school=\"abc school\"\n",
        "  def __init__(self,name,age,rollnumber):\n",
        "    self.name=name\n",
        "    self.age=age\n",
        "    self.rollnumber=rollnumber\n",
        "  def details(self):\n",
        "    print(f\"{self.name} is : {self.age} year old and studying at :{self.school} and rollnumber is : {self.rollnumber}\")\n",
        "    student1=student(\"Neha\",21,3)\n",
        "    student2=student(\"Anvi\",20,7)\n",
        "print(getattr(student1,\"name\"))\n",
        "setattr(student1,\"age\",23)\n",
        "print(student1.age)\n",
        "print(hasattr(student1,\"id\"))\n",
        "delattr(student1,\"age\")\n"
      ],
      "metadata": {
        "colab": {
          "base_uri": "https://localhost:8080/"
        },
        "id": "0ZE0olkD6oou",
        "outputId": "2114561c-cebd-4a1d-d3cd-beaa4942a522"
      },
      "execution_count": null,
      "outputs": [
        {
          "output_type": "stream",
          "name": "stdout",
          "text": [
            "Neha\n",
            "23\n",
            "False\n"
          ]
        }
      ]
    },
    {
      "cell_type": "markdown",
      "source": [
        "## single inheritance"
      ],
      "metadata": {
        "id": "iorGT1BM_3bI"
      }
    },
    {
      "cell_type": "code",
      "source": [
        "class Animal: # parent class\n",
        "  def speak(self):\n",
        "    print(\"Animal speaking\")\n",
        "\n",
        "  class Dog(Animal):#child class\n",
        "    def bark(self):\n",
        "      print(\"Dog barking\")\n",
        "\n",
        "  d=Dog()\n",
        "  d.bark()\n",
        "  d.speak()# we can call class methoh through child class\n",
        "\n",
        "  a=Animal()\n",
        "  a.speak()\n",
        "\n"
      ],
      "metadata": {
        "colab": {
          "base_uri": "https://localhost:8080/"
        },
        "id": "T9O58sM-_EJ8",
        "outputId": "ebdb905a-80f5-43ca-a67f-936b7cde5134"
      },
      "execution_count": null,
      "outputs": [
        {
          "output_type": "stream",
          "name": "stdout",
          "text": [
            "Dog barking\n",
            "Animal speaking\n",
            "Animal speaking\n"
          ]
        }
      ]
    },
    {
      "cell_type": "code",
      "source": [
        "class vehicle:\n",
        "  def start(self):\n",
        "    print(\"vehicle is starting...\")\n",
        "  def stop(self):\n",
        "    print(\"vehicle is stopping...\")\n",
        "class car(vehicle):\n",
        "  def drive(self):\n",
        "    print(\"car is being driven\")\n",
        "c=car()\n",
        "c.start()\n",
        "c.drive()\n",
        "c.stop()"
      ],
      "metadata": {
        "colab": {
          "base_uri": "https://localhost:8080/"
        },
        "id": "luWAcVWEBdBD",
        "outputId": "aaa9ad47-fecc-4344-9269-dac537efb933"
      },
      "execution_count": null,
      "outputs": [
        {
          "output_type": "stream",
          "name": "stdout",
          "text": [
            "vehicle is starting...\n",
            "car is being driven\n",
            "vehicle is stopping...\n"
          ]
        }
      ]
    },
    {
      "cell_type": "code",
      "source": [
        "class Phone:\n",
        "  def call(self):\n",
        "    print(\"a phone call is being made\")\n",
        "  def message(self):\n",
        "    print(\"message has been send\")\n",
        "\n",
        "class iphone(Phone):\n",
        "  def photo(self):\n",
        "    print(\"photo has been taken\")\n",
        "\n",
        "a=iphone()\n",
        "a.call()\n",
        "a.message()\n",
        "a.photo()"
      ],
      "metadata": {
        "colab": {
          "base_uri": "https://localhost:8080/"
        },
        "id": "563BuqN4Ck1g",
        "outputId": "7e410e30-7139-4041-af1d-3f885bb977de"
      },
      "execution_count": null,
      "outputs": [
        {
          "output_type": "stream",
          "name": "stdout",
          "text": [
            "a phone call is being made\n",
            "message has been send\n",
            "photo has been taken\n"
          ]
        }
      ]
    },
    {
      "cell_type": "markdown",
      "source": [
        "## Multilevel Inheritence"
      ],
      "metadata": {
        "id": "v6SkhfcXJGZ6"
      }
    },
    {
      "cell_type": "code",
      "source": [
        "class Animal():#parent class\n",
        "  def speak(self):\n",
        "    print(\"Animal speaking...\")\n",
        "\n",
        "class Dog(Animal):\n",
        "  def bark(self):\n",
        "    print(\"dog barking....\")\n",
        "\n",
        "class Dogchild(Dog):\n",
        "  def eat(self):\n",
        "    print(\"dog eating\")\n",
        "\n",
        "d=Dog()\n",
        "d.speak()\n",
        "d.bark()\n",
        "\n",
        "print()\n",
        "d1=Dogchild()\n",
        "d1.speak()\n",
        "d1.bark()\n",
        "d1.eat()"
      ],
      "metadata": {
        "colab": {
          "base_uri": "https://localhost:8080/"
        },
        "id": "6zXtZXGBHg9i",
        "outputId": "f1614409-c7e9-46cb-a0b7-78772acb5be9"
      },
      "execution_count": null,
      "outputs": [
        {
          "output_type": "stream",
          "name": "stdout",
          "text": [
            "Animal speaking...\n",
            "dog barking....\n",
            "\n",
            "Animal speaking...\n",
            "dog barking....\n",
            "dog eating\n"
          ]
        }
      ]
    },
    {
      "cell_type": "code",
      "source": [
        "class vehilce:\n",
        "  def start(self):\n",
        "    print(\"vehicle is starting\")\n",
        "\n",
        "\n",
        "class car(vehicle):\n",
        "  def stop(self):\n",
        "    print(\"car is stopping\")\n",
        "\n",
        "class ford(car):\n",
        "  def run(self):\n",
        "    print(\"car is running\")\n",
        "\n",
        "c=car()\n",
        "c.start()\n",
        "c.stop()\n",
        "print()\n",
        "c1=ford()\n",
        "c1.start()\n",
        "c1.stop()\n",
        "c1.run()"
      ],
      "metadata": {
        "colab": {
          "base_uri": "https://localhost:8080/"
        },
        "id": "1Z0ID_ZnJAsK",
        "outputId": "9c2b8833-4231-42dd-bc36-630e11cf6dd5"
      },
      "execution_count": null,
      "outputs": [
        {
          "output_type": "stream",
          "name": "stdout",
          "text": [
            "vehicle is starting...\n",
            "car is stopping\n",
            "\n",
            "vehicle is starting...\n",
            "car is stopping\n",
            "car is running\n"
          ]
        }
      ]
    },
    {
      "cell_type": "markdown",
      "source": [
        "## Hierarchical inheritance\n"
      ],
      "metadata": {
        "id": "HDycPzE5Kn-M"
      }
    },
    {
      "cell_type": "code",
      "source": [
        "class shape: # parent class\n",
        "  def info(self):\n",
        "    print(\"shape has dimensions\")\n",
        "\n",
        "class circle(shape): #child class\n",
        "  def draw(self):\n",
        "    print(\"drawing a circle...\")\n",
        "\n",
        "class rectangle(shape):# chid class\n",
        "  def edge(self):\n",
        "    print(\"rectangle has four edges\")\n",
        "\n",
        "s=circle()\n",
        "s.info()\n",
        "s.draw()\n",
        "\n",
        "print()\n",
        "\n",
        "s1=rectangle()\n",
        "s1.info()\n",
        "s1.edge()"
      ],
      "metadata": {
        "colab": {
          "base_uri": "https://localhost:8080/"
        },
        "id": "IBNqy8fFME0G",
        "outputId": "0fbf0ea4-a05d-486b-cca2-9552e0b0c219"
      },
      "execution_count": null,
      "outputs": [
        {
          "output_type": "stream",
          "name": "stdout",
          "text": [
            "shape has dimensions\n",
            "drawing a circle...\n",
            "\n",
            "shape has dimensions\n",
            "rectangle has four edges\n"
          ]
        }
      ]
    },
    {
      "cell_type": "code",
      "source": [
        "class person:#parent class\n",
        "  def introduce(self):\n",
        "    print(\"I am ________\")\n",
        "\n",
        "class teacher(person):#child class\n",
        "  def teach(self):\n",
        "    print(\" i teach students\")\n",
        "\n",
        "class student(person):#child class\n",
        "  def study(self):\n",
        "    print(\"i study subjects\")\n",
        "\n",
        "t=teacher()\n",
        "t.introduce()\n",
        "t.teach()\n",
        "\n",
        "print()\n",
        "\n",
        "\n",
        "s=student()\n",
        "s.introduce()\n",
        "s.study()"
      ],
      "metadata": {
        "colab": {
          "base_uri": "https://localhost:8080/"
        },
        "id": "1oV_D0JfNmNt",
        "outputId": "dfc3af7f-3582-4fc1-9b39-b67edbfb2180"
      },
      "execution_count": null,
      "outputs": [
        {
          "output_type": "stream",
          "name": "stdout",
          "text": [
            "I am ________\n",
            " i teach students\n",
            "\n",
            "I am ________\n",
            "i study subjects\n"
          ]
        }
      ]
    },
    {
      "cell_type": "code",
      "source": [
        "class device:\n",
        "  def introduce(self):\n",
        "    print(\"i'm an electronic device\")\n",
        "\n",
        "class oven(device):\n",
        "  def bake(self):\n",
        "    print(\"i bake cakes\")\n",
        "\n",
        "class ironbox(device):\n",
        "  def iron(self):\n",
        "    print(\"cloths are ironed  by me\")\n",
        "\n",
        "o=oven()\n",
        "o.introduce()\n",
        "o.bake()\n",
        "\n",
        "print()\n",
        "\n",
        "i=ironbox()\n",
        "i.introduce()\n",
        "i.iron()"
      ],
      "metadata": {
        "colab": {
          "base_uri": "https://localhost:8080/"
        },
        "id": "OPj7g-bgPNIo",
        "outputId": "9df3e9f4-ed31-48ed-a56c-695051f62ab1"
      },
      "execution_count": null,
      "outputs": [
        {
          "output_type": "stream",
          "name": "stdout",
          "text": [
            "i'm an electronic device\n",
            "i bake cakes\n",
            "\n",
            "i'm an electronic device\n",
            "cloths are ironed  by me\n"
          ]
        }
      ]
    },
    {
      "cell_type": "markdown",
      "source": [
        "## Multiple inheritance"
      ],
      "metadata": {
        "id": "rbIKMQq4Qvp2"
      }
    },
    {
      "cell_type": "code",
      "source": [
        "class calculation1: #parent class\n",
        "  def sum(self,a,b):\n",
        "    print(a+b)\n",
        "\n",
        "class calculation2: # another parent class\n",
        "  def multiplication(self,a,b):\n",
        "    print(a*b)\n",
        "\n",
        "\n",
        "class derived(calculation1,calculation2):\n",
        "  def division(self,a,b):\n",
        "    print(a/b)\n",
        "\n",
        "d=derived()\n",
        "d.sum(10,20)\n",
        "d.multiplication(40,10)\n",
        "d.division(10,2)"
      ],
      "metadata": {
        "colab": {
          "base_uri": "https://localhost:8080/"
        },
        "id": "natfJFMwQ01g",
        "outputId": "860956be-b1a1-4e23-e5a6-7b2055edbaf0"
      },
      "execution_count": null,
      "outputs": [
        {
          "output_type": "stream",
          "name": "stdout",
          "text": [
            "30\n",
            "400\n",
            "5.0\n"
          ]
        }
      ]
    },
    {
      "cell_type": "code",
      "source": [
        "class circle:\n",
        "  def shape(self):\n",
        "    print(\"i'm round in shape \")\n",
        "\n",
        "class square:\n",
        "  def edge(self):\n",
        "    print(\"i have four sides with same length\")\n",
        "\n",
        "class shape(circle,square):\n",
        "  def info(self):\n",
        "    print(\" i have different dimensions\")\n",
        "\n",
        "s=shape()\n",
        "s.shape()\n",
        "s.edge()\n",
        "s.info()"
      ],
      "metadata": {
        "colab": {
          "base_uri": "https://localhost:8080/"
        },
        "id": "UI_52MRXSSlx",
        "outputId": "22147173-f0bf-40c0-a5d9-bad8112bf2dd"
      },
      "execution_count": null,
      "outputs": [
        {
          "output_type": "stream",
          "name": "stdout",
          "text": [
            "i'm round in shape \n",
            "i have four sides with same length\n",
            " i have different dimensions\n"
          ]
        }
      ]
    },
    {
      "cell_type": "markdown",
      "source": [
        "## Hybrid inheritance"
      ],
      "metadata": {
        "id": "jjEzDXMMTzH3"
      }
    },
    {
      "cell_type": "code",
      "source": [
        "class person:\n",
        "  def introduce(self):\n",
        "    print(\"i'm ___________\")\n",
        "\n",
        "class teacher(person):\n",
        "  def teach(self):\n",
        "    print(\" i teach students\")\n",
        "\n",
        "class student:\n",
        "  def study(self):\n",
        "    print(\"i study subjects\")\n",
        "\n",
        "class principal(teacher,student):\n",
        "  def manage(self):\n",
        "    print(\"i oversee the entire school\")\n",
        "\n",
        "\n",
        "p=principal()\n",
        "p.introduce()\n",
        "p.teach()\n",
        "p.study()\n",
        "p.manage()"
      ],
      "metadata": {
        "colab": {
          "base_uri": "https://localhost:8080/"
        },
        "id": "XN2y82miT7TU",
        "outputId": "abeb58c3-edd0-4c43-93e9-cc1f005d17c7"
      },
      "execution_count": null,
      "outputs": [
        {
          "output_type": "stream",
          "name": "stdout",
          "text": [
            "i'm ___________\n",
            " i teach students\n",
            "i study subjects\n",
            "i oversee the entire school\n"
          ]
        }
      ]
    },
    {
      "cell_type": "code",
      "source": [
        "class orange:\n",
        "  def color(self):\n",
        "    print(\"i'm orange in color\")\n",
        "\n",
        "class apple(orange):\n",
        "  def juice(self):\n",
        "    print(\"i can be made in juice\")\n",
        "\n",
        "class grape:\n",
        "  def wine(self):\n",
        "    print(\"i can be made into wine\")\n",
        "\n",
        "class fruits(apple,grape):\n",
        "  def snack(self):\n",
        "    print(\"i can be eaten as a snack\")\n",
        "\n",
        "f=fruits()\n",
        "f.color()\n",
        "f.juice()\n",
        "f.wine()\n",
        "f.snack()"
      ],
      "metadata": {
        "colab": {
          "base_uri": "https://localhost:8080/"
        },
        "id": "lNEKyB99WFUq",
        "outputId": "50b539c9-9d40-4a89-a9e0-7f2c4c6727fa"
      },
      "execution_count": null,
      "outputs": [
        {
          "output_type": "stream",
          "name": "stdout",
          "text": [
            "i'm orange in color\n",
            "i can be made in juice\n",
            "i can be made into wine\n",
            "i can be eaten as a snack\n"
          ]
        }
      ]
    },
    {
      "cell_type": "markdown",
      "source": [
        "## super() method"
      ],
      "metadata": {
        "id": "KTUhIodIqUKl"
      }
    },
    {
      "cell_type": "code",
      "source": [
        "class parent:\n",
        "  def greet1(self):\n",
        "    print(\"hello from parent...\")\n",
        "\n",
        "class child(parent):\n",
        "  def greet2(self):\n",
        "    super().greet1() # calling parent method\n",
        "    print(\"hello froom child\")\n",
        "\n",
        "c=child()\n",
        "c.greet2()"
      ],
      "metadata": {
        "colab": {
          "base_uri": "https://localhost:8080/"
        },
        "id": "mIrC_8lnqgTR",
        "outputId": "f759d3ac-153f-463e-d1ba-9ced887a43da"
      },
      "execution_count": null,
      "outputs": [
        {
          "output_type": "stream",
          "name": "stdout",
          "text": [
            "hello from parent...\n",
            "hello froom child\n"
          ]
        }
      ]
    },
    {
      "cell_type": "code",
      "source": [
        "class parent:\n",
        "  def __init__(self,name):\n",
        "    self.name=name\n",
        "    print(\"parent constructor called\")\n",
        "\n",
        "class child(parent):\n",
        "  def __init__(self,name,age):\n",
        "    super().__init__(name)\n",
        "    self.age = age\n",
        "    print(\"child constructor is called....\")\n",
        "c=child(\"aiswarya\",21)"
      ],
      "metadata": {
        "colab": {
          "base_uri": "https://localhost:8080/"
        },
        "id": "V9aj7UavrRZK",
        "outputId": "2b705441-6023-4790-cd76-897957a8b05a"
      },
      "execution_count": null,
      "outputs": [
        {
          "output_type": "stream",
          "name": "stdout",
          "text": [
            "parent constructor called\n",
            "child constructor is called....\n"
          ]
        }
      ]
    },
    {
      "cell_type": "code",
      "source": [
        "class phone:\n",
        "  def mob1(self):\n",
        "    print(\"i'm an electronic device...\")\n",
        "\n",
        "class iphone(phone):\n",
        "  def mob2(self):\n",
        "    super().mob1() # calling parent method\n",
        "    print(\"I can take good quality photos\")\n",
        "\n",
        "c=iphone()\n",
        "c.mob2()"
      ],
      "metadata": {
        "colab": {
          "base_uri": "https://localhost:8080/"
        },
        "id": "FvUWlACNsY2e",
        "outputId": "e8a7ab55-bdb8-4e16-f5d8-65dd028d9734"
      },
      "execution_count": null,
      "outputs": [
        {
          "output_type": "stream",
          "name": "stdout",
          "text": [
            "i'm an electronic device...\n",
            "I can take good quality photos\n"
          ]
        }
      ]
    },
    {
      "cell_type": "markdown",
      "source": [
        "#  Basic Inheritance Questions"
      ],
      "metadata": {
        "id": "cRCL-MflvMaG"
      }
    },
    {
      "cell_type": "markdown",
      "source": [
        " Write a base class Person with attributes name and age, and a method display_info(). Create a derived class Student that adds student_id and a method display_student()"
      ],
      "metadata": {
        "id": "UCzZjZTwvMVh"
      }
    },
    {
      "cell_type": "code",
      "source": [
        "class Person:\n",
        "  def __init__(self, name, age):\n",
        "    self.name = name\n",
        "    self.age = age\n",
        "\n",
        "  def display_info(self):\n",
        "    print(f\"Name: {self.name}\")\n",
        "    print(f\" Age: {self.age}\")\n",
        "class Student(Person):\n",
        "  def __init__(self, name, age, student_id):\n",
        "    Person.__init__(self, name, age)\n",
        "    self.student_id = student_id\n",
        "\n",
        "  def display_student(self):\n",
        "    self.display_info()\n",
        "    print(f\"Student ID: {self.student_id}\")\n",
        "\n",
        "\n",
        "student1 = Student(\"Alice\", 20, \"S12345\")\n",
        "student1.display_student()"
      ],
      "metadata": {
        "colab": {
          "base_uri": "https://localhost:8080/"
        },
        "id": "AtUSpoIf4dfJ",
        "outputId": "a2d43257-dce5-4054-dce4-b2bdbba4b1ff"
      },
      "execution_count": null,
      "outputs": [
        {
          "output_type": "stream",
          "name": "stdout",
          "text": [
            "Name: Alice\n",
            " Age: 20\n",
            "Student ID: S12345\n"
          ]
        }
      ]
    },
    {
      "cell_type": "markdown",
      "source": [
        " Create a base class Shape that stores a color. Derive a class Rectangle with width and height, add an area() method, and override __str__() so print(rect) yields something like Rectangle(blue, 5×8)"
      ],
      "metadata": {
        "id": "d1WlQ2is_s7n"
      }
    },
    {
      "cell_type": "code",
      "source": [
        "class Shape:\n",
        "    def __init__(self, color):\n",
        "        self.color = color\n",
        "\n",
        "class Rectangle(Shape):\n",
        "    def __init__(self, color, h, w):\n",
        "        Shape.__init__(self, color)\n",
        "        self.h=h\n",
        "        self.w =w\n",
        "\n",
        "    def area(self):\n",
        "        print(self.h * self.w)\n",
        "\n",
        "    def info(self):\n",
        "        print(f\"Rectangle of color {self.color}, width {self.w}, height {self.h}\")\n",
        "\n",
        "rect = Rectangle(\"orange\", 5, 8)\n",
        "rect.info()\n",
        "print(\"Area:\")\n",
        "rect.area()\n"
      ],
      "metadata": {
        "colab": {
          "base_uri": "https://localhost:8080/"
        },
        "id": "nmYIKED__tyT",
        "outputId": "a63bbbd8-e74e-40f2-ab70-da1146eeb428"
      },
      "execution_count": null,
      "outputs": [
        {
          "output_type": "stream",
          "name": "stdout",
          "text": [
            "Rectangle of color orange, width 8, height 5\n",
            "Area:\n",
            "40\n"
          ]
        }
      ]
    },
    {
      "cell_type": "markdown",
      "source": [
        "Give Animal an eat() method, Mammal an extra give_birth() method, and Dog an extra bark(). Show that a Dog can call all three methods."
      ],
      "metadata": {
        "id": "WqlGfnxaD17L"
      }
    },
    {
      "cell_type": "code",
      "metadata": {
        "colab": {
          "base_uri": "https://localhost:8080/"
        },
        "id": "_AFpimt2D6t6",
        "outputId": "1a8238fa-6b79-4bc6-8c4d-1234f39b3cc6"
      },
      "source": [
        "class Animal:\n",
        "  def eat(self):\n",
        "    print(\"animal is eating.....\")\n",
        "\n",
        "class Mammal(Animal):\n",
        "  def give_birth(self):\n",
        "    print(\"mammals can give birth....\")\n",
        "\n",
        "class Dog(Mammal):\n",
        "  def bark(self):\n",
        "    print(\"dogs are barking\")\n",
        "\n",
        "d=Dog()\n",
        "d.eat()\n",
        "d.give_birth()\n",
        "d.bark()"
      ],
      "execution_count": null,
      "outputs": [
        {
          "output_type": "stream",
          "name": "stdout",
          "text": [
            "animal is eating.....\n",
            "mammals can give birth....\n",
            "dogs are barking\n"
          ]
        }
      ]
    },
    {
      "cell_type": "markdown",
      "source": [
        " Store a shape’s center (x, y) in Shape. Circle adds radius; Square adds side. Write a small script that constructs one of each and prints their perimeters."
      ],
      "metadata": {
        "id": "kwaaAcDgIB3K"
      }
    },
    {
      "cell_type": "code",
      "source": [
        "class Shape:\n",
        "    def __init__(self, x, y):\n",
        "        self.x = x\n",
        "        self.y = y\n",
        "class Circle(Shape):\n",
        "    def __init__(self, x, y, radius):\n",
        "        Shape.__init__(self, x, y)\n",
        "        self.radius = radius\n",
        "    def perimeter(self):\n",
        "        return 2 * 3.14 * self.radius\n",
        "class Square(Shape):\n",
        "    def __init__(self, x, y, side):\n",
        "        Shape.__init__(self, x, y)\n",
        "        self.side = side\n",
        "    def perimeter(self):\n",
        "        return 4 * self.side\n",
        "\n",
        "\n",
        "circle = Circle(0, 0, 5)\n",
        "square = Square(1, 1, 10)\n",
        "\n",
        "print(f\"Perimeter of the Circle: {circle.perimeter()}\")\n",
        "print(f\"Perimeter of the Square: {square.perimeter()}\")\n"
      ],
      "metadata": {
        "colab": {
          "base_uri": "https://localhost:8080/"
        },
        "id": "0H8Iy6tBIGIp",
        "outputId": "76029221-a011-41f7-e21e-f3edc1fc7f75"
      },
      "execution_count": null,
      "outputs": [
        {
          "output_type": "stream",
          "name": "stdout",
          "text": [
            "Perimeter of the Circle: 31.400000000000002\n",
            "Perimeter of the Square: 40\n"
          ]
        }
      ]
    },
    {
      "cell_type": "markdown",
      "source": [
        " Make a base class Vehicle with a class attribute wheels = 0. In subclasses Bicycle, Car, and Truck, override wheels appropriately. Show that changing Vehicle.wheels after creation does not affect existing subclass values."
      ],
      "metadata": {
        "id": "FDn0_Mt-KFNZ"
      }
    },
    {
      "cell_type": "code",
      "source": [
        "class vehicle:\n",
        "  wheels=0\n",
        "\n",
        "class bicycle(vehicle):\n",
        "  wheels=2\n",
        "class car(vehicle):\n",
        "  wheels=4\n",
        "class truck(vehicle):\n",
        "  wheels=6\n",
        "\n",
        "b=bicycle()\n",
        "b.wheels\n",
        "c=car()\n",
        "c.wheels\n",
        "t=truck()\n",
        "t.wheels"
      ],
      "metadata": {
        "colab": {
          "base_uri": "https://localhost:8080/"
        },
        "id": "Ob0Tz7C3KyHK",
        "outputId": "c23e6688-6824-4e44-84ce-2b2e95217e8f"
      },
      "execution_count": null,
      "outputs": [
        {
          "output_type": "execute_result",
          "data": {
            "text/plain": [
              "6"
            ]
          },
          "metadata": {},
          "execution_count": 39
        }
      ]
    },
    {
      "cell_type": "markdown",
      "source": [
        "# polymorphism"
      ],
      "metadata": {
        "id": "30C9a6NXJvX-"
      }
    },
    {
      "cell_type": "markdown",
      "source": [
        "## method overriding"
      ],
      "metadata": {
        "id": "Webit5qMJ1dA"
      }
    },
    {
      "cell_type": "code",
      "source": [
        "class a:\n",
        "  def show(self):\n",
        "    print(\"class a\")\n",
        "class b(a):\n",
        "  def show(self):\n",
        "    print(\"class b\")\n",
        "class c(b):\n",
        "  def show(self):\n",
        "    print(\"class c\")\n",
        "\n",
        "obj=c()\n",
        "obj.show()# mathod overriding"
      ],
      "metadata": {
        "colab": {
          "base_uri": "https://localhost:8080/"
        },
        "id": "yZ9TTb4_KCAo",
        "outputId": "3453e0e0-653b-4ea4-fde4-1912bb092b25"
      },
      "execution_count": null,
      "outputs": [
        {
          "output_type": "stream",
          "name": "stdout",
          "text": [
            "class c\n"
          ]
        }
      ]
    },
    {
      "cell_type": "code",
      "source": [
        "class A:\n",
        "  def show(self):\n",
        "    print(\"class A\")\n",
        "\n",
        "class B(A):\n",
        "  def show(self):\n",
        "    super().show()\n",
        "    print(\"class B\")\n",
        "\n",
        "class C(B):\n",
        "  def show(self):\n",
        "    super().show()\n",
        "    print(\"class C\")\n",
        "obj=C()\n",
        "obj.show()\n"
      ],
      "metadata": {
        "colab": {
          "base_uri": "https://localhost:8080/"
        },
        "id": "xUHF3NemLZ0P",
        "outputId": "94e5a2b9-fc8e-4faa-8d61-8975ae78e208"
      },
      "execution_count": null,
      "outputs": [
        {
          "output_type": "stream",
          "name": "stdout",
          "text": [
            "class A\n",
            "class B\n",
            "class C\n"
          ]
        }
      ]
    },
    {
      "cell_type": "code",
      "source": [
        "class animal:\n",
        "  def speak(self):\n",
        "    print(\"animal is making sound\")\n",
        "\n",
        "class dog(animal):\n",
        "  def speak(self):\n",
        "    print(\"dog barks...\")\n",
        "\n",
        "class cat(animal):\n",
        "  def speak(self):\n",
        "    print(\"cat meows...\")\n",
        "\n",
        "dog=dog()\n",
        "dog.speak()\n",
        "\n",
        "cat=cat()\n",
        "cat.speak()"
      ],
      "metadata": {
        "colab": {
          "base_uri": "https://localhost:8080/"
        },
        "id": "sBhcZgoMM7P_",
        "outputId": "17e7dc93-a79f-4bd5-86c5-b8ee6c1ecfb5"
      },
      "execution_count": null,
      "outputs": [
        {
          "output_type": "stream",
          "name": "stdout",
          "text": [
            "dog barks...\n",
            "cat meows...\n"
          ]
        }
      ]
    },
    {
      "cell_type": "code",
      "source": [
        "class phone:\n",
        "  def info(self):\n",
        "    print(\"used for calling...etc\")\n",
        "class iphone(phone):\n",
        "  def info(self):\n",
        "    print(\"used for taking pictures\")\n",
        "class samsung(phone):\n",
        "  def info(self):\n",
        "    print(\"location of the company is south korea\")\n",
        "\n",
        "i=iphone()\n",
        "i.info()\n",
        "\n",
        "s=samsung()\n",
        "s.info()"
      ],
      "metadata": {
        "colab": {
          "base_uri": "https://localhost:8080/"
        },
        "id": "OHNULyirPmH_",
        "outputId": "97ccdc45-a31a-4a68-fe4c-621a41ee5812"
      },
      "execution_count": null,
      "outputs": [
        {
          "output_type": "stream",
          "name": "stdout",
          "text": [
            "used for taking pictures\n",
            "location of the company is south korea\n"
          ]
        }
      ]
    },
    {
      "cell_type": "code",
      "source": [
        "class A:\n",
        "  def introduce(self):\n",
        "    print(\"I'm the student of class A\")\n",
        "\n",
        "class B(A):\n",
        "  def introduce(self):\n",
        "    super().introduce()\n",
        "    print(\"I'm the student of class B\")\n",
        "\n",
        "class C(B):\n",
        "  def introduce(self):\n",
        "    super().introduce()\n",
        "    print(\"I'm the student ofClass C\")\n",
        "\n",
        "obj= C()\n",
        "obj.introduce()"
      ],
      "metadata": {
        "colab": {
          "base_uri": "https://localhost:8080/"
        },
        "id": "jmuSuZjxRCC3",
        "outputId": "c30ebeb1-ea0e-4d34-c73b-69c0a7e88b43"
      },
      "execution_count": null,
      "outputs": [
        {
          "output_type": "stream",
          "name": "stdout",
          "text": [
            "I'm the student of class A\n",
            "I'm the student of class B\n",
            "I'm the student ofClass C\n"
          ]
        }
      ]
    },
    {
      "cell_type": "markdown",
      "source": [
        "## method  overloading"
      ],
      "metadata": {
        "id": "O2TaoH69Sg2v"
      }
    },
    {
      "cell_type": "code",
      "source": [
        "class calculator:\n",
        "  def add(self,a,b=0,c=0):\n",
        "    print(a+b+c)\n",
        "calc=calculator()\n",
        "\n",
        "#call the numbers with differnt numbers of arguments\n",
        "\n",
        "calc.add(5)\n",
        "calc.add(5,10)\n",
        "calc.add(5,10,15)"
      ],
      "metadata": {
        "colab": {
          "base_uri": "https://localhost:8080/"
        },
        "id": "XUMaJsbVSoeH",
        "outputId": "228bc76e-dfdb-469b-d21b-2db90f7c3875"
      },
      "execution_count": null,
      "outputs": [
        {
          "output_type": "stream",
          "name": "stdout",
          "text": [
            "5\n",
            "15\n",
            "30\n"
          ]
        }
      ]
    },
    {
      "cell_type": "code",
      "source": [
        "# positional arguments (*args)\n",
        "\n",
        "class math:\n",
        "  def add(self,*numbers):\n",
        "    total=sum(numbers)\n",
        "    print(f\"sum :{total}\")\n",
        "\n",
        "m=math()\n",
        "m.add(5)\n",
        "m.add( 5,10,10)\n"
      ],
      "metadata": {
        "colab": {
          "base_uri": "https://localhost:8080/"
        },
        "id": "ntUEIYhzTTXB",
        "outputId": "bf15aaf1-f388-4fb5-9688-15f55d774415"
      },
      "execution_count": null,
      "outputs": [
        {
          "output_type": "stream",
          "name": "stdout",
          "text": [
            "sum :5\n",
            "sum :25\n"
          ]
        }
      ]
    },
    {
      "cell_type": "code",
      "source": [
        "class greeting:\n",
        "  def say_hello(self,**kwargs):\n",
        "    print(f\"Hello {kwargs['name']}!\")\n",
        "    print(f\"you are {kwargs['age']}years old!\")\n",
        "    print(f\"You are from {kwargs['city']}!\")\n",
        "g=greeting()\n",
        "# g.say_hello()\n",
        "g.say_hello(name=\"Anvi\", age=21, city=\"kajany\")"
      ],
      "metadata": {
        "colab": {
          "base_uri": "https://localhost:8080/"
        },
        "id": "BJsdu9gqUOav",
        "outputId": "d2771932-e4e6-4cdf-fa9b-4f36cc5681fe"
      },
      "execution_count": null,
      "outputs": [
        {
          "output_type": "stream",
          "name": "stdout",
          "text": [
            "Hello Anvi!\n",
            "you are 21years old!\n",
            "You are from kajany!\n"
          ]
        }
      ]
    },
    {
      "cell_type": "markdown",
      "source": [
        "## encapsulation"
      ],
      "metadata": {
        "id": "7xESVmBKahgw"
      }
    },
    {
      "cell_type": "code",
      "source": [
        "class company:\n",
        "  def __init__(self,company_name,company_id):\n",
        "    self.__company_name =company_name\n",
        "    self._company_id=company_id\n",
        "\n",
        "c=company(\"TCS\",91)\n",
        "print(c._company_id)\n",
        "\n",
        " #print(c.__company_name) we can't print two underscore variable !"
      ],
      "metadata": {
        "colab": {
          "base_uri": "https://localhost:8080/"
        },
        "id": "VW_CpZ0lalMQ",
        "outputId": "4e700ba7-0194-450f-bff7-f75e15ee6c89"
      },
      "execution_count": null,
      "outputs": [
        {
          "output_type": "stream",
          "name": "stdout",
          "text": [
            "91\n"
          ]
        }
      ]
    },
    {
      "cell_type": "code",
      "source": [
        "class company:\n",
        "  def __init__(self,company_name,company_id):\n",
        "    self.__company_name=company_name\n",
        "    self.company_id=company_id\n",
        "\n",
        "  def get_company_name(self):\n",
        "    print(self.__company_name)\n",
        "\n",
        "c1 = company(\"TCS\",91)\n",
        "c1.get_company_name() # we can simply acccess now\n"
      ],
      "metadata": {
        "colab": {
          "base_uri": "https://localhost:8080/"
        },
        "id": "JmCs05h4b3iI",
        "outputId": "1f0c568c-925b-4107-d51a-c00d46db991c"
      },
      "execution_count": null,
      "outputs": [
        {
          "output_type": "stream",
          "name": "stdout",
          "text": [
            "TCS\n"
          ]
        }
      ]
    },
    {
      "cell_type": "code",
      "source": [
        "class bankaccount:\n",
        "  def __init__(self, account_number, balance):\n",
        "    self.__account_number = account_number\n",
        "    self.__balance = balance\n",
        "\n",
        "\n",
        "  def deposite(self, amount):#depositing\n",
        "    if amount>0:\n",
        "      self.__balance +=amount\n",
        "      print(f\"Deposited {amount}.\\n New balance: {self.__balance}\\n\")\n",
        "    else:\n",
        "      print(\"Invalid deposit error\")\n",
        "\n",
        "\n",
        "  def withdrawel(self,amount):#withdrawing\n",
        "    if amount>0:\n",
        "      self.__balance -=amount\n",
        "      print(f\"withdrawn {amount}.\\n New balance: {self.__balance}\")\n",
        "    else:\n",
        "      print(\"Invalid deposit error\")\n",
        "  def get_balance(self):\n",
        "    return self.__balance\n",
        "\n",
        "account = bankaccount(\"12345\", 1000)\n",
        "account.deposite(500)\n",
        "\n",
        "account.withdrawel(1000)\n"
      ],
      "metadata": {
        "colab": {
          "base_uri": "https://localhost:8080/"
        },
        "id": "giZxEFmgcuPI",
        "outputId": "7a586f4a-cb2e-4c8b-d1b9-a4946d7385cb"
      },
      "execution_count": null,
      "outputs": [
        {
          "output_type": "stream",
          "name": "stdout",
          "text": [
            "Deposited 500.\n",
            " New balance: 1500\n",
            "\n",
            "withdrawn 1000.\n",
            " New balance: 500\n"
          ]
        }
      ]
    },
    {
      "cell_type": "markdown",
      "source": [
        "Design a Student class with:\n",
        "\n",
        "Private attributes: __name, __grades (a list)\n",
        "\n",
        "Method to add grade: add_grade(grade)\n",
        "\n",
        "Method to get average grade: get_average()\n",
        "\n",
        "Prevent direct access to the grades list from outside the class.\n",
        "\n"
      ],
      "metadata": {
        "id": "rbJvy8EjSNQa"
      }
    },
    {
      "cell_type": "code",
      "source": [
        "class student:\n",
        "  def __init__(self,name,grade):\n",
        "    self.__name=name\n",
        "    self.__grade=[]\n",
        "\n",
        "  def add_grade(self,grade):\n",
        "    self.__grade.append()\n",
        "\n",
        "  def get_average(self,grade):\n",
        "    print(sum(self.__grade) / len(self.__grade))\n",
        "\n",
        "  def get_name(self):\n",
        "      return self.__name\n",
        "\n",
        "\n",
        "s= Student(\"Asna\")\n",
        "s.add_grade(90)\n",
        "s.add_grade(45)\n",
        "s.add_grade(92)\n",
        "s.add_grade(70)\n",
        "\n",
        "print(f\"Student Name: {s.get_name()}\")\n",
        "print(f\"Average Grade: {s.get_average()}\")\n",
        "\n"
      ],
      "metadata": {
        "colab": {
          "base_uri": "https://localhost:8080/",
          "height": 211
        },
        "id": "ZdYFYIwNSQda",
        "outputId": "0d3d8d77-865d-4f9f-d140-4642db765976"
      },
      "execution_count": null,
      "outputs": [
        {
          "output_type": "error",
          "ename": "NameError",
          "evalue": "name 'Student' is not defined",
          "traceback": [
            "\u001b[0;31m---------------------------------------------------------------------------\u001b[0m",
            "\u001b[0;31mNameError\u001b[0m                                 Traceback (most recent call last)",
            "\u001b[0;32m/tmp/ipython-input-71-1558206601.py\u001b[0m in \u001b[0;36m<cell line: 0>\u001b[0;34m()\u001b[0m\n\u001b[1;32m     14\u001b[0m \u001b[0;34m\u001b[0m\u001b[0m\n\u001b[1;32m     15\u001b[0m \u001b[0;34m\u001b[0m\u001b[0m\n\u001b[0;32m---> 16\u001b[0;31m \u001b[0ms\u001b[0m\u001b[0;34m=\u001b[0m \u001b[0mStudent\u001b[0m\u001b[0;34m(\u001b[0m\u001b[0;34m\"Asna\"\u001b[0m\u001b[0;34m)\u001b[0m\u001b[0;34m\u001b[0m\u001b[0;34m\u001b[0m\u001b[0m\n\u001b[0m\u001b[1;32m     17\u001b[0m \u001b[0ms\u001b[0m\u001b[0;34m.\u001b[0m\u001b[0madd_grade\u001b[0m\u001b[0;34m(\u001b[0m\u001b[0;36m90\u001b[0m\u001b[0;34m)\u001b[0m\u001b[0;34m\u001b[0m\u001b[0;34m\u001b[0m\u001b[0m\n\u001b[1;32m     18\u001b[0m \u001b[0ms\u001b[0m\u001b[0;34m.\u001b[0m\u001b[0madd_grade\u001b[0m\u001b[0;34m(\u001b[0m\u001b[0;36m45\u001b[0m\u001b[0;34m)\u001b[0m\u001b[0;34m\u001b[0m\u001b[0;34m\u001b[0m\u001b[0m\n",
            "\u001b[0;31mNameError\u001b[0m: name 'Student' is not defined"
          ]
        }
      ]
    },
    {
      "cell_type": "markdown",
      "source": [
        "Create an Employee class with:\n",
        "\n",
        "Protected attribute: _salary\n",
        "\n",
        "Private attribute: __bonus\n",
        "\n",
        "Method to calculate total salary: get_total_compensation()\n",
        "\n",
        "Method to set bonus, only if salary > 50,000\n",
        "\n",
        "Challenge: Make sure __bonus can't be set directly and raises an error if conditions aren't met."
      ],
      "metadata": {
        "id": "JXUr1JweXPWT"
      }
    },
    {
      "cell_type": "code",
      "source": [
        "class employee:\n",
        "\n",
        "  def get_total_compensation(self,salary):\n",
        "    self._salary=salary\n",
        "    print(self._salary)\n",
        "\n",
        "  def bonus(self,salary,bonus):\n",
        "    self.__bonus=bonus\n",
        "    if self._salary > 50000:\n",
        "      print(self._salary+self.__bonus)\n",
        "\n",
        "    else:\n",
        "      print(\"no bonus\")\n",
        "\n",
        "e=employee()\n",
        "e.get_total_compensation(15000)\n",
        "e.bonus(15000,500)"
      ],
      "metadata": {
        "id": "r3U75sjwYBw0"
      },
      "execution_count": null,
      "outputs": []
    },
    {
      "cell_type": "markdown",
      "source": [
        "Create a Car class:\n",
        "\n",
        "Private attribute: __speed\n",
        "\n",
        "Method to accelerate(amount)\n",
        "\n",
        "Method to decelerate(amount)\n",
        "\n",
        "Method to get_speed()\n",
        "\n",
        "Speed should never go below 0 or above 200 km/h.\n",
        "\n"
      ],
      "metadata": {
        "id": "qdufg12abiaU"
      }
    },
    {
      "cell_type": "code",
      "source": [
        "class car:\n",
        "  def __init__(self, initial_speed=0):\n",
        "    self.__speed = initial_speed\n",
        "\n",
        "  def accelerate(self, amount):\n",
        "    self.__speed += amount\n",
        "    if self.__speed > 200:\n",
        "      self.__speed = 200\n",
        "\n",
        "  def decelerate(self, amount):\n",
        "    self.__speed -= amount\n",
        "    if self.__speed < 0:\n",
        "      self.__speed = 0\n",
        "\n",
        "  def get_speed(self):\n",
        "    return self.__speed\n",
        "\n",
        "c = car(30)\n",
        "print(f\"Initial speed: {c.get_speed()} km/h\")\n",
        "\n",
        "c.accelerate(50)\n",
        "print(f\"After accelerating by 50 km/h: {c.get_speed()} km/h\")\n",
        "\n",
        "c.decelerate(30)\n",
        "print(f\"After decelerating by 30 km/h: {c.get_speed()} km/h\")\n",
        "\n",
        "c.accelerate(200)\n",
        "print(f\"After accelerating by 200 km/h: {c.get_speed()} km/h\")\n",
        "\n",
        "c.decelerate(300)\n",
        "print(f\"After decelerating by 300 km/h: {c.get_speed()} km/h\")"
      ],
      "metadata": {
        "id": "36ViBRRabjkU"
      },
      "execution_count": null,
      "outputs": []
    },
    {
      "cell_type": "markdown",
      "source": [
        "Create a User class:\n",
        "\n",
        "Private attribute: __password\n",
        "\n",
        "Use @property and @setter to manage password:\n",
        "\n",
        "When setting a password, ensure it’s at least 8 characters.\n",
        "\n",
        "When getting, return \"****\" (never show the actual password)\n",
        "\n"
      ],
      "metadata": {
        "id": "51MTpCXzkGpF"
      }
    },
    {
      "cell_type": "code",
      "source": [
        "class User:\n",
        "  def __init__(self, password):\n",
        "    self.password=password\n",
        "  def show_password(self):\n",
        "    print(\"****\")\n",
        "  def set_password(self, value):\n",
        "    if len(value) >= 8:\n",
        "      self.__password = value\n",
        "      print(\"Password set successfully.\")\n",
        "    else:\n",
        "      print(\"Password must be at least 8 characters long.\")\n",
        "\n",
        "u = User(\"abcdefgh\")\n",
        "u.set_password(\"abcdefgh\")\n",
        "u.show_password()\n"
      ],
      "metadata": {
        "id": "vB_TrSThv393"
      },
      "execution_count": null,
      "outputs": []
    },
    {
      "cell_type": "code",
      "source": [
        "class course:\n",
        "  def __init__ (self,title,students):\n",
        "    self.__title=title\n",
        "    self.__students=[]\n",
        "\n",
        "  def get_title(self):\n",
        "      return self.__title\n",
        "\n",
        "  def add_student(self,students):\n",
        "    self.__students.append(students)\n",
        "\n",
        "  def remove_student(self,students):\n",
        "    self.__students.remove(students)\n",
        "\n",
        "  def get_students(self):\n",
        "    return self.__students.copy()\n",
        "\n",
        "c=course (\"data science\", [])\n",
        "print(f\"the course is : {c.get_title()}\")\n",
        "c.add_student(\"anvi\")\n",
        "c.add_student(\"aswani\")\n",
        "c.add_student(\"ardra\")\n",
        "print(c.get_students())\n",
        "\n",
        "c.remove_student(\"ardra\")\n",
        "print(c.get_students())"
      ],
      "metadata": {
        "id": "k8tLRbgTxMcH",
        "colab": {
          "base_uri": "https://localhost:8080/"
        },
        "outputId": "87ee7f5a-d0a7-474e-9f44-ea9daede4b77"
      },
      "execution_count": null,
      "outputs": [
        {
          "output_type": "stream",
          "name": "stdout",
          "text": [
            "the course is : data science\n",
            "['anvi', 'aswani', 'ardra']\n",
            "['anvi', 'aswani']\n"
          ]
        }
      ]
    },
    {
      "cell_type": "markdown",
      "source": [
        "## Abstract method\n"
      ],
      "metadata": {
        "id": "nSAHcJj_wrlX"
      }
    },
    {
      "cell_type": "code",
      "source": [
        "from abc import ABC,abstractmethod\n",
        "class Vehicle(ABC): # abstract class\n",
        "\n",
        " @abstractmethod\n",
        " def start_engine(self):\n",
        "  pass #abstact method with no implementation\n",
        "\n",
        " @abstractmethod\n",
        " def stop_engine(self):\n",
        "  pass # abstract method with no implementataion\n",
        "\n",
        "class car(Vehicle): #child class of vehicle\n",
        "\n",
        "  def start_engine(self): # also we need to create same (function) in child class otherwise it will show error\n",
        "    print(\"car engine started\")\n",
        "\n",
        "  def stop_engine(self): # also we need to create same (function) in child class otherwise it will show error\n",
        "    print(\"car engine stopped\")\n",
        "car = car()\n",
        "car.start_engine()\n",
        "car.stop_engine()"
      ],
      "metadata": {
        "colab": {
          "base_uri": "https://localhost:8080/"
        },
        "id": "yPO02JKHwzbH",
        "outputId": "9449a0ae-b33c-47a5-8b7d-33f0d11b5f81"
      },
      "execution_count": null,
      "outputs": [
        {
          "output_type": "stream",
          "name": "stdout",
          "text": [
            "car engine started\n",
            "car engine stopped\n"
          ]
        }
      ]
    },
    {
      "cell_type": "code",
      "source": [
        "from abc import ABC , abstractmethod\n",
        "\n",
        "class shape(ABC):\n",
        "  @abstractmethod\n",
        "  def calculate_area(self):\n",
        "    pass\n",
        "class circle(shape):\n",
        "  def __init__(self,radius):\n",
        "    self.radius=radius\n",
        "\n",
        "  def calculate_area(self):\n",
        "    print(f\"area of circle is {3.14 * (self.radius) ** 2}\")\n",
        "class rectangle(shape):\n",
        "  def __init__(self,width,height):\n",
        "    self.height=height\n",
        "    self.width=width\n",
        "  def calculate_area(self):\n",
        "    print(f\"area of rectangle : {self.width * self.height}\")\n",
        "\n",
        "c=circle(10)\n",
        "r=rectangle(5,10)\n",
        "\n",
        "c.calculate_area()\n",
        "print()\n",
        "r.calculate_area()\n",
        "\n"
      ],
      "metadata": {
        "colab": {
          "base_uri": "https://localhost:8080/"
        },
        "id": "9ZFLCVwH0crI",
        "outputId": "02d00d30-9def-4ca0-af9f-5f03bc81609b"
      },
      "execution_count": null,
      "outputs": [
        {
          "output_type": "stream",
          "name": "stdout",
          "text": [
            "area of circle is 314.0\n",
            "\n",
            "area of rectangle : 50\n"
          ]
        }
      ]
    },
    {
      "cell_type": "code",
      "source": [
        "from abc import ABC ,abstractmethod\n",
        "\n",
        "class electronic_device(ABC):\n",
        "  @abstractmethod\n",
        "  def start_machine(self):\n",
        "    pass\n",
        "\n",
        "class grinder(electronic_device):\n",
        "  def start_machine(self):\n",
        "    print(\"this machine is used grind food\")\n",
        "\n",
        "class telephone(electronic_device):\n",
        "  def start_machine(self):\n",
        "    print(\"this device is used for ongoing and outgoing calls \")\n",
        "\n",
        "g=grinder()\n",
        "g.start_machine()\n",
        "t=telephone()\n",
        "t.start_machine()"
      ],
      "metadata": {
        "colab": {
          "base_uri": "https://localhost:8080/"
        },
        "id": "idTqAN413NBk",
        "outputId": "52e61543-a3b0-4a4e-ee37-bb0219643f50"
      },
      "execution_count": null,
      "outputs": [
        {
          "output_type": "stream",
          "name": "stdout",
          "text": [
            "this machine is used grind food\n",
            "this device is used for ongoing and outgoing calls \n"
          ]
        }
      ]
    },
    {
      "cell_type": "markdown",
      "source": [
        "## class methods\n"
      ],
      "metadata": {
        "id": "ZaLCA1D08pc9"
      }
    },
    {
      "cell_type": "code",
      "source": [
        "class car:\n",
        "  #class variable\n",
        "  wheels = 4\n",
        "\n",
        "  def __init__(self, brand, model):\n",
        "    self.brand = brand\n",
        "    self.model = model\n",
        "\n",
        "  @classmethod\n",
        "  def change_wheels(cls, new_wheels):\n",
        "    cls.wheels = new_wheels\n",
        "    print(f\"The number of wheels has been updated to {cls.wheels}.\")\n",
        "\n",
        "\n",
        "# create an instance of car\n",
        "car1 = car(\"Toyoata\",\"Etios\")\n",
        "\n",
        "# call the class method to modify the class variable\n",
        "car.change_wheels(6)\n",
        "\n",
        "print()\n",
        "\n",
        "# the class variable \"wheels\" is now changed for all instances\n",
        "print(f\"car variable updated to :{car1.wheels}\")"
      ],
      "metadata": {
        "colab": {
          "base_uri": "https://localhost:8080/"
        },
        "id": "pUeBQfxe8uPs",
        "outputId": "1731509c-9139-4106-ba12-71d6ee91b562"
      },
      "execution_count": null,
      "outputs": [
        {
          "output_type": "stream",
          "name": "stdout",
          "text": [
            "The number of wheels has been updated to 6.\n",
            "\n",
            "car variable updated to :6\n"
          ]
        }
      ]
    },
    {
      "cell_type": "code",
      "source": [
        "a=[[1,2],[3,4],[5]]\n",
        "flat_list = [item for sublist in a for item in sublist]\n",
        "print(flat_list)"
      ],
      "metadata": {
        "id": "5ob0D2CBqVeG"
      },
      "execution_count": null,
      "outputs": []
    },
    {
      "cell_type": "code",
      "source": [
        "class mobile:\n",
        "  camera=1\n",
        "  def __init__(self,brand,model):\n",
        "    self.brand=brand\n",
        "    self.model=model\n",
        "\n",
        "  @classmethod\n",
        "  def num_camera(cls,n_camera):\n",
        "    cls.camera=n_camera\n",
        "    print(f\"the number of camera is updated in :{cls.camera}\")\n",
        "\n",
        "m=mobile(\"apple\",\"iphone 16 pro\")\n",
        "m.num_camera(3)\n",
        "print(f\"camera is updated to:{m.camera}\")"
      ],
      "metadata": {
        "colab": {
          "base_uri": "https://localhost:8080/"
        },
        "id": "UbwJsARz9e4f",
        "outputId": "f216ec9d-1db9-4496-8da8-a0406c7c7b24"
      },
      "execution_count": null,
      "outputs": [
        {
          "output_type": "stream",
          "name": "stdout",
          "text": [
            "the number of camera is updated in :3\n",
            "camera is updated to:3\n"
          ]
        }
      ]
    },
    {
      "cell_type": "markdown",
      "source": [
        "## PRACTICE QUESTIONS\n"
      ],
      "metadata": {
        "id": "t0l7g6uUBgXI"
      }
    },
    {
      "cell_type": "markdown",
      "source": [
        "1.Create an abstract class Animal with an abstract method make_sound(). Then, implement two subclasses, Dog and Cat, which override the make_sound() method to print the respective animal sounds. Instantiate both classes and call their make_sound() methods."
      ],
      "metadata": {
        "id": "DYgKWbR7Bp8H"
      }
    },
    {
      "cell_type": "code",
      "source": [
        "from abc import ABC , abstractmethod\n",
        "\n",
        "class animal(ABC):\n",
        "  @abstractmethod\n",
        "  def make_sound(self):\n",
        "    pass\n",
        "\n",
        "class dog(animal):\n",
        "  def make_sound(self):\n",
        "    print(\"the dog barks.....\")\n",
        "\n",
        "class cat(animal):\n",
        "  def make_sound(self):\n",
        "    print(\"the cat meows...\")\n",
        "\n",
        "d=dog()\n",
        "d.make_sound()\n",
        "c=cat()\n",
        "c.make_sound()"
      ],
      "metadata": {
        "colab": {
          "base_uri": "https://localhost:8080/"
        },
        "id": "Wh7xDmd3Bq8x",
        "outputId": "1acb0197-0861-48e8-ea47-d829e16bdfbf"
      },
      "execution_count": null,
      "outputs": [
        {
          "output_type": "stream",
          "name": "stdout",
          "text": [
            "the dog barks.....\n",
            "the cat meows...\n"
          ]
        }
      ]
    },
    {
      "cell_type": "markdown",
      "source": [
        "Create an abstract class Employee with an abstract method calculate_salary(). Implement two subclasses, FullTimeEmployee and PartTimeEmployee, which calculate salaries based on a fixed monthly salary and an hourly rate, respectively. Instantiate both classes and print their salaries."
      ],
      "metadata": {
        "id": "h2SJNrFpC7aM"
      }
    },
    {
      "cell_type": "code",
      "source": [
        "from abc import ABC, abstractmethod\n",
        "\n",
        "class employee:\n",
        "  @abstractmethod\n",
        "  def calculate_salary(self):\n",
        "    pass\n",
        "class fulltimeemployee(employee):\n",
        "  def __init__(self,salary):\n",
        "    self.salary=salary\n",
        "  def calculate_salary(self):\n",
        "    print(f\"the salary of full time employee is :{(self.salary/8)* 160 }\")\n",
        "\n",
        "class parttimeemployee(employee):\n",
        "  def __init__(self,salary):\n",
        "    self.salary=salary\n",
        "  def calculate_salary(self):\n",
        "    print(f\"the salary of part time employee is :{(self.salary/8)* 40}\")\n",
        "\n",
        "f=fulltimeemployee(1000)\n",
        "f.calculate_salary()\n",
        "p=parttimeemployee(1000)\n",
        "p.calculate_salary()\n"
      ],
      "metadata": {
        "colab": {
          "base_uri": "https://localhost:8080/"
        },
        "id": "G1bArnPfC8hS",
        "outputId": "f9840263-7cef-4de1-d4d8-4651444968e9"
      },
      "execution_count": null,
      "outputs": [
        {
          "output_type": "stream",
          "name": "stdout",
          "text": [
            "the salary of full time employee is :20000.0\n",
            "the salary of part time employee is :5000.0\n"
          ]
        }
      ]
    },
    {
      "cell_type": "markdown",
      "source": [
        "Create an abstract class Polygon with an abstract method number_of_sides(). Implement two subclasses, Triangle and Pentagon, which return the respective number of sides. Instantiate both classes and print the number of sides.\n",
        "\n"
      ],
      "metadata": {
        "id": "AyrpuJAjHTd5"
      }
    },
    {
      "cell_type": "code",
      "source": [
        "from abc import ABC,abstractmethod\n",
        "class polygon:\n",
        "  @abstractmethod\n",
        "  def number_of_sides(self):\n",
        "    pass\n",
        "class triangle(polygon):\n",
        "  def number_of_sides(self):\n",
        "    print(\"number of sides is 3\")\n",
        "\n",
        "class pentagon(polygon):\n",
        "  def number_of_sides(self):\n",
        "    print(\"the number of sides is 5\")\n",
        "\n",
        "t=triangle()\n",
        "t.number_of_sides()\n",
        "\n",
        "print()\n",
        "p=pentagon()\n",
        "p.number_of_sides()"
      ],
      "metadata": {
        "colab": {
          "base_uri": "https://localhost:8080/"
        },
        "id": "obvub2WzHVp0",
        "outputId": "7b40b25b-d367-48e2-9281-6e555a52a44f"
      },
      "execution_count": null,
      "outputs": [
        {
          "output_type": "stream",
          "name": "stdout",
          "text": [
            "number of sides is 3\n",
            "\n",
            "the number of sides is 5\n"
          ]
        }
      ]
    },
    {
      "cell_type": "markdown",
      "source": [
        "Define a Python class Student with the following private attributes:\n",
        "\n",
        "__name to store the student's name. __marks to store the student's marks."
      ],
      "metadata": {
        "id": "ZlQbIzpILXI5"
      }
    },
    {
      "cell_type": "code",
      "source": [
        "class student:\n",
        "  def set_name(self,name):\n",
        "    self.__name = name\n",
        "\n",
        "  def set_mark(self, mark):\n",
        "    if mark < 0:\n",
        "        print(\"Marks cannot be negative.\")\n",
        "    else:\n",
        "        self.__mark = mark\n",
        "  def get_name(self):\n",
        "    print(self.__name)\n",
        "  def get_mark(self):\n",
        "    print(self.__mark)\n",
        "\n",
        "a=student()\n",
        "a.set_name(\"Anvi\")\n",
        "a.set_mark(89)\n",
        "a.get_name()\n",
        "a.get_mark()\n"
      ],
      "metadata": {
        "colab": {
          "base_uri": "https://localhost:8080/"
        },
        "id": "6GsDeIXBLYv4",
        "outputId": "c367217f-7c67-408d-9afd-9b9719e3b200"
      },
      "execution_count": null,
      "outputs": [
        {
          "output_type": "stream",
          "name": "stdout",
          "text": [
            "Anvi\n",
            "89\n"
          ]
        }
      ]
    },
    {
      "cell_type": "markdown",
      "source": [
        "Create a class Greeter with a method greet(name) that prints a greeting for the provided name."
      ],
      "metadata": {
        "id": "YDATw1pzOwAr"
      }
    },
    {
      "cell_type": "code",
      "source": [
        "class greeter:\n",
        "  def greet(self,name):\n",
        "    print(f\"hello, {name}\")\n",
        "\n",
        "g=greeter()\n",
        "g.greet(\"beena\")"
      ],
      "metadata": {
        "colab": {
          "base_uri": "https://localhost:8080/"
        },
        "id": "3AQVBkScOxHi",
        "outputId": "60a6d8fb-6edf-48b9-8019-9ada29f523b2"
      },
      "execution_count": null,
      "outputs": [
        {
          "output_type": "stream",
          "name": "stdout",
          "text": [
            "hello, beena\n"
          ]
        }
      ]
    },
    {
      "cell_type": "markdown",
      "source": [
        " Develop a class Calculator with methods to add and subtract two numbers."
      ],
      "metadata": {
        "id": "Lxf3fUJqPWuR"
      }
    },
    {
      "cell_type": "code",
      "source": [
        "class calculator:\n",
        "  def addition(self,a,b):\n",
        "    return a+b\n",
        "  def subtract(self,a,b):\n",
        "    return a-b\n",
        "c=calculator()\n",
        "print(f\"sum {c.addition(5,8)}\")\n",
        "print(f\"substraction {c.subtract(5,4)}\")"
      ],
      "metadata": {
        "colab": {
          "base_uri": "https://localhost:8080/"
        },
        "id": "THqVnQ32PXoe",
        "outputId": "2f29fe07-8be5-418c-b1b1-e50b921a85e6"
      },
      "execution_count": null,
      "outputs": [
        {
          "output_type": "stream",
          "name": "stdout",
          "text": [
            "sum 13\n",
            "substraction 1\n"
          ]
        }
      ]
    },
    {
      "cell_type": "markdown",
      "source": [
        "Build a class Employee with multiple constructors that can initialize an employee object in different ways."
      ],
      "metadata": {
        "id": "i103_qv6Qzrx"
      }
    },
    {
      "cell_type": "code",
      "source": [
        "class employee:\n",
        "  def __init__(self,name,id,dept):\n",
        "    self.name=name\n",
        "    self.id=id\n",
        "    self.dept=dept\n",
        "\n",
        "  def display_details(self):\n",
        "    print(f\"Name: {self.name}\")\n",
        "    print(f\"ID : {self.id}\")\n",
        "    print(f\"Department : {self.dept}\")\n",
        "\n",
        "c=employee(\"Desani\",123,\"Robotics\")\n",
        "c.display_details()\n",
        "print()\n",
        "c=employee(\"Nithara\",345,\"AI\")\n",
        "c.display_details()"
      ],
      "metadata": {
        "colab": {
          "base_uri": "https://localhost:8080/"
        },
        "id": "5sQOLojoQ0gM",
        "outputId": "99d0bbba-1e85-483b-cf10-95b9ae9e6c8e"
      },
      "execution_count": null,
      "outputs": [
        {
          "output_type": "stream",
          "name": "stdout",
          "text": [
            "Name: Desani\n",
            "ID : 123\n",
            "Department : Robotics\n",
            "\n",
            "Name: Nithara\n",
            "ID : 345\n",
            "Department : AI\n"
          ]
        }
      ]
    },
    {
      "cell_type": "markdown",
      "source": [
        "Design a class SeriesCalculator that calculates the sum of an arithmetic series."
      ],
      "metadata": {
        "id": "V0TVLBZsSw2q"
      }
    },
    {
      "cell_type": "code",
      "source": [
        "class SeriesCalculator:\n",
        "    def calculate_sum(self, n, a=1, d=2):\n",
        "        return n * (2 * a + (n - 1) * d) // 2\n",
        "sc = SeriesCalculator()\n",
        "print(\"Sum of series:\", sc.calculate_sum(4))"
      ],
      "metadata": {
        "colab": {
          "base_uri": "https://localhost:8080/"
        },
        "id": "pOrWLtTeS476",
        "outputId": "785d4643-5951-44c2-fa6a-e0c9f1d52c50"
      },
      "execution_count": null,
      "outputs": [
        {
          "output_type": "stream",
          "name": "stdout",
          "text": [
            "Sum of series: 16\n"
          ]
        }
      ]
    },
    {
      "cell_type": "markdown",
      "source": [
        "Create a class MaxFinder that identifies the largest number in a list."
      ],
      "metadata": {
        "id": "lYz_0cDGTBLa"
      }
    },
    {
      "cell_type": "code",
      "source": [
        "class maxfinder:\n",
        "  def __init__(self,numbers):\n",
        "    self.numbers=numbers\n",
        "\n",
        "  def max_num(self):\n",
        "    print(max(self.numbers))\n",
        "\n",
        "c=maxfinder([1,2,3,4,5,6])\n",
        "c.max_num()"
      ],
      "metadata": {
        "colab": {
          "base_uri": "https://localhost:8080/"
        },
        "id": "xv_8fWj4TJ0c",
        "outputId": "b2a591ad-4b1a-4f04-913e-2e157485a920"
      },
      "execution_count": null,
      "outputs": [
        {
          "output_type": "stream",
          "name": "stdout",
          "text": [
            "6\n"
          ]
        }
      ]
    },
    {
      "cell_type": "markdown",
      "source": [
        "Design a Rectangle class with default attributes for length and width set to 1. Include methods to set these attributes and calculate the area."
      ],
      "metadata": {
        "id": "5Gu5lL3rUFhT"
      }
    },
    {
      "cell_type": "code",
      "source": [
        "class rectangle:\n",
        "  def __init__(self,length=1,width=1):\n",
        "    self.length=length\n",
        "    self.width=width\n",
        "\n",
        "  def set_dimensions(self,length,width):\n",
        "    self.length=length\n",
        "    self.width=width\n",
        "  def area(self):\n",
        "    print(f\"area :{self.length * self.width}\")\n",
        "c=rectangle()\n",
        "c.area()\n",
        "c.set_dimensions(5,4)\n",
        "c.area()"
      ],
      "metadata": {
        "colab": {
          "base_uri": "https://localhost:8080/"
        },
        "id": "2JlT_n1PUIyi",
        "outputId": "7ff2cc1f-eacd-40c5-9b4e-645d3764a986"
      },
      "execution_count": null,
      "outputs": [
        {
          "output_type": "stream",
          "name": "stdout",
          "text": [
            "area :1\n",
            "area :20\n"
          ]
        }
      ]
    },
    {
      "cell_type": "markdown",
      "source": [
        "Person Class with __str__ Method: Create a Person class with first and last name attributes and override the __str__ method to return the full name."
      ],
      "metadata": {
        "id": "vshT_3JoWDeD"
      }
    },
    {
      "cell_type": "code",
      "source": [
        "class person:\n",
        "  def __init__(self,firstname,lastname):\n",
        "    self.firstname=firstname\n",
        "    self.lastname=lastname\n",
        "\n",
        "  def __str__(self):\n",
        "    return f\"Name : {self.firstname} {self.lastname}\"\n",
        "p=person(\"Anjali\",\"suresh\")\n",
        "print(p)"
      ],
      "metadata": {
        "colab": {
          "base_uri": "https://localhost:8080/"
        },
        "id": "rUGFDMEFV-tz",
        "outputId": "d57d70ac-33fb-470e-bac8-b3f4423db4ae"
      },
      "execution_count": null,
      "outputs": [
        {
          "output_type": "stream",
          "name": "stdout",
          "text": [
            "Name : Anjali suresh\n"
          ]
        }
      ]
    },
    {
      "cell_type": "markdown",
      "source": [
        "Student Grade Calculator: Implement a Student class with attributes for name and a list of marks. Include a method to calculate the average and determine the grade.\n",
        "\n",
        "\n",
        "\n"
      ],
      "metadata": {
        "id": "3-ErVZtvXfwq"
      }
    },
    {
      "cell_type": "code",
      "source": [
        "class student:\n",
        "  def __init__(self,name,marks):\n",
        "    self.name=name\n",
        "    self.marks=marks\n",
        "\n",
        "  def average(self):\n",
        "    return  sum(self.marks)/len(self.marks)\n",
        "  def grade(self):\n",
        "    average=self.average()\n",
        "    if average> 90:\n",
        "      return \"A\"\n",
        "    elif average >80:\n",
        "      return \"B\"\n",
        "    elif average >70:\n",
        "      return \"C\"\n",
        "    elif average >60:\n",
        "      return \"D\"\n",
        "    else:\n",
        "      return \"FAIL\"\n",
        "c=student(\"avani\",[89,78,90,89,99])\n",
        "print(f\"Average: {c.average()}\")\n",
        "print(f\"Grade: {c.grade()}\")"
      ],
      "metadata": {
        "colab": {
          "base_uri": "https://localhost:8080/"
        },
        "id": "-wCOkLZxXow6",
        "outputId": "10b7487c-0e61-4d03-b1b3-d525fadb5d3e"
      },
      "execution_count": null,
      "outputs": [
        {
          "output_type": "stream",
          "name": "stdout",
          "text": [
            "Average: 89.0\n",
            "Grade: B\n"
          ]
        }
      ]
    },
    {
      "cell_type": "markdown",
      "source": [
        "Calculating Student Results: Develop a class to accept a student's name and marks in three subjects, then calculate and display the total and average marks."
      ],
      "metadata": {
        "id": "564hReQvcR_d"
      }
    },
    {
      "cell_type": "code",
      "source": [
        "class student:\n",
        "  def __init__(self,name,marks):\n",
        "    self.name=name\n",
        "    self.marks=marks\n",
        "  def total(self):\n",
        "    return sum(self.marks)\n",
        "\n",
        "  def average(self):\n",
        "    return sum(self.marks)/len(self.marks)\n",
        "\n",
        "c=student(\"wynter\",[78,90,89])\n",
        "print(f\"Student: {c.name}\")\n",
        "print(f\"Total marks : {c.total()}\")\n",
        "print(f\"Average marks : {c.average()}\")"
      ],
      "metadata": {
        "colab": {
          "base_uri": "https://localhost:8080/"
        },
        "id": "UAExwF6RciAb",
        "outputId": "92a0e73d-7154-4ec6-ee80-2e04d8e983d6"
      },
      "execution_count": null,
      "outputs": [
        {
          "output_type": "stream",
          "name": "stdout",
          "text": [
            "Student: wynter\n",
            "Total marks : 257\n",
            "Average marks : 85.66666666666667\n"
          ]
        }
      ]
    },
    {
      "cell_type": "markdown",
      "source": [
        "Car Class: Create a Car class with attributes make, model, and year. Include a method to display the details of the car."
      ],
      "metadata": {
        "id": "sirO6V1ie_CU"
      }
    },
    {
      "cell_type": "code",
      "source": [
        "class car:\n",
        "  def __init__(self,model,year):\n",
        "    self.model=model\n",
        "    self.year=year\n",
        "  def details(self):\n",
        "    print(f\"Model : {self.model}\")\n",
        "    print(f\"Year  : {self.year}\")\n",
        "c=car(\"cybertruck\",2022)\n",
        "c.details()"
      ],
      "metadata": {
        "colab": {
          "base_uri": "https://localhost:8080/"
        },
        "id": "kfjLDZvafEHm",
        "outputId": "26dac6a5-2dbd-4bd8-f4ac-32a44edc3321"
      },
      "execution_count": null,
      "outputs": [
        {
          "output_type": "stream",
          "name": "stdout",
          "text": [
            "Model : cybertruck\n",
            "Year  : 2022\n"
          ]
        }
      ]
    },
    {
      "cell_type": "markdown",
      "source": [
        " Inheritance - Animal Kingdom: Create a base class Animal with a method speak(). Derive two classes Dog and Cat from Animal and override the speak method to reflect their sounds."
      ],
      "metadata": {
        "id": "eYXnwgu1gFZd"
      }
    },
    {
      "cell_type": "code",
      "source": [
        "class animal:\n",
        "  def speak(self):\n",
        "    print(\"animals make different sounds to communicate.......\")\n",
        "\n",
        "class dog(animal):\n",
        "  def speak(self):\n",
        "    print(\"the dog is barking........\")\n",
        "class cat(animal):\n",
        "  def speak(self):\n",
        "    print(\"the cat is meowing ......\")\n",
        "a=animal()\n",
        "a.speak()\n",
        "d=dog()\n",
        "d.speak()\n",
        "c=cat()\n",
        "c.speak()"
      ],
      "metadata": {
        "colab": {
          "base_uri": "https://localhost:8080/"
        },
        "id": "vBoDdibtgNj0",
        "outputId": "2f63ca13-c1df-40da-e7fa-987023362f0c"
      },
      "execution_count": null,
      "outputs": [
        {
          "output_type": "stream",
          "name": "stdout",
          "text": [
            "animals make different sounds to communicate.......\n",
            "the dog is barking........\n",
            "the cat is meowing ......\n"
          ]
        }
      ]
    },
    {
      "cell_type": "markdown",
      "source": [
        "Polymorphism with a Function: Create a function describe_pet that takes an object of Animal and calls its speak method, demonstrating polymorphism."
      ],
      "metadata": {
        "id": "-g7DHuzzhhWc"
      }
    },
    {
      "cell_type": "code",
      "source": [
        "class animal:\n",
        "  def speak(self):\n",
        "    print(\"asdfghjklpoiouytre\")\n",
        "\n",
        "class snake(animal):\n",
        "  def speak(self):\n",
        "    print(\"ZZZzzzzzz\")\n",
        "\n",
        "class cow(snake):\n",
        "  def speak(self):\n",
        "    print(\"blaaaaaaaa\")\n",
        "\n",
        "class dog(cow):\n",
        "  def speak(self):\n",
        "    print(\"Bowwww\")\n",
        "def describe_pet(animal):\n",
        "    animal.speak()\n",
        "s=snake()\n",
        "c=cow()\n",
        "d=dog()\n",
        "\n",
        "describe_pet(s)\n",
        "describe_pet(c)\n",
        "describe_pet(d)"
      ],
      "metadata": {
        "colab": {
          "base_uri": "https://localhost:8080/"
        },
        "id": "liGV4jenhirh",
        "outputId": "9d9f0fa5-425a-4088-98bf-67e377568640"
      },
      "execution_count": null,
      "outputs": [
        {
          "output_type": "stream",
          "name": "stdout",
          "text": [
            "ZZZzzzzzz\n",
            "blaaaaaaaa\n",
            "Bowwww\n"
          ]
        }
      ]
    },
    {
      "cell_type": "markdown",
      "source": [
        "## iterator"
      ],
      "metadata": {
        "id": "FWvfv1KAnVos"
      }
    },
    {
      "cell_type": "code",
      "source": [
        "a=\"banana\"\n",
        "b=iter(a)\n",
        "print(next(b))\n",
        "print(next(b))\n",
        "print(next(b))\n",
        "print(next(b))\n",
        "print(next(b))\n",
        "print(next(b))"
      ],
      "metadata": {
        "colab": {
          "base_uri": "https://localhost:8080/"
        },
        "id": "gj3O-SeZnYoq",
        "outputId": "9103d730-e758-4d78-db2b-95823cb6a0ce"
      },
      "execution_count": null,
      "outputs": [
        {
          "output_type": "stream",
          "name": "stdout",
          "text": [
            "b\n",
            "a\n",
            "n\n",
            "a\n",
            "n\n",
            "a\n"
          ]
        }
      ]
    },
    {
      "cell_type": "code",
      "source": [
        "a=(\"apple\",\"banana\",\"cherry\")\n",
        "for x in a:\n",
        "  print(x)"
      ],
      "metadata": {
        "colab": {
          "base_uri": "https://localhost:8080/"
        },
        "id": "1DG85lCVo9Ua",
        "outputId": "34a49726-3368-43c0-f987-024c09b8403e"
      },
      "execution_count": null,
      "outputs": [
        {
          "output_type": "stream",
          "name": "stdout",
          "text": [
            "apple\n",
            "banana\n",
            "cherry\n"
          ]
        }
      ]
    },
    {
      "cell_type": "code",
      "source": [
        "class MyNumbers:\n",
        "  def __iter__(self):\n",
        "    self.a=1\n",
        "    return self\n",
        "  def __next__(self):\n",
        "    x=self.a\n",
        "    self.a+=1\n",
        "    return x\n",
        "myclass=MyNumbers()\n",
        "myiter=iter(m)\n",
        "print(next(myiter))\n",
        "print(next(myiter))\n",
        "print(next(myiter))\n",
        "print(next(myiter))\n",
        "print(next(myiter))"
      ],
      "metadata": {
        "colab": {
          "base_uri": "https://localhost:8080/"
        },
        "id": "oCAtS_jZpLwD",
        "outputId": "9a1b8a7e-417f-4401-e75d-5e9c70c0558a"
      },
      "execution_count": null,
      "outputs": [
        {
          "output_type": "stream",
          "name": "stdout",
          "text": [
            "1\n",
            "2\n",
            "3\n",
            "4\n",
            "5\n"
          ]
        }
      ]
    },
    {
      "cell_type": "code",
      "source": [
        "def greeting():\n",
        "  print('hi')\n",
        "  yield 1\n",
        "  print('how are you')\n",
        "  yield 2\n",
        "  print('are you there')\n",
        "  yield 3\n",
        "messenger=greeting()\n",
        "result=next(messenger)\n",
        "print(result)\n",
        "result=next(messenger)\n",
        "print(result)\n",
        "result=next(messenger)\n",
        "print(result)"
      ],
      "metadata": {
        "colab": {
          "base_uri": "https://localhost:8080/"
        },
        "id": "Tc94SDjyrhVB",
        "outputId": "892d9dfc-b7ab-4e7b-9447-6953da2ad1de"
      },
      "execution_count": null,
      "outputs": [
        {
          "output_type": "stream",
          "name": "stdout",
          "text": [
            "hi\n",
            "1\n",
            "how are you\n",
            "2\n",
            "are you there\n",
            "3\n"
          ]
        }
      ]
    },
    {
      "cell_type": "markdown",
      "source": [
        "## multithreading"
      ],
      "metadata": {
        "id": "acIot4IFve3Z"
      }
    },
    {
      "cell_type": "code",
      "source": [
        "import threading\n",
        "def task():\n",
        "  print (\"Thread running\")\n",
        "\n",
        "thread= threading.Thread(target=task)\n",
        "thread.start()\n",
        "thread.join()"
      ],
      "metadata": {
        "colab": {
          "base_uri": "https://localhost:8080/"
        },
        "id": "Zw4mCPV_vi5Q",
        "outputId": "f9fe7749-9e36-46b9-9edc-0418e4afc6fe"
      },
      "execution_count": null,
      "outputs": [
        {
          "output_type": "stream",
          "name": "stdout",
          "text": [
            "Thread running\n"
          ]
        }
      ]
    },
    {
      "cell_type": "markdown",
      "source": [
        "multiple threads\n"
      ],
      "metadata": {
        "id": "5T7GCF9CwGqg"
      }
    },
    {
      "cell_type": "code",
      "source": [
        "import threading\n",
        "def task1():\n",
        " print(\"task 1\")\n",
        "\n",
        "def task2():\n",
        "  print(\"task 2\")\n",
        "\n",
        "t1=threading.Thread(target=task1)\n",
        "t2=threading.Thread(target=task2)\n",
        "\n",
        "t1.start()\n",
        "t2.start()\n",
        "\n",
        "t1.join()\n",
        "t2.join()\n"
      ],
      "metadata": {
        "colab": {
          "base_uri": "https://localhost:8080/"
        },
        "id": "zxSBkxyqwKc_",
        "outputId": "c6f0d0af-4bce-45d3-f080-ecb5dd3e8ad5"
      },
      "execution_count": null,
      "outputs": [
        {
          "output_type": "stream",
          "name": "stdout",
          "text": [
            "task 1\n",
            "task 2\n"
          ]
        }
      ]
    },
    {
      "cell_type": "code",
      "source": [
        "import threading\n",
        "def print_numbers():\n",
        "  for i in range(5):\n",
        "    print(i)\n",
        "\n",
        "thread=threading.Thread(target=print_numbers)\n",
        "thread.start()\n",
        "thread.join()"
      ],
      "metadata": {
        "colab": {
          "base_uri": "https://localhost:8080/"
        },
        "id": "qe-sGDYFw8Q5",
        "outputId": "39e9276c-1562-4932-84ff-5f0c37cc4913"
      },
      "execution_count": null,
      "outputs": [
        {
          "output_type": "stream",
          "name": "stdout",
          "text": [
            "0\n",
            "1\n",
            "2\n",
            "3\n",
            "4\n"
          ]
        }
      ]
    },
    {
      "cell_type": "code",
      "source": [
        "import threading\n",
        "import time\n",
        "\n",
        "def download_file(file):\n",
        "  print(f\"Sownloading{file}...\")\n",
        "  time.sleep(2)\n",
        "  print(f\"{file}downloaded.\")\n",
        "\n",
        "files=[\"file1.txt\",\"file2.txt\",\"file3.txt\"]\n",
        "threads=[threading.Thread(target=download_file,args=(f,))for f in files]\n",
        "for t in threads:\n",
        "  t.start()\n",
        "for t in threads:\n",
        "  t.join()"
      ],
      "metadata": {
        "colab": {
          "base_uri": "https://localhost:8080/"
        },
        "id": "W69lJbLVyTZW",
        "outputId": "a5f2a5ee-62be-4069-866e-24e85092157d"
      },
      "execution_count": null,
      "outputs": [
        {
          "output_type": "stream",
          "name": "stdout",
          "text": [
            "Sownloadingfile1.txt...\n",
            "Sownloadingfile2.txt...\n",
            "Sownloadingfile3.txt...\n",
            "file1.txtdownloaded.file2.txtdownloaded.\n",
            "\n",
            "file3.txtdownloaded.\n"
          ]
        }
      ]
    },
    {
      "cell_type": "markdown",
      "source": [
        "using threads as arguments"
      ],
      "metadata": {
        "id": "CDNvlpV40Tnu"
      }
    },
    {
      "cell_type": "code",
      "source": [
        "import threading\n",
        "def greet(name):\n",
        "  print(f\"hello,{name}!\")\n",
        "\n",
        "thread=threading.Thread(target=greet , args=(\"alice\",))\n",
        "thread.start()\n",
        "thread.join()"
      ],
      "metadata": {
        "colab": {
          "base_uri": "https://localhost:8080/"
        },
        "id": "Vp3PpyoB0X15",
        "outputId": "2b576f0b-fb2f-40bb-ca9a-4961091bddfc"
      },
      "execution_count": null,
      "outputs": [
        {
          "output_type": "stream",
          "name": "stdout",
          "text": [
            "hello,alice!\n"
          ]
        }
      ]
    },
    {
      "cell_type": "code",
      "source": [
        "import threading\n",
        "import time\n",
        "# Function for the chef's work (Thread 1)\n",
        "def chef_work():\n",
        "    for i in range(5):  #chef prepares 5 dishes\n",
        "        print(f\"Chef: Preparing dish {i + 1}....\")\n",
        "        time.sleep(2)  #simulate time taken to prepare a dish\n",
        "        if i == 2:  #assistant starts washing utensils during the 3rd dish\n",
        "            print(\"Chef: Calling assistant to wash utensils.\")\n",
        "            time.sleep(1)  #simulate time taken to call the assistant\n",
        "            assistant_thread = threading.Thread(target=assistant_work)\n",
        "            assistant_thread.start()\n",
        "            assistant_thread.join()  #wait for the assistant to finish\n",
        "            print(\"Chef: Assistant done. Resuming dish preparation.\")\n",
        "    print(\"Chef: All dishes are prepared.\")\n",
        "\n",
        "# Function for the assistant's work (Thread 2)\n",
        "def assistant_work():\n",
        "    for j in range(3):  # Assistant washes 3 utensils\n",
        "        print(f\"  Assistant: Washing utensil {j + 1}...\")\n",
        "        time.sleep(2)  # Simulate time taken to wash each utensil\n",
        "    print(\"  Assistant: All utensils are clean.\")\n",
        "\n",
        "print(\"Kitchen: Starting work.\")\n",
        "chef_thread = threading.Thread(target=chef_work)\n",
        "chef_thread.start()\n",
        "chef_thread.join()  # Wait for the chef to complete their work\n",
        "print(\"Kitchen: All work completed.\")\n",
        "\n"
      ],
      "metadata": {
        "colab": {
          "base_uri": "https://localhost:8080/"
        },
        "id": "Or2NfKyc1E8H",
        "outputId": "32737328-38cd-49fb-d3d9-7ba58058041a"
      },
      "execution_count": null,
      "outputs": [
        {
          "output_type": "stream",
          "name": "stdout",
          "text": [
            "Kitchen: Starting work.\n",
            "Chef: Preparing dish 1....\n",
            "Chef: Preparing dish 2....\n",
            "Chef: Preparing dish 3....\n",
            "Chef: Calling assistant to wash utensils.\n",
            "  Assistant: Washing utensil 1...\n",
            "  Assistant: Washing utensil 2...\n",
            "  Assistant: Washing utensil 3...\n",
            "  Assistant: All utensils are clean.\n",
            "Chef: Assistant done. Resuming dish preparation.\n",
            "Chef: Preparing dish 4....\n",
            "Chef: Preparing dish 5....\n",
            "Chef: All dishes are prepared.\n",
            "Kitchen: All work completed.\n"
          ]
        }
      ]
    },
    {
      "cell_type": "markdown",
      "source": [
        "Write a Python program using threading to simulate music playback and lyrics downloading:\n",
        "\n",
        "Music playback runs in one thread for 5 seconds, printing a message each second. During the 3rd second, a separate thread starts to simulate downloading lyrics, which takes 3 seconds. Ensure the music playback waits for the lyrics to finish downloading before continuing.\n",
        "\n",
        "Output\n",
        "\n",
        "Music Player: Starting music playback. Music Player: Playing music... 1 seconds Music Player: Playing music... 2 seconds Music Player: Playing music... 3 seconds Music Player: Downloading lyrics in the background. Downloading lyrics... 1 seconds Downloading lyrics... 2 seconds Downloading lyrics... 3 seconds Lyrics download completed. Music Player: Lyrics downloaded. Music Player: Playing music... 4 seconds Music Player: Playing music... 5 seconds Music Player: Playback ended"
      ],
      "metadata": {
        "id": "7uj8XdCDlDLI"
      }
    },
    {
      "cell_type": "code",
      "source": [
        "import threading\n",
        "import time\n",
        "def music_player():\n",
        "  for i in range(5):\n",
        "    print(f\"Music player:playing music {i + 1}....\")\n",
        "    time.sleep(2)\n",
        "    if i == 2:\n",
        "      print(f\"Music Player: Downloading lyrics in the background.\")\n",
        "      time.sleep(3)\n",
        "      download_thread = threading.Thread(target=download)\n",
        "      download_thread.start()\n",
        "      download_thread.join()\n",
        "def download():\n",
        "  for j in range(3):\n",
        "     print(f\"Music Player: Lyrics downloaded {j + 1}....\")\n",
        "     time.sleep(2)\n",
        "print(\"Music Player: Starting music playback.\")\n",
        "chef_thread = threading.Thread(target=music_player)\n",
        "chef_thread.start()\n",
        "chef_thread.join()\n",
        "print(\" Music Player: Playback ended\")\n",
        "\n",
        "\n",
        "\n"
      ],
      "metadata": {
        "colab": {
          "base_uri": "https://localhost:8080/"
        },
        "id": "pY_5BXBdlEZH",
        "outputId": "b2f18cbe-d89a-40fc-f50d-7a6fd7036d83"
      },
      "execution_count": null,
      "outputs": [
        {
          "output_type": "stream",
          "name": "stdout",
          "text": [
            "Music Player: Starting music playback.\n",
            "Music player:playing music 1....\n",
            "Music player:playing music 2....\n",
            "Music player:playing music 3....\n",
            "Music Player: Downloading lyrics in the background.\n",
            "Music Player: Lyrics downloaded 1....\n",
            "Music Player: Lyrics downloaded 2....\n",
            "Music Player: Lyrics downloaded 3....\n",
            "Music player:playing music 4....\n",
            "Music player:playing music 5....\n",
            " Music Player: Playback ended\n"
          ]
        }
      ]
    },
    {
      "cell_type": "markdown",
      "source": [
        "## Exception handling"
      ],
      "metadata": {
        "id": "Yqfydna3wREi"
      }
    },
    {
      "cell_type": "code",
      "source": [
        "try:\n",
        "  num=int(input(\"enter the number:\"))\n",
        "  result=10/num\n",
        "except ZeroDivisionError:\n",
        "  print(\"cannot divide by zero!\")\n",
        "except ValueError:\n",
        "  print(\"please enter yhe valid number!\")\n",
        "else:\n",
        "  print(\"division successful! Result:\",result)\n",
        "finally:\n",
        "  print(\"this block always runs\")\n"
      ],
      "metadata": {
        "colab": {
          "base_uri": "https://localhost:8080/"
        },
        "id": "cZq8xyPSwWiK",
        "outputId": "79f09ad3-d18b-4166-c367-11b55631da3a"
      },
      "execution_count": null,
      "outputs": [
        {
          "output_type": "stream",
          "name": "stdout",
          "text": [
            "enter the number:1\n",
            "division successful! Result: 10.0\n",
            "this block always runs\n"
          ]
        }
      ]
    },
    {
      "cell_type": "code",
      "source": [
        "try:\n",
        "  x=int(input(\"enter a number:\"))\n",
        "  y=10/x\n",
        "  print(y)\n",
        "except ZeroDivisionError:\n",
        "  print(\"cannot divide by zero\")"
      ],
      "metadata": {
        "colab": {
          "base_uri": "https://localhost:8080/"
        },
        "id": "phkA-4n5xu5a",
        "outputId": "1bdb8100-ac69-4bb0-ba38-14c5e148759d"
      },
      "execution_count": null,
      "outputs": [
        {
          "output_type": "stream",
          "name": "stdout",
          "text": [
            "enter a number:0\n",
            "cannot divide by zero\n"
          ]
        }
      ]
    },
    {
      "cell_type": "code",
      "source": [
        "try:\n",
        "  x=int(input(\"enter the nymber\"))\n",
        "  y=10/x\n",
        "except ZeroDivisionError as e:\n",
        "  print(e)"
      ],
      "metadata": {
        "colab": {
          "base_uri": "https://localhost:8080/"
        },
        "id": "tBDCUJQtyKOd",
        "outputId": "1e739ad2-07db-4e6e-9613-592ea5e651dd"
      },
      "execution_count": null,
      "outputs": [
        {
          "output_type": "stream",
          "name": "stdout",
          "text": [
            "enter the nymber0\n",
            "division by zero\n"
          ]
        }
      ]
    },
    {
      "cell_type": "code",
      "source": [
        "try:\n",
        "  print(a) # this is not defined and it will show error\n",
        "except:\n",
        "  print(\"error occured\") #but there is except keyword that's why"
      ],
      "metadata": {
        "colab": {
          "base_uri": "https://localhost:8080/"
        },
        "id": "yTph_8cqy1Fq",
        "outputId": "98528fd5-5666-4379-d19a-ac0d98a35e18"
      },
      "execution_count": null,
      "outputs": [
        {
          "output_type": "stream",
          "name": "stdout",
          "text": [
            "error occured\n"
          ]
        }
      ]
    },
    {
      "cell_type": "code",
      "source": [
        "try:\n",
        "  print(a)\n",
        "except:\n",
        "  print(\"error occured\")\n",
        "print(\"hello world\")"
      ],
      "metadata": {
        "colab": {
          "base_uri": "https://localhost:8080/"
        },
        "id": "jvK2h4zgzPJa",
        "outputId": "22b905a0-22c2-44d3-cc77-2ea2262a1e02"
      },
      "execution_count": null,
      "outputs": [
        {
          "output_type": "stream",
          "name": "stdout",
          "text": [
            "error occured\n",
            "hello world\n"
          ]
        }
      ]
    },
    {
      "cell_type": "code",
      "source": [
        "try:\n",
        "  result=10/2\n",
        "except ZeroDivisionError:\n",
        "  print(\"error\")\n",
        "else:\n",
        "  print(\"result\",result)"
      ],
      "metadata": {
        "colab": {
          "base_uri": "https://localhost:8080/"
        },
        "id": "kEox6w2hzhO7",
        "outputId": "4dd741f0-3574-4251-e414-cb7944da121b"
      },
      "execution_count": null,
      "outputs": [
        {
          "output_type": "stream",
          "name": "stdout",
          "text": [
            "result 5.0\n"
          ]
        }
      ]
    },
    {
      "cell_type": "code",
      "source": [
        "try:\n",
        "  file=open(\"data.txt\",\"r\")\n",
        "except FileNotFoundError:\n",
        "  print(\"file not found!\")\n",
        "finally:\n",
        "  print(\"end of program\")"
      ],
      "metadata": {
        "colab": {
          "base_uri": "https://localhost:8080/"
        },
        "id": "b4kU10Ysz88L",
        "outputId": "eef30749-4ff7-447d-932b-44e8e338b0bd"
      },
      "execution_count": null,
      "outputs": [
        {
          "output_type": "stream",
          "name": "stdout",
          "text": [
            "file not found!\n",
            "end of program\n"
          ]
        }
      ]
    },
    {
      "cell_type": "code",
      "source": [
        "try:\n",
        "  open(\"nonexistnt_file.txt\")\n",
        "except FileNotFoundError as e:\n",
        "  print(e)"
      ],
      "metadata": {
        "colab": {
          "base_uri": "https://localhost:8080/"
        },
        "id": "46y7Ryyh0wST",
        "outputId": "2e5ada86-7a5e-4f8a-a16c-fc9e9d9f4e05"
      },
      "execution_count": null,
      "outputs": [
        {
          "output_type": "stream",
          "name": "stdout",
          "text": [
            "[Errno 2] No such file or directory: 'nonexistnt_file.txt'\n"
          ]
        }
      ]
    },
    {
      "cell_type": "code",
      "source": [
        "age=int(input(\"enter your age\"))\n",
        "if age<0:\n",
        "  raise ValueError(\"age cannot be negative\")\n",
        "else:\n",
        "  print(f\"your age is {age}\")\n",
        "print(\"not try exccept\")"
      ],
      "metadata": {
        "colab": {
          "base_uri": "https://localhost:8080/",
          "height": 228
        },
        "id": "pXY0pRyq1u76",
        "outputId": "de620138-dbf2-47d8-90d9-a6e598bfdc21"
      },
      "execution_count": null,
      "outputs": [
        {
          "name": "stdout",
          "output_type": "stream",
          "text": [
            "enter your age-1\n"
          ]
        },
        {
          "output_type": "error",
          "ename": "ValueError",
          "evalue": "age cannot be negative",
          "traceback": [
            "\u001b[0;31m---------------------------------------------------------------------------\u001b[0m",
            "\u001b[0;31mValueError\u001b[0m                                Traceback (most recent call last)",
            "\u001b[0;32m/tmp/ipython-input-77819463.py\u001b[0m in \u001b[0;36m<cell line: 0>\u001b[0;34m()\u001b[0m\n\u001b[1;32m      1\u001b[0m \u001b[0mage\u001b[0m\u001b[0;34m=\u001b[0m\u001b[0mint\u001b[0m\u001b[0;34m(\u001b[0m\u001b[0minput\u001b[0m\u001b[0;34m(\u001b[0m\u001b[0;34m\"enter your age\"\u001b[0m\u001b[0;34m)\u001b[0m\u001b[0;34m)\u001b[0m\u001b[0;34m\u001b[0m\u001b[0;34m\u001b[0m\u001b[0m\n\u001b[1;32m      2\u001b[0m \u001b[0;32mif\u001b[0m \u001b[0mage\u001b[0m\u001b[0;34m<\u001b[0m\u001b[0;36m0\u001b[0m\u001b[0;34m:\u001b[0m\u001b[0;34m\u001b[0m\u001b[0;34m\u001b[0m\u001b[0m\n\u001b[0;32m----> 3\u001b[0;31m   \u001b[0;32mraise\u001b[0m \u001b[0mValueError\u001b[0m\u001b[0;34m(\u001b[0m\u001b[0;34m\"age cannot be negative\"\u001b[0m\u001b[0;34m)\u001b[0m\u001b[0;34m\u001b[0m\u001b[0;34m\u001b[0m\u001b[0m\n\u001b[0m\u001b[1;32m      4\u001b[0m \u001b[0;32melse\u001b[0m\u001b[0;34m:\u001b[0m\u001b[0;34m\u001b[0m\u001b[0;34m\u001b[0m\u001b[0m\n\u001b[1;32m      5\u001b[0m   \u001b[0mprint\u001b[0m\u001b[0;34m(\u001b[0m\u001b[0;34mf\"your age is {age}\"\u001b[0m\u001b[0;34m)\u001b[0m\u001b[0;34m\u001b[0m\u001b[0;34m\u001b[0m\u001b[0m\n",
            "\u001b[0;31mValueError\u001b[0m: age cannot be negative"
          ]
        }
      ]
    },
    {
      "cell_type": "code",
      "source": [
        "try:\n",
        "  age = int(input(\"Enter your age:\"))\n",
        "  if age<0:\n",
        "    raise ValueError(\"Age cannot be negative\")\n",
        "  else:\n",
        "    print(f\"Your age is{age}\")\n",
        "except ValueError as e:\n",
        "  print(e)\n",
        "print(\"try except finished\")"
      ],
      "metadata": {
        "colab": {
          "base_uri": "https://localhost:8080/"
        },
        "id": "on2JgmP52Ri8",
        "outputId": "52fc1cf2-5797-4bc5-b7ba-b6f2194307c7"
      },
      "execution_count": null,
      "outputs": [
        {
          "output_type": "stream",
          "name": "stdout",
          "text": [
            "Enter your age:-1\n",
            "Age cannot be negative\n",
            "try except finished\n"
          ]
        }
      ]
    },
    {
      "cell_type": "code",
      "source": [
        "class InvalidAgeException(Exception):\n",
        "  \"Raised when the input value is less than 18\"\n",
        "  pass\n",
        "# yout need to guess this number\n",
        "number=18\n",
        "try:\n",
        "  input_num = int(input(\"Enter a number: \"))\n",
        "  if input_num < number:\n",
        "    raise InvalidAgeException\n",
        "  else:\n",
        "    print(\"Eligible to Vote\")\n",
        "except InvalidAgeException:\n",
        "  print(\"Exception Occurred : Invalid Age\")"
      ],
      "metadata": {
        "colab": {
          "base_uri": "https://localhost:8080/"
        },
        "id": "N24-JtAx3IQ6",
        "outputId": "9639d927-e43b-4943-8cfd-887d633691b8"
      },
      "execution_count": null,
      "outputs": [
        {
          "output_type": "stream",
          "name": "stdout",
          "text": [
            "Enter a number: 2\n",
            "Exception Occurred : Invalid Age\n"
          ]
        }
      ]
    },
    {
      "cell_type": "markdown",
      "source": [
        "## File handling"
      ],
      "metadata": {
        "id": "_mN5OeZI_kVV"
      }
    },
    {
      "cell_type": "code",
      "source": [
        "file = open(\"example.txt\", \"r\")\n",
        "content = file.read()\n",
        "print(content)\n",
        "file.close()\n"
      ],
      "metadata": {
        "colab": {
          "base_uri": "https://localhost:8080/"
        },
        "id": "Ryq1piH9_tUV",
        "outputId": "d71c3340-cedd-4114-c214-6e130615edb6"
      },
      "execution_count": null,
      "outputs": [
        {
          "output_type": "stream",
          "name": "stdout",
          "text": [
            "Hello, World!\n",
            " New line added\n",
            " New line added\n"
          ]
        }
      ]
    },
    {
      "cell_type": "code",
      "source": [
        "file = open(\"example.txt\", \"w\")\n",
        "file.write(\"Hello, World!\")\n",
        "file.close()"
      ],
      "metadata": {
        "id": "QODn3c-r_5hO"
      },
      "execution_count": null,
      "outputs": []
    },
    {
      "cell_type": "code",
      "source": [
        "file=open(\"example.txt\",\"a\")\n",
        "file.write(\"\\n New line added\")\n",
        "file.close()"
      ],
      "metadata": {
        "id": "ofGm9EglAwRF"
      },
      "execution_count": null,
      "outputs": []
    },
    {
      "cell_type": "code",
      "source": [
        "with open(\"example.txt\",\"r\") as file:\n",
        "  content=file.read()\n",
        "  print(content)"
      ],
      "metadata": {
        "colab": {
          "base_uri": "https://localhost:8080/"
        },
        "id": "e_kmQoP9BFBd",
        "outputId": "f9f43294-2803-4d6f-a4ce-ae8b52523d93"
      },
      "execution_count": null,
      "outputs": [
        {
          "output_type": "stream",
          "name": "stdout",
          "text": [
            "Hello, World!\n",
            " New line added\n",
            " New line added\n"
          ]
        }
      ]
    },
    {
      "cell_type": "code",
      "source": [
        "import os\n",
        "if os.path.exists(\"example.txt\"):\n",
        "  print(\"file exists\")\n",
        "else:\n",
        "  print(\"file does not exists\")"
      ],
      "metadata": {
        "colab": {
          "base_uri": "https://localhost:8080/"
        },
        "id": "K3UFNKVBBtY3",
        "outputId": "b590dc8f-ba1b-45d8-a8f3-1670156e4035"
      },
      "execution_count": null,
      "outputs": [
        {
          "output_type": "stream",
          "name": "stdout",
          "text": [
            "file exists\n"
          ]
        }
      ]
    },
    {
      "cell_type": "code",
      "source": [
        "import os\n",
        "os.remove(\"example.txt\")"
      ],
      "metadata": {
        "id": "lBBVj-63CJ8t"
      },
      "execution_count": null,
      "outputs": []
    },
    {
      "cell_type": "markdown",
      "source": [
        "## Regular Expression"
      ],
      "metadata": {
        "id": "P2bDEAJ7VliD"
      }
    },
    {
      "cell_type": "code",
      "source": [
        "import re\n",
        "match =re.search(r'world','hello world')\n",
        "if match:\n",
        "  print(\"found:\",match.group())\n"
      ],
      "metadata": {
        "colab": {
          "base_uri": "https://localhost:8080/"
        },
        "id": "gkQfs7LSVptr",
        "outputId": "f8ba0e24-ccd6-4e42-edd3-8b7b7b3e781d"
      },
      "execution_count": null,
      "outputs": [
        {
          "output_type": "stream",
          "name": "stdout",
          "text": [
            "found: world\n"
          ]
        }
      ]
    },
    {
      "cell_type": "code",
      "source": [
        "result=re.findall(r'\\d+','there are 12 apples and 34 oranges')\n",
        "print(result)"
      ],
      "metadata": {
        "colab": {
          "base_uri": "https://localhost:8080/"
        },
        "id": "I43QE5tkWQA6",
        "outputId": "3bd45953-9489-4dd0-a8e7-07b73074ee80"
      },
      "execution_count": null,
      "outputs": [
        {
          "output_type": "stream",
          "name": "stdout",
          "text": [
            "['12', '34']\n"
          ]
        }
      ]
    },
    {
      "cell_type": "code",
      "source": [
        "text= re.sub(r'\\d+','NUM','There are 3 cats and 4 dogs')\n",
        "print(text)"
      ],
      "metadata": {
        "colab": {
          "base_uri": "https://localhost:8080/"
        },
        "id": "Bt7A-RMeWsWR",
        "outputId": "9509b18c-cd7d-4b05-c237-b01c291a39c2"
      },
      "execution_count": null,
      "outputs": [
        {
          "output_type": "stream",
          "name": "stdout",
          "text": [
            "There are NUM cats and NUM dogs\n"
          ]
        }
      ]
    },
    {
      "cell_type": "code",
      "source": [
        "parts = re.split(r'\\s+', 'Split this   sentence by whitespace')\n",
        "print(parts)"
      ],
      "metadata": {
        "colab": {
          "base_uri": "https://localhost:8080/"
        },
        "id": "rAl7emKuXGF0",
        "outputId": "7455909c-924e-4ed0-a6c6-a8d1d7f860ec"
      },
      "execution_count": null,
      "outputs": [
        {
          "output_type": "stream",
          "name": "stdout",
          "text": [
            "['Split', 'this', 'sentence', 'by', 'whitespace']\n"
          ]
        }
      ]
    },
    {
      "cell_type": "code",
      "source": [
        "re.search(\"\\\\d\", \"123\")"
      ],
      "metadata": {
        "colab": {
          "base_uri": "https://localhost:8080/"
        },
        "id": "gQvhXg3bXSBj",
        "outputId": "bb2ed54b-abe7-455b-d5d1-4b161d8a2e3e"
      },
      "execution_count": null,
      "outputs": [
        {
          "output_type": "execute_result",
          "data": {
            "text/plain": [
              "<re.Match object; span=(0, 1), match='1'>"
            ]
          },
          "metadata": {},
          "execution_count": 5
        }
      ]
    },
    {
      "cell_type": "code",
      "source": [
        "re.search(r\"\\d\", \"123\")"
      ],
      "metadata": {
        "colab": {
          "base_uri": "https://localhost:8080/"
        },
        "id": "b-hRLCrBXTgR",
        "outputId": "6746e5aa-e315-4f2e-86f6-5f9b7c795de4"
      },
      "execution_count": null,
      "outputs": [
        {
          "output_type": "execute_result",
          "data": {
            "text/plain": [
              "<re.Match object; span=(0, 1), match='1'>"
            ]
          },
          "metadata": {},
          "execution_count": 6
        }
      ]
    },
    {
      "cell_type": "code",
      "source": [
        "pattern = r'^[\\w\\.-]+@[\\w\\.-]+\\.\\w+$'\n",
        "email = \"test@example.com\"\n",
        "if re.match(pattern, email):\n",
        "    print(\"Valid email\")"
      ],
      "metadata": {
        "colab": {
          "base_uri": "https://localhost:8080/"
        },
        "id": "NyEeeqjKXaBL",
        "outputId": "00c7a02c-335f-4d6d-979f-52913ce867fb"
      },
      "execution_count": null,
      "outputs": [
        {
          "output_type": "stream",
          "name": "stdout",
          "text": [
            "Valid email\n"
          ]
        }
      ]
    },
    {
      "cell_type": "code",
      "source": [
        "import re\n",
        "txt=\"the rain in  spain\"\n",
        "x=re.findall('ai',txt)\n",
        "print(x)"
      ],
      "metadata": {
        "colab": {
          "base_uri": "https://localhost:8080/"
        },
        "id": "AokQsKB6cY0T",
        "outputId": "7f0d289b-cf21-4307-84dd-b1958e4a56f1"
      },
      "execution_count": null,
      "outputs": [
        {
          "output_type": "stream",
          "name": "stdout",
          "text": [
            "['ai', 'ai']\n"
          ]
        }
      ]
    },
    {
      "cell_type": "code",
      "source": [
        "txt=\"The rain in Spain\"\n",
        "x=re.findall(\"Portugal\",txt)\n",
        "print(x)\n",
        "if(x):\n",
        "  print(\"yes,there is atleast one match\")\n",
        "else:\n",
        "  print(\"no match\")"
      ],
      "metadata": {
        "colab": {
          "base_uri": "https://localhost:8080/"
        },
        "id": "98t96bWNczeT",
        "outputId": "d6c3a074-b864-4020-f375-399c52055a19"
      },
      "execution_count": null,
      "outputs": [
        {
          "output_type": "stream",
          "name": "stdout",
          "text": [
            "[]\n",
            "no match\n"
          ]
        }
      ]
    },
    {
      "cell_type": "code",
      "source": [
        "import re\n",
        "txt=\"The rain in spain\"\n",
        "x=re.search(\"\\s\",txt)\n",
        "print(\"the first white-space character is located in position\",x.start())"
      ],
      "metadata": {
        "colab": {
          "base_uri": "https://localhost:8080/"
        },
        "id": "0uNROHhadelx",
        "outputId": "89e89ad8-afbd-4d88-ea1e-a0508bf1f516"
      },
      "execution_count": null,
      "outputs": [
        {
          "output_type": "stream",
          "name": "stdout",
          "text": [
            "the first white-space character is located in position 3\n"
          ]
        }
      ]
    },
    {
      "cell_type": "code",
      "source": [
        "#split the string only at the first occurance\n",
        "import re\n",
        "txt=\"The rain in spain\"\n",
        "x=re.split(\"\\s\",txt,1)\n",
        "print(x)"
      ],
      "metadata": {
        "colab": {
          "base_uri": "https://localhost:8080/"
        },
        "id": "kqkgXPOtehlr",
        "outputId": "d0f4c5b8-d8cf-4bac-e140-b086de444b6c"
      },
      "execution_count": null,
      "outputs": [
        {
          "output_type": "stream",
          "name": "stdout",
          "text": [
            "['The', 'rain in spain']\n"
          ]
        }
      ]
    },
    {
      "cell_type": "code",
      "source": [
        "#replace all white-space characters with digit \"9\":\n",
        "txt=\"the rain in spain\"\n",
        "x=re.sub(\"\\s\",\"9\",txt)\n",
        "print(x)"
      ],
      "metadata": {
        "colab": {
          "base_uri": "https://localhost:8080/"
        },
        "id": "cSy6y-WCfCS8",
        "outputId": "11ce2f44-535e-4599-851c-d419458eef59"
      },
      "execution_count": null,
      "outputs": [
        {
          "output_type": "stream",
          "name": "stdout",
          "text": [
            "the9rain9in9spain\n"
          ]
        }
      ]
    },
    {
      "cell_type": "code",
      "source": [
        "#replace the first two occurances\n",
        "import re\n",
        "txt=\"the rain in spain\"\n",
        "x=re.sub(\"\\s\",\"9\",txt,2)\n",
        "print(x)"
      ],
      "metadata": {
        "colab": {
          "base_uri": "https://localhost:8080/"
        },
        "id": "v5IDL8K7fed9",
        "outputId": "07d302c8-56df-4b21-c54b-f643d026ffac"
      },
      "execution_count": null,
      "outputs": [
        {
          "output_type": "stream",
          "name": "stdout",
          "text": [
            "the9rain9in spain\n"
          ]
        }
      ]
    },
    {
      "cell_type": "code",
      "source": [
        "import re\n",
        "txt=\"the rain in Spain\"\n",
        "x=re.search(r\"\\bS\\w+\",txt)\n",
        "print(x.span())"
      ],
      "metadata": {
        "colab": {
          "base_uri": "https://localhost:8080/"
        },
        "id": "PuxwZlocf2gs",
        "outputId": "c420d60f-8a46-4edc-dd3c-aafa726e3a77"
      },
      "execution_count": null,
      "outputs": [
        {
          "output_type": "stream",
          "name": "stdout",
          "text": [
            "(12, 17)\n"
          ]
        }
      ]
    },
    {
      "cell_type": "markdown",
      "source": [
        "validate an email address"
      ],
      "metadata": {
        "id": "74TEBqNti3B5"
      }
    },
    {
      "cell_type": "code",
      "source": [
        "import re\n",
        "def validate(email):\n",
        "  pattern = r'^[a-zA-Z0-9._%+-]+@[a-zA-Z0-9.-]+\\.[a-zA-Z]{2,}$'\n",
        "  if re.match(pattern, email):\n",
        "    print(\"It is a valid email.\")\n",
        "  else:\n",
        "    print(\"It is an invalid email.\")\n",
        "validate(\"aiswarya@gmail.com\")\n",
        "\n"
      ],
      "metadata": {
        "colab": {
          "base_uri": "https://localhost:8080/"
        },
        "id": "9ozO4SCIi8Km",
        "outputId": "ea13e85c-8154-43b0-a501-18c51123b012"
      },
      "execution_count": null,
      "outputs": [
        {
          "output_type": "stream",
          "name": "stdout",
          "text": [
            "It is a valid email.\n"
          ]
        }
      ]
    },
    {
      "cell_type": "markdown",
      "source": [
        "Input: \"Hello world! Welcome to the world of Python.\"\n",
        "\n",
        "Replace \"world\" with \"universe\".\n",
        "\n",
        "Output: \"Hello universe! Welcome to the universe of Python.\""
      ],
      "metadata": {
        "id": "1-o4kNmDlhY9"
      }
    },
    {
      "cell_type": "code",
      "source": [
        "import re\n",
        "text =\"Hello world! Welcome to the world of Python.\"\n",
        "new_text =re.sub(r\"world\", \"universe\", text)\n",
        "print(new_text)"
      ],
      "metadata": {
        "colab": {
          "base_uri": "https://localhost:8080/"
        },
        "id": "mvPYfzRrlj_7",
        "outputId": "17480ca3-6608-4079-8aac-76977d7901c7"
      },
      "execution_count": null,
      "outputs": [
        {
          "output_type": "stream",
          "name": "stdout",
          "text": [
            "Hello universe! Welcome to the universe of Python.\n"
          ]
        }
      ]
    },
    {
      "cell_type": "markdown",
      "source": [
        "Write a Python program that extracts all valid phone numbers from a text. Assume valid phone numbers are of the format (XXX) XXX-XXXX or XXX-XXX-XXXX."
      ],
      "metadata": {
        "id": "s9V2LSlRmO39"
      }
    },
    {
      "cell_type": "code",
      "source": [
        "import re\n",
        "text = \"Call us at (123) 456-7890 or 987-654-3210.\"\n",
        "pattern =r'\\(?\\d{3}\\)?[-.\\s]?\\d{3}[-.\\s]?\\d{4}'\n",
        "phone_numbers = re.findall(pattern, text)\n",
        "print(phone_numbers)"
      ],
      "metadata": {
        "colab": {
          "base_uri": "https://localhost:8080/"
        },
        "collapsed": true,
        "id": "g8iKhOsxmDTT",
        "outputId": "f15d4034-bf43-4c00-89c9-7a345bee48aa"
      },
      "execution_count": null,
      "outputs": [
        {
          "output_type": "stream",
          "name": "stdout",
          "text": [
            "['(123) 456-7890', '987-654-3210']\n"
          ]
        }
      ]
    },
    {
      "cell_type": "markdown",
      "source": [
        " Count the Number of Vowels in a String"
      ],
      "metadata": {
        "id": "_c4bNRkqnHia"
      }
    },
    {
      "cell_type": "code",
      "source": [
        "import re\n",
        "def count_vowels(text):\n",
        "  pattern = r'[aeiouAEIOU]'\n",
        "  return len(re.findall(pattern, text))\n",
        "print(count_vowels(\"Hello World\"))\n"
      ],
      "metadata": {
        "colab": {
          "base_uri": "https://localhost:8080/"
        },
        "id": "fKeT178BoGzP",
        "outputId": "9f2683a3-4555-4c9b-9d3c-dec7d8d7a7e7"
      },
      "execution_count": null,
      "outputs": [
        {
          "output_type": "stream",
          "name": "stdout",
          "text": [
            "3\n"
          ]
        }
      ]
    },
    {
      "cell_type": "markdown",
      "source": [
        "Extract Dates in DD/MM/YYYY Format\n",
        "Write a Python program that extracts all dates in the format DD/MM/YYYY from a given text."
      ],
      "metadata": {
        "id": "6NT3-VJ0oWiv"
      }
    },
    {
      "cell_type": "code",
      "source": [
        "import re\n",
        "def extract_dates(text):\n",
        "  pattern = r'\\b\\d{2}/\\d{2}/\\d{4}\\b'\n",
        "  return re.findall(pattern, text)\n",
        "text = \"The event is on 12/05/2023, and the deadline is 20/06/2023.\"\n",
        "print(extract_dates(text))\n"
      ],
      "metadata": {
        "colab": {
          "base_uri": "https://localhost:8080/"
        },
        "id": "JAhstUh1pLwL",
        "outputId": "ce6d74d5-2062-4631-e77e-ea2cb488b30a"
      },
      "execution_count": null,
      "outputs": [
        {
          "output_type": "stream",
          "name": "stdout",
          "text": [
            "['12/05/2023', '20/06/2023']\n"
          ]
        }
      ]
    },
    {
      "cell_type": "markdown",
      "source": [
        " Extract All Words Starting with a Specific Letter\n",
        "Write a Python program that extracts all words starting with a specific letter (e.g., s) from a given sentence using regular expressions.\n",
        "\n",
        "Example:\n",
        "\n",
        "Input: \"She sells seashells by the seashore\"\n",
        "\n",
        "Output: ['She', 'sells', 'seashells', 'seashore']"
      ],
      "metadata": {
        "id": "iTUftaobpYRy"
      }
    },
    {
      "cell_type": "code",
      "source": [
        "import re\n",
        "txt=\"She sells seashells by the seashore\"\n",
        "pattern= r'\\b[Ss]\\w*\\b'\n",
        "words_s = re.findall(pattern, txt)\n",
        "print(words_s)"
      ],
      "metadata": {
        "colab": {
          "base_uri": "https://localhost:8080/"
        },
        "id": "wf-EPRYAq2Zk",
        "outputId": "ec1c241f-31a9-4506-ab37-bd0f643ade39"
      },
      "execution_count": null,
      "outputs": [
        {
          "output_type": "stream",
          "name": "stdout",
          "text": [
            "['She', 'sells', 'seashells', 'seashore']\n"
          ]
        }
      ]
    },
    {
      "cell_type": "markdown",
      "source": [
        "Write a Python program that validates if a given password is strong. A strong password is one that:\n",
        "\n",
        "Has at least 8 characters.\n",
        "\n",
        "Contains both uppercase and lowercase characters.\n",
        "\n",
        "Has at least one digit.\n",
        "\n",
        "Contains at least one special character (e.g., @, #, $).\n"
      ],
      "metadata": {
        "id": "T3WFb8SopZvG"
      }
    },
    {
      "cell_type": "code",
      "source": [
        "import re\n",
        "def validate(password):\n",
        "  pattern=r'[a-zA-Z0-9#@!$%&*]'\n",
        "  if len(password)<8:\n",
        "    print(\"not valid as password should have least 8 characters\")\n",
        "  elif re.match(pattern,password):\n",
        "    print(\"its a valid password...\")\n",
        "  else:\n",
        "    (\"invalid password\")\n",
        "validate(\"Ais\")"
      ],
      "metadata": {
        "colab": {
          "base_uri": "https://localhost:8080/"
        },
        "id": "Z1f2_l0IxXLM",
        "outputId": "47efb25c-616e-4c78-db2b-fdba7ab381e3"
      },
      "execution_count": null,
      "outputs": [
        {
          "output_type": "stream",
          "name": "stdout",
          "text": [
            "not valid as password should have least 8 characters\n"
          ]
        }
      ]
    },
    {
      "cell_type": "markdown",
      "source": [
        "Write a program that extracts all words ending with a given letter (e.g., e) from a sentence.\n",
        "\n",
        "Input: \"Nice people smile and care\"\n",
        "Output: ['Nice', 'people', 'smile', 'care']"
      ],
      "metadata": {
        "id": "_mahZOgQ1WlI"
      }
    },
    {
      "cell_type": "code",
      "source": [
        "import re\n",
        "text=\"Nice people smile and care\"\n",
        "letter='e'\n",
        "words=re.findall(rf'\\b\\w*{letter}\\b', text, re.IGNORECASE)\n",
        "print(words)\n",
        "\n",
        "\n"
      ],
      "metadata": {
        "colab": {
          "base_uri": "https://localhost:8080/"
        },
        "id": "540nZtbb1XxX",
        "outputId": "3724e8e0-eae7-441b-9717-a68a811dc9fb"
      },
      "execution_count": null,
      "outputs": [
        {
          "output_type": "stream",
          "name": "stdout",
          "text": [
            "['Nice', 'people', 'smile', 'care']\n"
          ]
        }
      ]
    },
    {
      "cell_type": "markdown",
      "source": [
        "Extract Words with a Specific Length\n",
        "Input: \"These apples taste great and juicy\"\n",
        "Length: 5"
      ],
      "metadata": {
        "id": "NnL97_CJ2fEj"
      }
    },
    {
      "cell_type": "code",
      "source": [
        "import re\n",
        "txt=\"These apples taste great and juicy\"\n",
        "length=5\n",
        "words=re.findall(rf'\\b\\w{{{length}}}\\b',txt)\n",
        "print(words)"
      ],
      "metadata": {
        "colab": {
          "base_uri": "https://localhost:8080/"
        },
        "id": "5bQ9IFr15YVl",
        "outputId": "a5b4f45c-ad78-4b41-966b-db3ea2ea7f35"
      },
      "execution_count": null,
      "outputs": [
        {
          "output_type": "stream",
          "name": "stdout",
          "text": [
            "['These', 'taste', 'great', 'juicy']\n"
          ]
        }
      ]
    },
    {
      "cell_type": "markdown",
      "source": [
        " Extract Capitalized Words..........\n",
        "Input: \"Alice and Bob went to New York\""
      ],
      "metadata": {
        "id": "9ien04BL56tJ"
      }
    },
    {
      "cell_type": "code",
      "source": [
        "import re\n",
        "txt=\"Alice and Bob went to New York\"\n",
        "pattern=re.findall(rf'\\b[A-Z][a-z]*\\b',txt)\n",
        "print(pattern)"
      ],
      "metadata": {
        "colab": {
          "base_uri": "https://localhost:8080/"
        },
        "id": "M2wM0K906Bsq",
        "outputId": "163b2fa7-2062-4e01-c5fa-f6ece5e44d6e"
      },
      "execution_count": null,
      "outputs": [
        {
          "output_type": "stream",
          "name": "stdout",
          "text": [
            "['Alice', 'Bob', 'New', 'York']\n"
          ]
        }
      ]
    },
    {
      "cell_type": "markdown",
      "source": [
        "Extract Words Containing a Substring---------\n",
        "Input: \"I am singing while walking and running\"---\n",
        "Substring: 'ing'"
      ],
      "metadata": {
        "id": "WFLT-vlv7Too"
      }
    },
    {
      "cell_type": "code",
      "source": [
        "import re\n",
        "txt=\"I am singing while walking and running\"\n",
        "substring=\"ing\"\n",
        "pattern=re.findall(rf'\\b\\w*{substring}\\w*\\b',txt)\n",
        "print(pattern)"
      ],
      "metadata": {
        "colab": {
          "base_uri": "https://localhost:8080/"
        },
        "id": "SoqeAD1W7h6n",
        "outputId": "a4e377ee-c8e6-4ca1-9878-1d3014073874"
      },
      "execution_count": null,
      "outputs": [
        {
          "output_type": "stream",
          "name": "stdout",
          "text": [
            "['singing', 'walking', 'running']\n"
          ]
        }
      ]
    },
    {
      "cell_type": "markdown",
      "source": [
        "Extract words that are made up of only vowels (a, e, i, o, u).\n",
        "\n",
        "Input: \"I owe you an idea of aura\"\n",
        "Output: ['I', 'owe', 'you', 'a', 'aura']"
      ],
      "metadata": {
        "id": "srzEw-Xj9WR4"
      }
    },
    {
      "cell_type": "code",
      "source": [
        "import re\n",
        "\n",
        "text = \"i owe you an idea of aeiou\"\n",
        "\n",
        "# Match words containing at least one vowel\n",
        "vowel_words = re.findall(r'\\b\\w*[aeiouAEIOU]\\w*\\b', text)\n",
        "\n",
        "print(vowel_words)"
      ],
      "metadata": {
        "colab": {
          "base_uri": "https://localhost:8080/"
        },
        "id": "hSoTvA_rB-Lg",
        "outputId": "b7ebe421-f154-477f-c399-d1aad7615e38"
      },
      "execution_count": null,
      "outputs": [
        {
          "output_type": "stream",
          "name": "stdout",
          "text": [
            "['i', 'owe', 'you', 'an', 'idea', 'of', 'aeiou']\n"
          ]
        }
      ]
    }
  ]
}